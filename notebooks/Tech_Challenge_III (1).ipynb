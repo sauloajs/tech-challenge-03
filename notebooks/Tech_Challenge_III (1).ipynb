{
  "nbformat": 4,
  "nbformat_minor": 0,
  "metadata": {
    "colab": {
      "provenance": [],
      "collapsed_sections": [
        "Y73NG731Dho8",
        "zWkWq0thGmbf",
        "0gGotSQ2IJms",
        "ZjOU60mZJGRJ",
        "mzWTvpVPJwwT",
        "mNVkP-pAJhAj",
        "pvJHZ5FPJnzo"
      ]
    },
    "kernelspec": {
      "name": "python3",
      "display_name": "Python 3"
    },
    "language_info": {
      "name": "python"
    }
  },
  "cells": [
    {
      "cell_type": "code",
      "execution_count": 27,
      "metadata": {
        "id": "2jGlY2WagF-o"
      },
      "outputs": [],
      "source": [
        "!pip install pyspark --quiet\n",
        "!pip install findspark --quiet"
      ]
    },
    {
      "cell_type": "code",
      "source": [
        "import pyspark\n",
        "from pyspark.sql import SparkSession\n",
        "import pandas as pd\n",
        "import matplotlib.pyplot as plt\n",
        "from pyspark.sql.functions import lit, desc, asc, round"
      ],
      "metadata": {
        "id": "e9YCX6xvjMkn"
      },
      "execution_count": 28,
      "outputs": []
    },
    {
      "cell_type": "code",
      "source": [
        "spark = SparkSession.builder.appName('tech_challenge').getOrCreate()"
      ],
      "metadata": {
        "id": "RBS7PbQCjlvn"
      },
      "execution_count": 29,
      "outputs": []
    },
    {
      "cell_type": "code",
      "source": [
        "# df = spark.read.csv('PNAD_112020.csv', sep=',')"
      ],
      "metadata": {
        "id": "enow9XvbjvpV"
      },
      "execution_count": 30,
      "outputs": []
    },
    {
      "cell_type": "code",
      "source": [
        "# df.createOrReplaceTempView('pnad')"
      ],
      "metadata": {
        "id": "GCabfTWej5Yj"
      },
      "execution_count": 31,
      "outputs": []
    },
    {
      "cell_type": "code",
      "source": [
        "# dfTest = spark.sql(\"SELECT COUNT(*) from pnad\")\n",
        "# dfTest"
      ],
      "metadata": {
        "id": "uEmtsJD9lE10"
      },
      "execution_count": 32,
      "outputs": []
    },
    {
      "cell_type": "code",
      "source": [
        "# pd_df = pd.read_csv('PNAD_COVID_112020.csv')"
      ],
      "metadata": {
        "id": "puXkpMgVllbf"
      },
      "execution_count": 33,
      "outputs": []
    },
    {
      "cell_type": "code",
      "source": [
        "# pd_df['B005'].isnull().sum()"
      ],
      "metadata": {
        "id": "G682zl4Dlyqk"
      },
      "execution_count": 34,
      "outputs": []
    },
    {
      "cell_type": "code",
      "source": [
        "interested_columns = [\n",
        "    'Ano',\n",
        "    'UF',\n",
        "    'CAPITAL',\n",
        "    'RM_RIDE',\n",
        "    'V1008',\n",
        "    'V1012',\n",
        "    'V1013',\n",
        "    'V1016',\n",
        "    'Estrato',\n",
        "    'UPA',\n",
        "    'V1022',\n",
        "    'V1023',\n",
        "    'V1030',\n",
        "    'V1031',\n",
        "    'V1032',\n",
        "    'posest',\n",
        "    'B0011',\n",
        "    'B0012',\n",
        "    'B0014',\n",
        "    'B002',\n",
        "    'B0031',\n",
        "    'B0042',\n",
        "    'B005',\n",
        "    'B0033',\n",
        "    'C001',\n",
        "    'C002',\n",
        "    'C013',\n",
        "    'C014',\n",
        "    'C015',\n",
        "    'C016',\n",
        "    'D0051',\n",
        "    'D0041',\n",
        "    'D0021',\n",
        "    'D0071',\n",
        "    'D0061',\n",
        "    'D0031',\n",
        "    'D0011'\n",
        "]"
      ],
      "metadata": {
        "id": "-P3hO5GwmUqW"
      },
      "execution_count": 35,
      "outputs": []
    },
    {
      "cell_type": "code",
      "source": [
        "# pd_df = pd_df[interested_columns]"
      ],
      "metadata": {
        "id": "XZ4z9_UanH7T"
      },
      "execution_count": 36,
      "outputs": []
    },
    {
      "cell_type": "code",
      "source": [
        "# pd_df.columns"
      ],
      "metadata": {
        "id": "ZYpsbByAnSSi"
      },
      "execution_count": 37,
      "outputs": []
    },
    {
      "cell_type": "code",
      "source": [
        "# pd_df.to_csv('PNAD_112020_RECORTE.csv')"
      ],
      "metadata": {
        "id": "dyt3jmjxogNU"
      },
      "execution_count": 38,
      "outputs": []
    },
    {
      "cell_type": "code",
      "source": [
        "pnad_spark = spark.read.csv('PNAD_112020_RECORTE.csv', header=True, inferSchema=True)\n",
        "\n",
        "pnad_spark.show()"
      ],
      "metadata": {
        "colab": {
          "base_uri": "https://localhost:8080/"
        },
        "id": "m-A0lzkYpJX8",
        "outputId": "e28246f9-e78e-455f-e512-78a25abbb6cf"
      },
      "execution_count": 39,
      "outputs": [
        {
          "output_type": "stream",
          "name": "stdout",
          "text": [
            "+---+----+---+-------+-------+-----+-----+-----+-----+-------+---------+-----+-----+------+------------+------------+------+-----+-----+-----+----+-----+-----+----+-----+----+----+----+----+----+----+-----+-----+-----+-----+-----+-----+-----+\n",
            "|_c0| Ano| UF|CAPITAL|RM_RIDE|V1008|V1012|V1013|V1016|Estrato|      UPA|V1022|V1023| V1030|       V1031|       V1032|posest|B0011|B0012|B0014|B002|B0031|B0042|B005|B0033|C001|C002|C013|C014|C015|C016|D0051|D0041|D0021|D0071|D0061|D0031|D0011|\n",
            "+---+----+---+-------+-------+-----+-----+-----+-----+-------+---------+-----+-----+------+------------+------------+------+-----+-----+-----+----+-----+-----+----+-----+----+----+----+----+----+----+-----+-----+-----+-----+-----+-----+-----+\n",
            "|  0|2020| 11|   11.0|   NULL|    1|    4|   11|    7|1110011|110015970|    1|    1|152902|101.01170275|117.46371855|  1114|    2|    2|    2|NULL| NULL| NULL|NULL| NULL| 1.0|NULL|NULL|NULL|NULL|NULL|    1|    2|    2|    2|    2|    2|    2|\n",
            "|  1|2020| 11|   11.0|   NULL|    1|    4|   11|    7|1110011|110015970|    1|    1|150835|101.01170275|125.75120197|  1124|    2|    2|    2|NULL| NULL| NULL|NULL| NULL| 1.0|NULL|NULL| 2.0|NULL|NULL|    1|    2|    2|    2|    2|    2|    2|\n",
            "|  2|2020| 11|   11.0|   NULL|    1|    4|   11|    7|1110011|110015970|    1|    1|144737|101.01170275|131.36101755|  1112|    2|    2|    2|NULL| NULL| NULL|NULL| NULL|NULL|NULL|NULL|NULL|NULL|NULL|    1|    2|    2|    2|    2|    2|    2|\n",
            "|  3|2020| 11|   11.0|   NULL|    1|    4|   11|    7|1110011|110015970|    1|    1|144737|101.01170275|131.36101755|  1112|    2|    2|    2|NULL| NULL| NULL|NULL| NULL|NULL|NULL|NULL|NULL|NULL|NULL|    1|    2|    2|    2|    2|    2|    2|\n",
            "|  4|2020| 11|   11.0|   NULL|    2|    1|   11|    7|1110011|110015970|    1|    1| 92377|101.01170275|100.73351653|  1126|    2|    2|    2|NULL| NULL| NULL|NULL| NULL| 2.0| 2.0|NULL| 2.0| 2.0| 1.0|    2|    1|    2|    2|    2|    2|    2|\n",
            "|  5|2020| 11|   11.0|   NULL|    3|    2|   11|    7|1110011|110015970|    1|    1| 92377|101.01170275|100.73351653|  1126|    2|    2|    2|NULL| NULL| NULL|NULL| NULL| 1.0|NULL|NULL| 2.0|NULL|NULL|    2|    2|    2|    2|    2|    2|    1|\n",
            "|  6|2020| 11|   11.0|   NULL|    4|    4|   11|    7|1110011|110015970|    1|    1|123734|101.01170275|126.28010983|  1115|    2|    2|    2|NULL| NULL| NULL|NULL| NULL| 1.0|NULL|NULL| 2.0|NULL|NULL|    1|    2|    2|    2|    2|    2|    2|\n",
            "|  7|2020| 11|   11.0|   NULL|    4|    4|   11|    7|1110011|110015970|    1|    1|138562|101.01170275|117.95596542|  1122|    2|    2|    2|NULL| NULL| NULL|NULL| NULL| 2.0| 2.0|NULL| 2.0| 2.0| 3.0|    1|    2|    2|    2|    2|    2|    2|\n",
            "|  8|2020| 11|   11.0|   NULL|    4|    4|   11|    7|1110011|110015970|    1|    1|144737|101.01170275|131.36101755|  1112|    2|    2|    2|NULL| NULL| NULL|NULL| NULL|NULL|NULL|NULL|NULL|NULL|NULL|    1|    2|    2|    2|    2|    2|    2|\n",
            "|  9|2020| 11|   11.0|   NULL|    4|    4|   11|    7|1110011|110015970|    1|    1|134209|101.01170275|128.59813757|  1121|    2|    2|    2|NULL| NULL| NULL|NULL| NULL|NULL|NULL|NULL|NULL|NULL|NULL|    1|    2|    2|    2|    2|    2|    2|\n",
            "| 10|2020| 11|   11.0|   NULL|    4|    4|   11|    7|1110011|110015970|    1|    1|144737|101.01170275|131.36101755|  1112|    2|    2|    2|NULL| NULL| NULL|NULL| NULL|NULL|NULL|NULL|NULL|NULL|NULL|    1|    2|    2|    2|    2|    2|    2|\n",
            "| 11|2020| 11|   11.0|   NULL|    4|    4|   11|    7|1110011|110015970|    1|    1|157628|101.01170275|135.37637813|  1113|    2|    2|    2|NULL| NULL| NULL|NULL| NULL| 1.0|NULL|NULL| 2.0|NULL|NULL|    1|    2|    2|    2|    2|    2|    2|\n",
            "| 12|2020| 11|   11.0|   NULL|    4|    4|   11|    7|1110011|110015970|    1|    1|144737|101.01170275|131.36101755|  1112|    2|    2|    2|NULL| NULL| NULL|NULL| NULL| 2.0| 2.0|NULL| 2.0| 1.0|NULL|    1|    2|    2|    2|    2|    2|    2|\n",
            "| 13|2020| 11|   11.0|   NULL|    4|    4|   11|    7|1110011|110015970|    1|    1|138562|101.01170275|117.95596542|  1122|    2|    2|    2|NULL| NULL| NULL|NULL| NULL| 2.0| 2.0|NULL| 2.0| 2.0| 4.0|    1|    2|    2|    2|    2|    2|    2|\n",
            "| 14|2020| 11|   11.0|   NULL|    4|    4|   11|    7|1110011|110015970|    1|    1|150835|101.01170275|125.75120197|  1124|    2|    2|    2|NULL| NULL| NULL|NULL| NULL| 2.0| 2.0|NULL| 2.0| 2.0| 1.0|    1|    2|    2|    2|    2|    2|    2|\n",
            "| 15|2020| 11|   11.0|   NULL|    5|    3|   11|    7|1110011|110015970|    1|    1| 56976|101.01170275|99.758254891|  1117|    2|    2|    2|NULL| NULL| NULL|NULL| NULL| 1.0|NULL|NULL| 2.0|NULL|NULL|    1|    2|    2|    2|    2|    2|    2|\n",
            "| 16|2020| 11|   11.0|   NULL|    5|    3|   11|    7|1110011|110015970|    1|    1| 55810|101.01170275|93.292753733|  1127|    2|    2|    2|NULL| NULL| NULL|NULL| NULL| 2.0| 2.0|NULL| 2.0| 1.0|NULL|    1|    2|    2|    2|    2|    2|    2|\n",
            "| 17|2020| 11|   11.0|   NULL|    6|    2|   11|    7|1110011|110015970|    1|    1| 92377|101.01170275|100.73351653|  1126|    2|    2|    2|NULL| NULL| NULL|NULL| NULL| 2.0| 2.0|NULL| 2.0| 2.0| 8.0|    1|    2|    2|    2|    2|    2|    1|\n",
            "| 18|2020| 11|   11.0|   NULL|    6|    2|   11|    7|1110011|110015970|    1|    1| 96145|101.01170275|110.25274123|  1116|    2|    2|    2|NULL| NULL| NULL|NULL| NULL| 1.0|NULL|NULL| 2.0|NULL|NULL|    1|    2|    2|    2|    2|    2|    1|\n",
            "| 19|2020| 11|   11.0|   NULL|    6|    2|   11|    7|1110011|110015970|    1|    1|138562|101.01170275|117.95596542|  1122|    2|    2|    2|NULL| NULL| NULL|NULL| NULL| 2.0| 2.0|NULL| 2.0| 2.0| 2.0|    1|    2|    2|    2|    2|    2|    1|\n",
            "+---+----+---+-------+-------+-----+-----+-----+-----+-------+---------+-----+-----+------+------------+------------+------+-----+-----+-----+----+-----+-----+----+-----+----+----+----+----+----+----+-----+-----+-----+-----+-----+-----+-----+\n",
            "only showing top 20 rows\n",
            "\n"
          ]
        }
      ]
    },
    {
      "cell_type": "code",
      "source": [
        "pnad_spark.createOrReplaceTempView('pnad')"
      ],
      "metadata": {
        "id": "LCrQA4uRqLBz"
      },
      "execution_count": 40,
      "outputs": []
    },
    {
      "cell_type": "markdown",
      "source": [
        "# Parte B - COVID19 - Todos os moradores"
      ],
      "metadata": {
        "id": "XJyXOsMqDoCl"
      }
    },
    {
      "cell_type": "code",
      "source": [
        "defaultAnswers = {\n",
        "    1: 'Sim',\n",
        "    2: 'Não',\n",
        "    3: 'Não Sabe',\n",
        "    9: 'Ignorado',\n",
        "}\n",
        "\n",
        "def selectByVarCode(cod, answers = defaultAnswers):\n",
        "  cases = ['CASE']\n",
        "\n",
        "  for x in answers:\n",
        "    cases.append(f\"WHEN {cod} = '{x}' THEN '{answers[x]}'\")\n",
        "\n",
        "  return spark.sql(f\"SELECT UF, {' '.join(cases)} ELSE 'Não aplicável' END as answer FROM pnad\")"
      ],
      "metadata": {
        "id": "5gl_SU0QEMdQ"
      },
      "execution_count": 41,
      "outputs": []
    },
    {
      "cell_type": "code",
      "source": [
        "def summary(df):\n",
        "  print(f\"\"\"\n",
        "+-------------+------+\n",
        "   Answers: {df.count()}\n",
        "+-------------+------+\n",
        "  \"\"\")\n",
        "\n",
        "  df.groupBy('answer').count().show()\n",
        "\n",
        "  symptons_by_state = df.groupBy(\"UF\").count().withColumnRenamed('count', 'total')\n",
        "  symptons_by_state = symptons_by_state.join(\n",
        "      df.filter(df.answer == 'Sim').groupBy('UF').count().withColumnRenamed('count', 'positives'),\n",
        "      \"UF\",\n",
        "      \"INNER\"\n",
        "  )\n",
        "\n",
        "  symptons_by_state.select(\n",
        "      symptons_by_state.UF,\n",
        "      symptons_by_state.total,\n",
        "      symptons_by_state.positives,\n",
        "      (round((symptons_by_state.positives / symptons_by_state.total) * 100, 2)).alias('(%)'),\n",
        "  ).sort(desc('(%)')).show(27)"
      ],
      "metadata": {
        "id": "pgP3SJAZE_4d"
      },
      "execution_count": 42,
      "outputs": []
    },
    {
      "cell_type": "markdown",
      "source": [
        "## B1.B0011 - Na semana passada teve febre?\n",
        "\n",
        "![image.png](data:image/png;base64,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)"
      ],
      "metadata": {
        "id": "nnh1v6L3p0tV"
      }
    },
    {
      "cell_type": "code",
      "source": [
        "df_b0011 = selectByVarCode('B0011')\n",
        "summary(df_b0011)"
      ],
      "metadata": {
        "colab": {
          "base_uri": "https://localhost:8080/"
        },
        "id": "df08Tdwgpi_g",
        "outputId": "e0177e50-1be7-4cdf-d149-112c6d1be1d1"
      },
      "execution_count": 43,
      "outputs": [
        {
          "output_type": "stream",
          "name": "stdout",
          "text": [
            "\n",
            "+-------------+------+\n",
            "   Answers: 381438\n",
            "+-------------+------+\n",
            "  \n",
            "+--------+------+\n",
            "|  answer| count|\n",
            "+--------+------+\n",
            "|Ignorado|   984|\n",
            "|     Não|377080|\n",
            "|     Sim|  3168|\n",
            "|Não Sabe|   206|\n",
            "+--------+------+\n",
            "\n",
            "+---+-----+---------+----+\n",
            "| UF|total|positives| (%)|\n",
            "+---+-----+---------+----+\n",
            "| 16| 2472|       55|2.22|\n",
            "| 15|11878|      150|1.26|\n",
            "| 14| 5614|       64|1.14|\n",
            "| 21|20404|      220|1.08|\n",
            "| 13|10341|      111|1.07|\n",
            "| 41|19872|      186|0.94|\n",
            "| 52|14195|      132|0.93|\n",
            "| 26|17138|      157|0.92|\n",
            "| 24| 7775|       70| 0.9|\n",
            "| 32|15863|      142| 0.9|\n",
            "| 42|23432|      210| 0.9|\n",
            "| 50| 8657|       77|0.89|\n",
            "| 43|21931|      193|0.88|\n",
            "| 17| 5087|       43|0.85|\n",
            "| 12| 6102|       49| 0.8|\n",
            "| 51|11359|       91| 0.8|\n",
            "| 53| 6795|       51|0.75|\n",
            "| 31|34339|      254|0.74|\n",
            "| 22| 8480|       61|0.72|\n",
            "| 11| 6001|       43|0.72|\n",
            "| 25| 9873|       68|0.69|\n",
            "| 35|32104|      223|0.69|\n",
            "| 33|29065|      202|0.69|\n",
            "| 29|17063|      116|0.68|\n",
            "| 28| 8013|       48| 0.6|\n",
            "| 23|16182|       91|0.56|\n",
            "| 27|11403|       61|0.53|\n",
            "+---+-----+---------+----+\n",
            "\n"
          ]
        }
      ]
    },
    {
      "cell_type": "markdown",
      "source": [
        "## B1.B0012 Na semana passada teve tosse?\n",
        "\n",
        "![image.png](data:image/png;base64,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)"
      ],
      "metadata": {
        "id": "Y73NG731Dho8"
      }
    },
    {
      "cell_type": "code",
      "source": [
        "df_b0012 = selectByVarCode('B0012')\n",
        "summary(df_b0012)"
      ],
      "metadata": {
        "colab": {
          "base_uri": "https://localhost:8080/"
        },
        "id": "9Pa3SjYLEHZh",
        "outputId": "7e9597e4-a90e-4c8d-c394-f96c1b8d2004"
      },
      "execution_count": 44,
      "outputs": [
        {
          "output_type": "stream",
          "name": "stdout",
          "text": [
            "\n",
            "+-------------+------+\n",
            "   Answers: 381438\n",
            "+-------------+------+\n",
            "  \n",
            "+--------+------+\n",
            "|  answer| count|\n",
            "+--------+------+\n",
            "|Ignorado|   988|\n",
            "|     Não|374980|\n",
            "|     Sim|  5259|\n",
            "|Não Sabe|   211|\n",
            "+--------+------+\n",
            "\n",
            "+---+-----+---------+----+\n",
            "| UF|total|positives| (%)|\n",
            "+---+-----+---------+----+\n",
            "| 16| 2472|       56|2.27|\n",
            "| 31|34339|      590|1.72|\n",
            "| 43|21931|      375|1.71|\n",
            "| 25| 9873|      163|1.65|\n",
            "| 52|14195|      231|1.63|\n",
            "| 41|19872|      324|1.63|\n",
            "| 15|11878|      192|1.62|\n",
            "| 21|20404|      331|1.62|\n",
            "| 32|15863|      255|1.61|\n",
            "| 50| 8657|      122|1.41|\n",
            "| 42|23432|      325|1.39|\n",
            "| 26|17138|      234|1.37|\n",
            "| 53| 6795|       91|1.34|\n",
            "| 24| 7775|      102|1.31|\n",
            "| 13|10341|      134| 1.3|\n",
            "| 35|32104|      415|1.29|\n",
            "| 17| 5087|       64|1.26|\n",
            "| 29|17063|      212|1.24|\n",
            "| 11| 6001|       71|1.18|\n",
            "| 14| 5614|       65|1.16|\n",
            "| 33|29065|      336|1.16|\n",
            "| 51|11359|      124|1.09|\n",
            "| 22| 8480|       89|1.05|\n",
            "| 28| 8013|       74|0.92|\n",
            "| 23|16182|      148|0.91|\n",
            "| 27|11403|       94|0.82|\n",
            "| 12| 6102|       42|0.69|\n",
            "+---+-----+---------+----+\n",
            "\n"
          ]
        }
      ]
    },
    {
      "cell_type": "markdown",
      "source": [
        "## B1.B0014 Na semana passada teve dificuldade para respirar?\n",
        "\n",
        "![image.png](data:image/png;base64,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)"
      ],
      "metadata": {
        "id": "zWkWq0thGmbf"
      }
    },
    {
      "cell_type": "code",
      "source": [
        "df_b0014 = selectByVarCode('B0014')\n",
        "\n",
        "summary(df_b0014)"
      ],
      "metadata": {
        "colab": {
          "base_uri": "https://localhost:8080/"
        },
        "id": "6B3Ev4chG37y",
        "outputId": "05f74a6f-2f85-4b75-ea9e-bb2237eff941"
      },
      "execution_count": 45,
      "outputs": [
        {
          "output_type": "stream",
          "name": "stdout",
          "text": [
            "\n",
            "+-------------+------+\n",
            "   Answers: 381438\n",
            "+-------------+------+\n",
            "  \n",
            "+--------+------+\n",
            "|  answer| count|\n",
            "+--------+------+\n",
            "|Ignorado|   989|\n",
            "|     Não|378697|\n",
            "|     Sim|  1538|\n",
            "|Não Sabe|   214|\n",
            "+--------+------+\n",
            "\n",
            "+---+-----+---------+----+\n",
            "| UF|total|positives| (%)|\n",
            "+---+-----+---------+----+\n",
            "| 16| 2472|       22|0.89|\n",
            "| 43|21931|      128|0.58|\n",
            "| 41|19872|      108|0.54|\n",
            "| 31|34339|      172| 0.5|\n",
            "| 11| 6001|       29|0.48|\n",
            "| 52|14195|       68|0.48|\n",
            "| 35|32104|      151|0.47|\n",
            "| 50| 8657|       41|0.47|\n",
            "| 14| 5614|       26|0.46|\n",
            "| 32|15863|       72|0.45|\n",
            "| 42|23432|      103|0.44|\n",
            "| 26|17138|       74|0.43|\n",
            "| 15|11878|       48| 0.4|\n",
            "| 13|10341|       38|0.37|\n",
            "| 17| 5087|       18|0.35|\n",
            "| 33|29065|       98|0.34|\n",
            "| 24| 7775|       25|0.32|\n",
            "| 51|11359|       35|0.31|\n",
            "| 29|17063|       52| 0.3|\n",
            "| 12| 6102|       18|0.29|\n",
            "| 22| 8480|       24|0.28|\n",
            "| 23|16182|       43|0.27|\n",
            "| 21|20404|       56|0.27|\n",
            "| 28| 8013|       21|0.26|\n",
            "| 53| 6795|       18|0.26|\n",
            "| 27|11403|       28|0.25|\n",
            "| 25| 9873|       22|0.22|\n",
            "+---+-----+---------+----+\n",
            "\n"
          ]
        }
      ]
    },
    {
      "cell_type": "markdown",
      "source": [
        "## B2.B002 - Por causa disso, foi a algum estabelecimento de saúde?\n",
        "\n",
        "![image.png](data:image/png;base64,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)"
      ],
      "metadata": {
        "id": "0gGotSQ2IJms"
      }
    },
    {
      "cell_type": "code",
      "source": [
        "df_b002 = selectByVarCode('B002')\n",
        "summary(df_b002)"
      ],
      "metadata": {
        "colab": {
          "base_uri": "https://localhost:8080/"
        },
        "id": "Iyh5nAv8KYEl",
        "outputId": "44af279e-4aea-45da-bad2-d7dbeed80e39"
      },
      "execution_count": 46,
      "outputs": [
        {
          "output_type": "stream",
          "name": "stdout",
          "text": [
            "\n",
            "+-------------+------+\n",
            "   Answers: 381438\n",
            "+-------------+------+\n",
            "  \n",
            "+-------------+------+\n",
            "|       answer| count|\n",
            "+-------------+------+\n",
            "|     Ignorado|     5|\n",
            "|          Não| 10096|\n",
            "|          Sim|  4029|\n",
            "|Não aplicável|367308|\n",
            "+-------------+------+\n",
            "\n",
            "+---+-----+---------+----+\n",
            "| UF|total|positives| (%)|\n",
            "+---+-----+---------+----+\n",
            "| 16| 2472|       48|1.94|\n",
            "| 41|19872|      292|1.47|\n",
            "| 43|21931|      319|1.45|\n",
            "| 42|23432|      316|1.35|\n",
            "| 32|15863|      210|1.32|\n",
            "| 50| 8657|      109|1.26|\n",
            "| 52|14195|      178|1.25|\n",
            "| 31|34339|      420|1.22|\n",
            "| 25| 9873|      118| 1.2|\n",
            "| 35|32104|      343|1.07|\n",
            "| 51|11359|      122|1.07|\n",
            "| 15|11878|      120|1.01|\n",
            "| 17| 5087|       51| 1.0|\n",
            "| 24| 7775|       76|0.98|\n",
            "| 11| 6001|       58|0.97|\n",
            "| 53| 6795|       65|0.96|\n",
            "| 29|17063|      153| 0.9|\n",
            "| 26|17138|      151|0.88|\n",
            "| 33|29065|      253|0.87|\n",
            "| 13|10341|       87|0.84|\n",
            "| 14| 5614|       46|0.82|\n",
            "| 21|20404|      156|0.76|\n",
            "| 22| 8480|       64|0.75|\n",
            "| 23|16182|      113| 0.7|\n",
            "| 12| 6102|       41|0.67|\n",
            "| 28| 8013|       51|0.64|\n",
            "| 27|11403|       69|0.61|\n",
            "+---+-----+---------+----+\n",
            "\n"
          ]
        }
      ]
    },
    {
      "cell_type": "markdown",
      "source": [
        "## B3.B0031 - Providência tomada para recuperar dos sintomas foi ficar em casa\n",
        "\n",
        "![image.png](data:image/png;base64,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)"
      ],
      "metadata": {
        "id": "ZjOU60mZJGRJ"
      }
    },
    {
      "cell_type": "code",
      "source": [
        "df_b0031 = selectByVarCode('B0031')\n",
        "summary(df_b0031)"
      ],
      "metadata": {
        "colab": {
          "base_uri": "https://localhost:8080/"
        },
        "id": "jOYJ2nY0Kl6j",
        "outputId": "49f0e05a-ff67-4081-b954-6aa21899ca4f"
      },
      "execution_count": 47,
      "outputs": [
        {
          "output_type": "stream",
          "name": "stdout",
          "text": [
            "\n",
            "+-------------+------+\n",
            "   Answers: 381438\n",
            "+-------------+------+\n",
            "  \n",
            "+-------------+------+\n",
            "|       answer| count|\n",
            "+-------------+------+\n",
            "|     Ignorado|    29|\n",
            "|          Não|  2628|\n",
            "|          Sim|  7439|\n",
            "|Não aplicável|371342|\n",
            "+-------------+------+\n",
            "\n",
            "+---+-----+---------+----+\n",
            "| UF|total|positives| (%)|\n",
            "+---+-----+---------+----+\n",
            "| 16| 2472|      102|4.13|\n",
            "| 21|20404|      666|3.26|\n",
            "| 25| 9873|      286| 2.9|\n",
            "| 29|17063|      445|2.61|\n",
            "| 15|11878|      290|2.44|\n",
            "| 31|34339|      835|2.43|\n",
            "| 24| 7775|      185|2.38|\n",
            "| 22| 8480|      191|2.25|\n",
            "| 43|21931|      455|2.07|\n",
            "| 17| 5087|      105|2.06|\n",
            "| 23|16182|      332|2.05|\n",
            "| 26|17138|      338|1.97|\n",
            "| 52|14195|      280|1.97|\n",
            "| 35|32104|      630|1.96|\n",
            "| 28| 8013|      153|1.91|\n",
            "| 41|19872|      362|1.82|\n",
            "| 12| 6102|      106|1.74|\n",
            "| 53| 6795|      118|1.74|\n",
            "| 27|11403|      192|1.68|\n",
            "| 13|10341|      172|1.66|\n",
            "| 14| 5614|       92|1.64|\n",
            "| 32|15863|      237|1.49|\n",
            "| 11| 6001|       84| 1.4|\n",
            "| 51|11359|      140|1.23|\n",
            "| 33|29065|      336|1.16|\n",
            "| 42|23432|      232|0.99|\n",
            "| 50| 8657|       75|0.87|\n",
            "+---+-----+---------+----+\n",
            "\n"
          ]
        }
      ]
    },
    {
      "cell_type": "markdown",
      "source": [
        "## B3.B0033 - Providência tomada  para recuperar dos sintomas foi comprar e/ou tomar  remédio por conta própria\n",
        "\n",
        "![image.png](data:image/png;base64,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)"
      ],
      "metadata": {
        "id": "mzWTvpVPJwwT"
      }
    },
    {
      "cell_type": "code",
      "source": [
        "df_b0033 = selectByVarCode('B0033')\n",
        "summary(df_b0033)"
      ],
      "metadata": {
        "colab": {
          "base_uri": "https://localhost:8080/"
        },
        "id": "lI03iDSMNNWY",
        "outputId": "35697279-d218-4bc0-cd95-1f538982e9be"
      },
      "execution_count": 48,
      "outputs": [
        {
          "output_type": "stream",
          "name": "stdout",
          "text": [
            "\n",
            "+-------------+------+\n",
            "   Answers: 381438\n",
            "+-------------+------+\n",
            "  \n",
            "+-------------+------+\n",
            "|       answer| count|\n",
            "+-------------+------+\n",
            "|     Ignorado|    15|\n",
            "|          Não|  3613|\n",
            "|          Sim|  6468|\n",
            "|Não aplicável|371342|\n",
            "+-------------+------+\n",
            "\n",
            "+---+-----+---------+----+\n",
            "| UF|total|positives| (%)|\n",
            "+---+-----+---------+----+\n",
            "| 16| 2472|       80|3.24|\n",
            "| 21|20404|      618|3.03|\n",
            "| 29|17063|      399|2.34|\n",
            "| 15|11878|      274|2.31|\n",
            "| 25| 9873|      219|2.22|\n",
            "| 31|34339|      758|2.21|\n",
            "| 28| 8013|      157|1.96|\n",
            "| 52|14195|      274|1.93|\n",
            "| 24| 7775|      148| 1.9|\n",
            "| 22| 8480|      160|1.89|\n",
            "| 43|21931|      410|1.87|\n",
            "| 26|17138|      315|1.84|\n",
            "| 17| 5087|       86|1.69|\n",
            "| 23|16182|      269|1.66|\n",
            "| 35|32104|      484|1.51|\n",
            "| 13|10341|      155| 1.5|\n",
            "| 53| 6795|      100|1.47|\n",
            "| 12| 6102|       89|1.46|\n",
            "| 14| 5614|       82|1.46|\n",
            "| 51|11359|      166|1.46|\n",
            "| 32|15863|      221|1.39|\n",
            "| 41|19872|      256|1.29|\n",
            "| 27|11403|      137| 1.2|\n",
            "| 11| 6001|       69|1.15|\n",
            "| 50| 8657|       96|1.11|\n",
            "| 33|29065|      261| 0.9|\n",
            "| 42|23432|      185|0.79|\n",
            "+---+-----+---------+----+\n",
            "\n"
          ]
        }
      ]
    },
    {
      "cell_type": "markdown",
      "source": [
        "## B4.B0042 - Local que buscou atendimento foi pronto socorro do SUS/UPA\n",
        "\n",
        "![image.png](data:image/png;base64,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)"
      ],
      "metadata": {
        "id": "mNVkP-pAJhAj"
      }
    },
    {
      "cell_type": "code",
      "source": [
        "df_b0042 = selectByVarCode('B0042')\n",
        "summary(df_b0042)"
      ],
      "metadata": {
        "colab": {
          "base_uri": "https://localhost:8080/"
        },
        "id": "NxlrOYs1NaA2",
        "outputId": "8411f405-f394-4b21-dade-b368200504bf"
      },
      "execution_count": 49,
      "outputs": [
        {
          "output_type": "stream",
          "name": "stdout",
          "text": [
            "\n",
            "+-------------+------+\n",
            "   Answers: 381438\n",
            "+-------------+------+\n",
            "  \n",
            "+-------------+------+\n",
            "|       answer| count|\n",
            "+-------------+------+\n",
            "|     Ignorado|    29|\n",
            "|          Não|  3136|\n",
            "|          Sim|   864|\n",
            "|Não aplicável|377409|\n",
            "+-------------+------+\n",
            "\n",
            "+---+-----+---------+----+\n",
            "| UF|total|positives| (%)|\n",
            "+---+-----+---------+----+\n",
            "| 32|15863|       61|0.38|\n",
            "| 11| 6001|       21|0.35|\n",
            "| 16| 2472|        8|0.32|\n",
            "| 15|11878|       38|0.32|\n",
            "| 35|32104|      103|0.32|\n",
            "| 42|23432|       76|0.32|\n",
            "| 41|19872|       62|0.31|\n",
            "| 51|11359|       35|0.31|\n",
            "| 13|10341|       28|0.27|\n",
            "| 52|14195|       35|0.25|\n",
            "| 43|21931|       54|0.25|\n",
            "| 31|34339|       74|0.22|\n",
            "| 50| 8657|       19|0.22|\n",
            "| 33|29065|       63|0.22|\n",
            "| 26|17138|       35| 0.2|\n",
            "| 24| 7775|       13|0.17|\n",
            "| 12| 6102|       10|0.16|\n",
            "| 25| 9873|       15|0.15|\n",
            "| 23|16182|       21|0.13|\n",
            "| 29|17063|       22|0.13|\n",
            "| 21|20404|       26|0.13|\n",
            "| 22| 8480|       10|0.12|\n",
            "| 14| 5614|        7|0.12|\n",
            "| 53| 6795|        8|0.12|\n",
            "| 28| 8013|        8| 0.1|\n",
            "| 27|11403|       10|0.09|\n",
            "| 17| 5087|        2|0.04|\n",
            "+---+-----+---------+----+\n",
            "\n"
          ]
        }
      ]
    },
    {
      "cell_type": "markdown",
      "source": [
        "## B5.B005 - Ao procurar o hospital, teve que ficar internado por um dia ou mais\n",
        "\n",
        "![image.png](data:image/png;base64,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)"
      ],
      "metadata": {
        "id": "pvJHZ5FPJnzo"
      }
    },
    {
      "cell_type": "code",
      "source": [
        "cod = 'B005'\n",
        "\n",
        "answers = {\n",
        "    1: 'Sim',\n",
        "    2: 'Não',\n",
        "    3: 'Não foi atendido',\n",
        "    9: 'Ignorado',\n",
        "}\n",
        "\n",
        "df_b005 = selectByVarCode(cod, answers)\n",
        "summary(df_b005)"
      ],
      "metadata": {
        "colab": {
          "base_uri": "https://localhost:8080/"
        },
        "id": "7q6MP9iZNsJk",
        "outputId": "8e945dc8-18bb-42bb-de3d-a0c01f28bebf"
      },
      "execution_count": 50,
      "outputs": [
        {
          "output_type": "stream",
          "name": "stdout",
          "text": [
            "\n",
            "+-------------+------+\n",
            "   Answers: 381438\n",
            "+-------------+------+\n",
            "  \n",
            "+----------------+------+\n",
            "|          answer| count|\n",
            "+----------------+------+\n",
            "|             Não|  1873|\n",
            "|Não foi atendido|    25|\n",
            "|             Sim|   198|\n",
            "|   Não aplicável|379339|\n",
            "|        Ignorado|     3|\n",
            "+----------------+------+\n",
            "\n",
            "+---+-----+---------+----+\n",
            "| UF|total|positives| (%)|\n",
            "+---+-----+---------+----+\n",
            "| 51|11359|       11| 0.1|\n",
            "| 26|17138|       14|0.08|\n",
            "| 52|14195|       12|0.08|\n",
            "| 43|21931|       17|0.08|\n",
            "| 50| 8657|        7|0.08|\n",
            "| 15|11878|        8|0.07|\n",
            "| 21|20404|       14|0.07|\n",
            "| 32|15863|       11|0.07|\n",
            "| 23|16182|       10|0.06|\n",
            "| 53| 6795|        4|0.06|\n",
            "| 35|32104|       19|0.06|\n",
            "| 31|34339|       18|0.05|\n",
            "| 12| 6102|        3|0.05|\n",
            "| 11| 6001|        3|0.05|\n",
            "| 42|23432|       11|0.05|\n",
            "| 28| 8013|        3|0.04|\n",
            "| 27|11403|        5|0.04|\n",
            "| 16| 2472|        1|0.04|\n",
            "| 17| 5087|        2|0.04|\n",
            "| 41|19872|        8|0.04|\n",
            "| 24| 7775|        2|0.03|\n",
            "| 13|10341|        2|0.02|\n",
            "| 25| 9873|        2|0.02|\n",
            "| 29|17063|        3|0.02|\n",
            "| 14| 5614|        1|0.02|\n",
            "| 33|29065|        6|0.02|\n",
            "| 22| 8480|        1|0.01|\n",
            "+---+-----+---------+----+\n",
            "\n"
          ]
        }
      ]
    },
    {
      "cell_type": "markdown",
      "source": [
        "# Parte C - Características de trabalho das pessoas de 14 anos ou mais de idade"
      ],
      "metadata": {
        "id": "1UUKxHa4D4H1"
      }
    },
    {
      "cell_type": "markdown",
      "source": [
        "## C1.C001 - Na semana passada, por pelo menos uma hora, trabalhou ou fez algum bico?\n",
        "\n",
        "![image.png](data:image/png;base64,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)"
      ],
      "metadata": {
        "id": "5rXLihJoUB04"
      }
    },
    {
      "cell_type": "code",
      "source": [
        "df_c001 = selectByVarCode('C001')\n",
        "summary(df_c001)"
      ],
      "metadata": {
        "colab": {
          "base_uri": "https://localhost:8080/"
        },
        "id": "SSqMtwTlZSl5",
        "outputId": "fe191745-58cf-4f2d-de75-0720e8c2d501"
      },
      "execution_count": 51,
      "outputs": [
        {
          "output_type": "stream",
          "name": "stdout",
          "text": [
            "\n",
            "+-------------+------+\n",
            "   Answers: 381438\n",
            "+-------------+------+\n",
            "  \n",
            "+-------------+------+\n",
            "|       answer| count|\n",
            "+-------------+------+\n",
            "|          Não|172474|\n",
            "|          Sim|142670|\n",
            "|Não aplicável| 66294|\n",
            "+-------------+------+\n",
            "\n",
            "+---+-----+---------+-----+\n",
            "| UF|total|positives|  (%)|\n",
            "+---+-----+---------+-----+\n",
            "| 43|21931|     9935| 45.3|\n",
            "| 42|23432|    10381| 44.3|\n",
            "| 41|19872|     8754|44.05|\n",
            "| 50| 8657|     3717|42.94|\n",
            "| 51|11359|     4859|42.78|\n",
            "| 52|14195|     6039|42.54|\n",
            "| 35|32104|    13359|41.61|\n",
            "| 11| 6001|     2468|41.13|\n",
            "| 32|15863|     6491|40.92|\n",
            "| 31|34339|    13628|39.69|\n",
            "| 53| 6795|     2681|39.46|\n",
            "| 17| 5087|     1920|37.74|\n",
            "| 33|29065|    10058|34.61|\n",
            "| 15|11878|     4078|34.33|\n",
            "| 22| 8480|     2893|34.12|\n",
            "| 29|17063|     5779|33.87|\n",
            "| 13|10341|     3496|33.81|\n",
            "| 26|17138|     5569| 32.5|\n",
            "| 23|16182|     5225|32.29|\n",
            "| 24| 7775|     2457| 31.6|\n",
            "| 14| 5614|     1757| 31.3|\n",
            "| 28| 8013|     2497|31.16|\n",
            "| 12| 6102|     1901|31.15|\n",
            "| 25| 9873|     3053|30.92|\n",
            "| 16| 2472|      715|28.92|\n",
            "| 21|20404|     5837|28.61|\n",
            "| 27|11403|     3123|27.39|\n",
            "+---+-----+---------+-----+\n",
            "\n"
          ]
        }
      ]
    },
    {
      "cell_type": "markdown",
      "source": [
        "## C2.C002 - Na semana passada, estava temporariamente afastado de algum trabalho?\n",
        "\n",
        "![image.png](data:image/png;base64,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)"
      ],
      "metadata": {
        "id": "Qi-4lpE8UHJo"
      }
    },
    {
      "cell_type": "code",
      "source": [
        "df_c002 = selectByVarCode('C002')\n",
        "summary(df_c002)"
      ],
      "metadata": {
        "colab": {
          "base_uri": "https://localhost:8080/"
        },
        "id": "t3RKpN0Wctgr",
        "outputId": "077ef3d3-fff8-4f83-e672-3ff7f16a46ed"
      },
      "execution_count": 52,
      "outputs": [
        {
          "output_type": "stream",
          "name": "stdout",
          "text": [
            "\n",
            "+-------------+------+\n",
            "   Answers: 381438\n",
            "+-------------+------+\n",
            "  \n",
            "+-------------+------+\n",
            "|       answer| count|\n",
            "+-------------+------+\n",
            "|          Não|160039|\n",
            "|          Sim| 12435|\n",
            "|Não aplicável|208964|\n",
            "+-------------+------+\n",
            "\n",
            "+---+-----+---------+----+\n",
            "| UF|total|positives| (%)|\n",
            "+---+-----+---------+----+\n",
            "| 33|29065|     1495|5.14|\n",
            "| 16| 2472|      126| 5.1|\n",
            "| 12| 6102|      260|4.26|\n",
            "| 14| 5614|      233|4.15|\n",
            "| 29|17063|      629|3.69|\n",
            "| 24| 7775|      286|3.68|\n",
            "| 53| 6795|      247|3.64|\n",
            "| 26|17138|      598|3.49|\n",
            "| 32|15863|      554|3.49|\n",
            "| 43|21931|      742|3.38|\n",
            "| 13|10341|      333|3.22|\n",
            "| 42|23432|      737|3.15|\n",
            "| 31|34339|     1075|3.13|\n",
            "| 23|16182|      500|3.09|\n",
            "| 52|14195|      438|3.09|\n",
            "| 15|11878|      365|3.07|\n",
            "| 25| 9873|      297|3.01|\n",
            "| 22| 8480|      252|2.97|\n",
            "| 17| 5087|      151|2.97|\n",
            "| 35|32104|      951|2.96|\n",
            "| 41|19872|      573|2.88|\n",
            "| 11| 6001|      172|2.87|\n",
            "| 51|11359|      318| 2.8|\n",
            "| 27|11403|      296| 2.6|\n",
            "| 50| 8657|      197|2.28|\n",
            "| 28| 8013|      181|2.26|\n",
            "| 21|20404|      429| 2.1|\n",
            "+---+-----+---------+----+\n",
            "\n"
          ]
        }
      ]
    },
    {
      "cell_type": "markdown",
      "source": [
        "## C13.C013 - Na semana passada, o(a) Sr(a) estava em trabalho remoto (home office ou teletrabalho)?\n",
        "\n",
        "![image.png](data:image/png;base64,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)"
      ],
      "metadata": {
        "id": "2Lfn67zwULri"
      }
    },
    {
      "cell_type": "code",
      "source": [
        "df_c013 = selectByVarCode('C013')\n",
        "summary(df_c013)"
      ],
      "metadata": {
        "colab": {
          "base_uri": "https://localhost:8080/"
        },
        "id": "KdmJ249PdQdA",
        "outputId": "f5a53a51-3f27-4f71-f179-c66690e790b0"
      },
      "execution_count": 53,
      "outputs": [
        {
          "output_type": "stream",
          "name": "stdout",
          "text": [
            "\n",
            "+-------------+------+\n",
            "   Answers: 381438\n",
            "+-------------+------+\n",
            "  \n",
            "+-------------+------+\n",
            "|       answer| count|\n",
            "+-------------+------+\n",
            "|          Não|  4818|\n",
            "|          Sim| 10863|\n",
            "|Não aplicável|365757|\n",
            "+-------------+------+\n",
            "\n",
            "+---+-----+---------+----+\n",
            "| UF|total|positives| (%)|\n",
            "+---+-----+---------+----+\n",
            "| 53| 6795|      518|7.62|\n",
            "| 33|29065|     1502|5.17|\n",
            "| 35|32104|     1489|4.64|\n",
            "| 41|19872|      766|3.85|\n",
            "| 43|21931|      753|3.43|\n",
            "| 42|23432|      757|3.23|\n",
            "| 25| 9873|      302|3.06|\n",
            "| 52|14195|      386|2.72|\n",
            "| 31|34339|      906|2.64|\n",
            "| 32|15863|      416|2.62|\n",
            "| 16| 2472|       61|2.47|\n",
            "| 11| 6001|      145|2.42|\n",
            "| 28| 8013|      190|2.37|\n",
            "| 26|17138|      377| 2.2|\n",
            "| 22| 8480|      182|2.15|\n",
            "| 17| 5087|      108|2.12|\n",
            "| 23|16182|      331|2.05|\n",
            "| 50| 8657|      166|1.92|\n",
            "| 24| 7775|      146|1.88|\n",
            "| 14| 5614|      104|1.85|\n",
            "| 12| 6102|      109|1.79|\n",
            "| 51|11359|      185|1.63|\n",
            "| 29|17063|      274|1.61|\n",
            "| 27|11403|      169|1.48|\n",
            "| 13|10341|      133|1.29|\n",
            "| 21|20404|      251|1.23|\n",
            "| 15|11878|      137|1.15|\n",
            "+---+-----+---------+----+\n",
            "\n"
          ]
        }
      ]
    },
    {
      "cell_type": "markdown",
      "source": [
        "## C14.C014 - O(A) Sr(a) contribui para o INSS?  \n",
        "\n",
        "![image.png](data:image/png;base64,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)"
      ],
      "metadata": {
        "id": "1oErYZo-UgIL"
      }
    },
    {
      "cell_type": "code",
      "source": [
        "df_c014 = selectByVarCode('C014')\n",
        "summary(df_c014)"
      ],
      "metadata": {
        "colab": {
          "base_uri": "https://localhost:8080/"
        },
        "id": "noyLWRWNd1Kb",
        "outputId": "5e742168-bcf7-4b09-b7ee-4c55955ab003"
      },
      "execution_count": 54,
      "outputs": [
        {
          "output_type": "stream",
          "name": "stdout",
          "text": [
            "\n",
            "+-------------+------+\n",
            "   Answers: 381438\n",
            "+-------------+------+\n",
            "  \n",
            "+-------------+------+\n",
            "|       answer| count|\n",
            "+-------------+------+\n",
            "|          Não|208368|\n",
            "|          Sim| 37670|\n",
            "|Não aplicável|135400|\n",
            "+-------------+------+\n",
            "\n",
            "+---+-----+---------+-----+\n",
            "| UF|total|positives|  (%)|\n",
            "+---+-----+---------+-----+\n",
            "| 42|23432|     4052|17.29|\n",
            "| 43|21931|     3535|16.12|\n",
            "| 41|19872|     2941| 14.8|\n",
            "| 32|15863|     1910|12.04|\n",
            "| 31|34339|     3630|10.57|\n",
            "| 53| 6795|      715|10.52|\n",
            "| 51|11359|     1192|10.49|\n",
            "| 35|32104|     3328|10.37|\n",
            "| 33|29065|     2937| 10.1|\n",
            "| 11| 6001|      598| 9.97|\n",
            "| 52|14195|     1333| 9.39|\n",
            "| 50| 8657|      755| 8.72|\n",
            "| 17| 5087|      440| 8.65|\n",
            "| 21|20404|     1562| 7.66|\n",
            "| 25| 9873|      735| 7.44|\n",
            "| 24| 7775|      570| 7.33|\n",
            "| 29|17063|     1244| 7.29|\n",
            "| 13|10341|      745|  7.2|\n",
            "| 22| 8480|      585|  6.9|\n",
            "| 27|11403|      785| 6.88|\n",
            "| 15|11878|      803| 6.76|\n",
            "| 26|17138|     1065| 6.21|\n",
            "| 23|16182|     1005| 6.21|\n",
            "| 14| 5614|      329| 5.86|\n",
            "| 28| 8013|      436| 5.44|\n",
            "| 12| 6102|      322| 5.28|\n",
            "| 16| 2472|      118| 4.77|\n",
            "+---+-----+---------+-----+\n",
            "\n"
          ]
        }
      ]
    },
    {
      "cell_type": "markdown",
      "source": [
        "## C15.C015 - Na semana passada ___ tomou alguma providência efetiva para conseguir trabalho?  \n",
        "\n",
        "![image.png](data:image/png;base64,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)"
      ],
      "metadata": {
        "id": "NSTy_ksrUkGG"
      }
    },
    {
      "cell_type": "code",
      "source": [
        "df_c015 = selectByVarCode('C015')\n",
        "summary(df_c015)"
      ],
      "metadata": {
        "colab": {
          "base_uri": "https://localhost:8080/"
        },
        "id": "hw3DF8FUeFeu",
        "outputId": "348a79a7-08bc-4590-d976-c566687f432f"
      },
      "execution_count": 55,
      "outputs": [
        {
          "output_type": "stream",
          "name": "stdout",
          "text": [
            "\n",
            "+-------------+------+\n",
            "   Answers: 381438\n",
            "+-------------+------+\n",
            "  \n",
            "+-------------+------+\n",
            "|       answer| count|\n",
            "+-------------+------+\n",
            "|          Não|146983|\n",
            "|          Sim| 22368|\n",
            "|Não aplicável|212087|\n",
            "+-------------+------+\n",
            "\n",
            "+---+-----+---------+----+\n",
            "| UF|total|positives| (%)|\n",
            "+---+-----+---------+----+\n",
            "| 16| 2472|      220| 8.9|\n",
            "| 29|17063|     1418|8.31|\n",
            "| 53| 6795|      535|7.87|\n",
            "| 13|10341|      767|7.42|\n",
            "| 26|17138|     1252|7.31|\n",
            "| 28| 8013|      584|7.29|\n",
            "| 33|29065|     2041|7.02|\n",
            "| 21|20404|     1405|6.89|\n",
            "| 35|32104|     2138|6.66|\n",
            "| 24| 7775|      497|6.39|\n",
            "| 15|11878|      735|6.19|\n",
            "| 32|15863|      960|6.05|\n",
            "| 52|14195|      844|5.95|\n",
            "| 31|34339|     1989|5.79|\n",
            "| 14| 5614|      317|5.65|\n",
            "| 25| 9873|      548|5.55|\n",
            "| 50| 8657|      437|5.05|\n",
            "| 12| 6102|      307|5.03|\n",
            "| 27|11403|      568|4.98|\n",
            "| 17| 5087|      252|4.95|\n",
            "| 51|11359|      547|4.82|\n",
            "| 41|19872|      954| 4.8|\n",
            "| 23|16182|      745| 4.6|\n",
            "| 11| 6001|      256|4.27|\n",
            "| 43|21931|      895|4.08|\n",
            "| 42|23432|      861|3.67|\n",
            "| 22| 8480|      296|3.49|\n",
            "+---+-----+---------+----+\n",
            "\n"
          ]
        }
      ]
    },
    {
      "cell_type": "markdown",
      "source": [
        "## C16.C016 - Qual o principal motivo de não ter procurado trabalho na semana passada?\n",
        "\n",
        "![image.png](data:image/png;base64,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)"
      ],
      "metadata": {
        "id": "sQuV1vE8UoAH"
      }
    },
    {
      "cell_type": "code",
      "source": [
        "answers = {\n",
        "    1: 'Devido à pandemia (isolamento, quarentena ou distanciamento social)',\n",
        "    2: 'Por problemas de saúde ou gravidez',\n",
        "    4: 'Não quer trabalhar ou é aposentado',\n",
        "    5: 'Não tinha experiência profissional ou qualificação',\n",
        "    6: 'Acha que não vai encontrar trabalho por ser muito jovem ou idoso',\n",
        "    7: 'Não havia trabalho na localidade',\n",
        "    8: 'Tinha que cuidar dos afazeres domésticos e ou de parentes',\n",
        "    9: 'Estava aguardando resposta de medida tomada para conseguir trabalho',\n",
        "    10: 'Outro motivo'\n",
        "}\n",
        "\n",
        "df_c016 = selectByVarCode('C016', answers)\n",
        "# summary(df_c016)"
      ],
      "metadata": {
        "id": "djIWnUzRePRx"
      },
      "execution_count": 64,
      "outputs": []
    },
    {
      "cell_type": "code",
      "source": [
        "print(f\"\"\"\n",
        "+-------------+------+\n",
        "   Answers: {df_c016.count()}\n",
        "+-------------+------+\n",
        "  \"\"\")\n",
        "\n",
        "df_c016.groupBy('answer').count().show()\n",
        "\n",
        "print(\"\"\"\n",
        "+--------------------+------++--------------------+------++--------------------+------+---+----+\n",
        "|                                          dicionario                                          |\n",
        "+--------------------+------++--------------------+------++--------------------+------+---+----+\n",
        "| Devido à pandemia (isolamento quarentena ou distanciamento social)   | pandemic              |\n",
        "|----------------------------------------------------------------------|-----------------------|\n",
        "| Por problemas de saúde ou gravidez                                   | health_or_pregnancy   |\n",
        "|----------------------------------------------------------------------|-----------------------|\n",
        "| Não quer trabalhar ou é aposentado                                   | retired               |\n",
        "|----------------------------------------------------------------------|-----------------------|\n",
        "| Não tinha experiência profissional ou qualificação                   | inexperience          |\n",
        "|----------------------------------------------------------------------|-----------------------|\n",
        "| Acha que não vai encontrar trabalho por ser muito jovem ou idoso     | age_insecurity        |\n",
        "|----------------------------------------------------------------------|-----------------------|\n",
        "| Não havia trabalho na localidade                                     | without_jobs_nearby   |\n",
        "|----------------------------------------------------------------------|-----------------------|\n",
        "| Tinha que cuidar dos afazeres domésticos e ou de parentes            | personal_reasons      |\n",
        "|----------------------------------------------------------------------|-----------------------|\n",
        "| Estava aguardando resposta de medida tomada para conseguir trabalho  | waiting_job_reply     |\n",
        "|----------------------------------------------------------------------|-----------------------|\n",
        "| Outro motivo                                                         | others                |\n",
        "+--------------------+------+--------------------+------+--------------+-----------+-----------+\n",
        "\"\"\")\n",
        "\n",
        "work_data_by_state = df_c016.groupBy(\"UF\").count().withColumnRenamed('count', 'total')\n",
        "work_data_by_state = work_data_by_state.join(\n",
        "    df_c016.filter(df_c016.answer == 'Devido à pandemia (isolamento, quarentena ou distanciamento social)').groupBy('UF').count().withColumnRenamed('count', 'pandemic'),\n",
        "    \"UF\",\n",
        "    \"INNER\"\n",
        ")\n",
        "\n",
        "work_data_by_state = work_data_by_state.join(\n",
        "    df_c016.filter(df_c016.answer == 'Por problemas de saúde ou gravidez').groupBy('UF').count().withColumnRenamed('count', 'health_or_pregnancy'),\n",
        "    \"UF\",\n",
        "    \"INNER\"\n",
        ")\n",
        "\n",
        "work_data_by_state = work_data_by_state.join(\n",
        "    df_c016.filter(df_c016.answer == 'Não quer trabalhar ou é aposentado').groupBy('UF').count().withColumnRenamed('count', 'retired'),\n",
        "    \"UF\",\n",
        "    \"INNER\"\n",
        ")\n",
        "\n",
        "work_data_by_state = work_data_by_state.join(\n",
        "    df_c016.filter(df_c016.answer == 'Não tinha experiência profissional ou qualificação').groupBy('UF').count().withColumnRenamed('count', 'inexperience'),\n",
        "    \"UF\",\n",
        "    \"INNER\"\n",
        ")\n",
        "\n",
        "work_data_by_state = work_data_by_state.join(\n",
        "    df_c016.filter(df_c016.answer == 'Acha que não vai encontrar trabalho por ser muito jovem ou idoso').groupBy('UF').count().withColumnRenamed('count', 'age_insecurity'),\n",
        "    \"UF\",\n",
        "    \"INNER\"\n",
        ")\n",
        "\n",
        "work_data_by_state = work_data_by_state.join(\n",
        "    df_c016.filter(df_c016.answer == 'Não havia trabalho na localidade').groupBy('UF').count().withColumnRenamed('count', 'without_jobs_nearby'),\n",
        "    \"UF\",\n",
        "    \"INNER\"\n",
        ")\n",
        "\n",
        "work_data_by_state = work_data_by_state.join(\n",
        "    df_c016.filter(df_c016.answer == 'Tinha que cuidar dos afazeres domésticos e ou de parentes').groupBy('UF').count().withColumnRenamed('count', 'personal_reasons'),\n",
        "    \"UF\",\n",
        "    \"INNER\"\n",
        ")\n",
        "\n",
        "work_data_by_state = work_data_by_state.join(\n",
        "    df_c016.filter(df_c016.answer == 'Estava aguardando resposta de medida tomada para conseguir trabalho').groupBy('UF').count().withColumnRenamed('count', 'waiting_job_reply'),\n",
        "    \"UF\",\n",
        "    \"INNER\"\n",
        ")\n",
        "\n",
        "work_data_by_state = work_data_by_state.join(\n",
        "    df_c016.filter(df_c016.answer == 'Outro motivo').groupBy('UF').count().withColumnRenamed('count', 'others'),\n",
        "    \"UF\",\n",
        "    \"INNER\"\n",
        ")\n",
        "\n",
        "work_data_by_state.select(\n",
        "    work_data_by_state.UF,\n",
        "    work_data_by_state.total,\n",
        "    work_data_by_state.pandemic,\n",
        "    (round((work_data_by_state.pandemic / work_data_by_state.total) * 100, 2)).alias('pandemic(%)'),\n",
        "    work_data_by_state.health_or_pregnancy,\n",
        "    (round((work_data_by_state.health_or_pregnancy / work_data_by_state.total) * 100, 2)).alias('health_or_pregnancy(%)'),\n",
        "    work_data_by_state.retired,\n",
        "    (round((work_data_by_state.retired / work_data_by_state.total) * 100, 2)).alias('retired(%)'),\n",
        ").sort(desc('total')).show(27)\n",
        "\n",
        "work_data_by_state.select(\n",
        "    work_data_by_state.UF,\n",
        "    work_data_by_state.total,\n",
        "    work_data_by_state.inexperience,\n",
        "    (round((work_data_by_state.inexperience / work_data_by_state.total) * 100, 2)).alias('inexperience(%)'),\n",
        "    work_data_by_state.age_insecurity,\n",
        "    (round((work_data_by_state.age_insecurity / work_data_by_state.total) * 100, 2)).alias('age_insecurity(%)'),\n",
        "    work_data_by_state.without_jobs_nearby,\n",
        "    (round((work_data_by_state.without_jobs_nearby / work_data_by_state.total) * 100, 2)).alias('without_jobs_nearby(%)'),\n",
        "    work_data_by_state.personal_reasons,\n",
        "    (round((work_data_by_state.personal_reasons / work_data_by_state.total) * 100, 2)).alias('personal_reasons(%)'),\n",
        "    work_data_by_state.waiting_job_reply,\n",
        "    (round((work_data_by_state.waiting_job_reply / work_data_by_state.total) * 100, 2)).alias('waiting_job_reply(%)'),\n",
        "    work_data_by_state.others,\n",
        "    (round((work_data_by_state.others / work_data_by_state.total) * 100, 2)).alias('others(%)'),\n",
        ").sort(desc('total')).show(27)"
      ],
      "metadata": {
        "colab": {
          "base_uri": "https://localhost:8080/"
        },
        "id": "tPdS0lL999Jb",
        "outputId": "8ee4b593-21c8-4b91-b1f8-0a3cc4487b47"
      },
      "execution_count": 70,
      "outputs": [
        {
          "output_type": "stream",
          "name": "stdout",
          "text": [
            "\n",
            "+-------------+------+\n",
            "   Answers: 381438\n",
            "+-------------+------+\n",
            "  \n",
            "+--------------------+------+\n",
            "|              answer| count|\n",
            "+--------------------+------+\n",
            "|Não tinha experiê...|   680|\n",
            "|Devido à pandemia...| 22109|\n",
            "|Estava aguardando...|   805|\n",
            "|Acha que não vai ...|  2191|\n",
            "|Tinha que cuidar ...| 20310|\n",
            "|Por problemas de ...| 11414|\n",
            "|        Outro motivo|  1827|\n",
            "|Não quer trabalha...| 55579|\n",
            "|Não havia trabalh...|  9797|\n",
            "|       Não aplicável|256726|\n",
            "+--------------------+------+\n",
            "\n",
            "\n",
            "+--------------------+------++--------------------+------++--------------------+------+---+----+\n",
            "|                                          dicionario                                          |\n",
            "+--------------------+------++--------------------+------++--------------------+------+---+----+\n",
            "| Devido à pandemia (isolamento quarentena ou distanciamento social)   | pandemic              |\n",
            "|----------------------------------------------------------------------|-----------------------|\n",
            "| Por problemas de saúde ou gravidez                                   | health_or_pregnancy   |\n",
            "|----------------------------------------------------------------------|-----------------------|\n",
            "| Não quer trabalhar ou é aposentado                                   | retired               |\n",
            "|----------------------------------------------------------------------|-----------------------|\n",
            "| Não tinha experiência profissional ou qualificação                   | inexperience          |\n",
            "|----------------------------------------------------------------------|-----------------------|\n",
            "| Acha que não vai encontrar trabalho por ser muito jovem ou idoso     | age_insecurity        |\n",
            "|----------------------------------------------------------------------|-----------------------|\n",
            "| Não havia trabalho na localidade                                     | without_jobs_nearby   |\n",
            "|----------------------------------------------------------------------|-----------------------|\n",
            "| Tinha que cuidar dos afazeres domésticos e ou de parentes            | personal_reasons      |\n",
            "|----------------------------------------------------------------------|-----------------------|\n",
            "| Estava aguardando resposta de medida tomada para conseguir trabalho  | waiting_job_reply     |\n",
            "|----------------------------------------------------------------------|-----------------------|\n",
            "| Outro motivo                                                         | others                |\n",
            "+--------------------+------+--------------------+------+--------------+-----------+-----------+\n",
            "\n",
            "+---+-----+--------+-----------+-------------------+----------------------+-------+----------+\n",
            "| UF|total|pandemic|pandemic(%)|health_or_pregnancy|health_or_pregnancy(%)|retired|retired(%)|\n",
            "+---+-----+--------+-----------+-------------------+----------------------+-------+----------+\n",
            "| 31|34339|    1315|       3.83|               1292|                  3.76|   5289|      15.4|\n",
            "| 35|32104|    1619|       5.04|                850|                  2.65|   5119|     15.95|\n",
            "| 33|29065|    2586|        8.9|                588|                  2.02|   5266|     18.12|\n",
            "| 42|23432|     713|       3.04|                522|                  2.23|   4540|     19.38|\n",
            "| 43|21931|     739|       3.37|                535|                  2.44|   4293|     19.58|\n",
            "| 21|20404|    1053|       5.16|                714|                   3.5|   2255|     11.05|\n",
            "| 41|19872|     596|        3.0|                528|                  2.66|   3165|     15.93|\n",
            "| 26|17138|    1202|       7.01|                456|                  2.66|   2255|     13.16|\n",
            "| 29|17063|    1262|        7.4|                605|                  3.55|   2379|     13.94|\n",
            "| 23|16182|    1226|       7.58|                638|                  3.94|   2443|      15.1|\n",
            "| 32|15863|     829|       5.23|                447|                  2.82|   2165|     13.65|\n",
            "| 52|14195|     607|       4.28|                427|                  3.01|   1890|     13.31|\n",
            "| 15|11878|     595|       5.01|                373|                  3.14|   1083|      9.12|\n",
            "| 27|11403|    1016|       8.91|                487|                  4.27|   1503|     13.18|\n",
            "| 51|11359|     412|       3.63|                359|                  3.16|   1276|     11.23|\n",
            "| 13|10341|     951|        9.2|                218|                  2.11|    948|      9.17|\n",
            "| 25| 9873|     623|       6.31|                307|                  3.11|   1453|     14.72|\n",
            "| 50| 8657|     217|       2.51|                290|                  3.35|   1133|     13.09|\n",
            "| 22| 8480|     577|        6.8|                319|                  3.76|   1261|     14.87|\n",
            "| 28| 8013|     507|       6.33|                303|                  3.78|   1037|     12.94|\n",
            "| 24| 7775|     501|       6.44|                252|                  3.24|   1274|     16.39|\n",
            "| 53| 6795|     433|       6.37|                186|                  2.74|    902|     13.27|\n",
            "| 12| 6102|     754|      12.36|                145|                  2.38|    684|     11.21|\n",
            "| 11| 6001|     358|       5.97|                220|                  3.67|    708|      11.8|\n",
            "| 14| 5614|     773|      13.77|                118|                   2.1|    405|      7.21|\n",
            "| 17| 5087|     299|       5.88|                188|                   3.7|    670|     13.17|\n",
            "| 16| 2472|     346|       14.0|                 47|                   1.9|    183|       7.4|\n",
            "+---+-----+--------+-----------+-------------------+----------------------+-------+----------+\n",
            "\n",
            "+---+-----+------------+---------------+--------------+-----------------+-------------------+----------------------+----------------+-------------------+-----------------+--------------------+------+---------+\n",
            "| UF|total|inexperience|inexperience(%)|age_insecurity|age_insecurity(%)|without_jobs_nearby|without_jobs_nearby(%)|personal_reasons|personal_reasons(%)|waiting_job_reply|waiting_job_reply(%)|others|others(%)|\n",
            "+---+-----+------------+---------------+--------------+-----------------+-------------------+----------------------+----------------+-------------------+-----------------+--------------------+------+---------+\n",
            "| 31|34339|          36|            0.1|           208|             0.61|                689|                  2.01|            2010|               5.85|               58|                0.17|   153|     0.45|\n",
            "| 35|32104|          38|           0.12|           169|             0.53|                161|                   0.5|            1499|               4.67|               48|                0.15|   173|     0.54|\n",
            "| 33|29065|          25|           0.09|           125|             0.43|                238|                  0.82|            1202|               4.14|               56|                0.19|   146|      0.5|\n",
            "| 42|23432|          15|           0.06|            93|              0.4|                 58|                  0.25|             819|                3.5|               62|                0.26|   193|     0.82|\n",
            "| 43|21931|          16|           0.07|           102|             0.47|                114|                  0.52|             725|               3.31|               36|                0.16|    83|     0.38|\n",
            "| 21|20404|          64|           0.31|           143|              0.7|               1801|                  8.83|            1358|               6.66|               40|                 0.2|    55|     0.27|\n",
            "| 41|19872|          28|           0.14|           105|             0.53|                116|                  0.58|             965|               4.86|               46|                0.23|   110|     0.55|\n",
            "| 26|17138|          24|           0.14|           117|             0.68|                545|                  3.18|            1081|               6.31|               31|                0.18|   201|     1.17|\n",
            "| 29|17063|          42|           0.25|           140|             0.82|                932|                  5.46|             853|                5.0|               19|                0.11|    11|     0.06|\n",
            "| 23|16182|          49|            0.3|           101|             0.62|                768|                  4.75|            1179|               7.29|               36|                0.22|   108|     0.67|\n",
            "| 32|15863|          42|           0.26|            47|              0.3|                175|                   1.1|             754|               4.75|               37|                0.23|   101|     0.64|\n",
            "| 52|14195|           9|           0.06|            72|             0.51|                100|                   0.7|             796|               5.61|               31|                0.22|    25|     0.18|\n",
            "| 15|11878|          38|           0.32|           118|             0.99|                449|                  3.78|             822|               6.92|               37|                0.31|    54|     0.45|\n",
            "| 27|11403|          52|           0.46|            80|              0.7|                947|                   8.3|             603|               5.29|               23|                 0.2|    53|     0.46|\n",
            "| 51|11359|          36|           0.32|            71|             0.63|                 73|                  0.64|             743|               6.54|               14|                0.12|    33|     0.29|\n",
            "| 13|10341|          29|           0.28|            83|              0.8|                285|                  2.76|             487|               4.71|               49|                0.47|    39|     0.38|\n",
            "| 25| 9873|          17|           0.17|            68|             0.69|                434|                   4.4|             772|               7.82|               38|                0.38|    60|     0.61|\n",
            "| 50| 8657|           6|           0.07|            26|              0.3|                 71|                  0.82|             505|               5.83|               16|                0.18|     4|     0.05|\n",
            "| 22| 8480|          11|           0.13|            24|             0.28|                699|                  8.24|             558|               6.58|               12|                0.14|    51|      0.6|\n",
            "| 28| 8013|          14|           0.17|            65|             0.81|                399|                  4.98|             431|               5.38|               16|                 0.2|     8|      0.1|\n",
            "| 24| 7775|          17|           0.22|            31|              0.4|                333|                  4.28|             493|               6.34|                8|                 0.1|    43|     0.55|\n",
            "| 53| 6795|           6|           0.09|            32|             0.47|                 11|                  0.16|             249|               3.66|               16|                0.24|    22|     0.32|\n",
            "| 12| 6102|          16|           0.26|            36|             0.59|                165|                   2.7|             296|               4.85|               13|                0.21|    31|     0.51|\n",
            "| 11| 6001|           7|           0.12|            41|             0.68|                 40|                  0.67|             434|               7.23|               11|                0.18|    23|     0.38|\n",
            "| 14| 5614|          20|           0.36|            31|             0.55|                 46|                  0.82|             280|               4.99|               26|                0.46|    28|      0.5|\n",
            "| 17| 5087|          13|           0.26|            54|             1.06|                123|                  2.42|             318|               6.25|                4|                0.08|    16|     0.31|\n",
            "| 16| 2472|          10|            0.4|             9|             0.36|                 25|                  1.01|              78|               3.16|               22|                0.89|     3|     0.12|\n",
            "+---+-----+------------+---------------+--------------+-----------------+-------------------+----------------------+----------------+-------------------+-----------------+--------------------+------+---------+\n",
            "\n"
          ]
        }
      ]
    },
    {
      "cell_type": "markdown",
      "source": [
        "# Questionário D - Rendimentos e etc."
      ],
      "metadata": {
        "id": "n4hctaU3D-IT"
      }
    },
    {
      "cell_type": "markdown",
      "source": [
        "## D1.D0011 - Rendimento recebido de aposentadoria e pensão por todos os moradores\n",
        "\n",
        "![image.png](data:image/png;base64,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)"
      ],
      "metadata": {
        "id": "igBfHi1ZVGGy"
      }
    },
    {
      "cell_type": "code",
      "source": [
        "df_d0011 = selectByVarCode('D0011')\n",
        "summary(df_d0011)"
      ],
      "metadata": {
        "colab": {
          "base_uri": "https://localhost:8080/"
        },
        "id": "AZOq04Buf4Dj",
        "outputId": "a333a357-b7aa-490a-fb5e-83ad27b7b7ac"
      },
      "execution_count": 57,
      "outputs": [
        {
          "output_type": "stream",
          "name": "stdout",
          "text": [
            "\n",
            "+-------------+------+\n",
            "   Answers: 381438\n",
            "+-------------+------+\n",
            "  \n",
            "+------+------+\n",
            "|answer| count|\n",
            "+------+------+\n",
            "|   Não|250123|\n",
            "|   Sim|131315|\n",
            "+------+------+\n",
            "\n",
            "+---+-----+---------+-----+\n",
            "| UF|total|positives|  (%)|\n",
            "+---+-----+---------+-----+\n",
            "| 43|21931|     9710|44.28|\n",
            "| 42|23432|     9780|41.74|\n",
            "| 33|29065|    11335| 39.0|\n",
            "| 24| 7775|     2952|37.97|\n",
            "| 31|34339|    12918|37.62|\n",
            "| 35|32104|    11774|36.67|\n",
            "| 41|19872|     7243|36.45|\n",
            "| 22| 8480|     3081|36.33|\n",
            "| 23|16182|     5810| 35.9|\n",
            "| 25| 9873|     3414|34.58|\n",
            "| 27|11403|     3852|33.78|\n",
            "| 53| 6795|     2249| 33.1|\n",
            "| 29|17063|     5576|32.68|\n",
            "| 21|20404|     6632| 32.5|\n",
            "| 32|15863|     5066|31.94|\n",
            "| 11| 6001|     1904|31.73|\n",
            "| 28| 8013|     2486|31.02|\n",
            "| 26|17138|     5263|30.71|\n",
            "| 12| 6102|     1833|30.04|\n",
            "| 17| 5087|     1518|29.84|\n",
            "| 52|14195|     4202| 29.6|\n",
            "| 50| 8657|     2492|28.79|\n",
            "| 51|11359|     3032|26.69|\n",
            "| 15|11878|     3019|25.42|\n",
            "| 13|10341|     2558|24.74|\n",
            "| 14| 5614|     1175|20.93|\n",
            "| 16| 2472|      441|17.84|\n",
            "+---+-----+---------+-----+\n",
            "\n"
          ]
        }
      ]
    },
    {
      "cell_type": "markdown",
      "source": [
        "## D1.D0021 - Rendimento de pensão alimentícia, doação ou mesada em dinheiro de pessoa que não morava no domicílio\n",
        "\n",
        "![image.png](data:image/png;base64,iVBORw0KGgoAAAANSUhEUgAAA/sAAABKCAYAAADkBkR3AAAfw0lEQVR4Ae2dS47jOrKGtZXezFmAgVzJ3UHCK7h7cM57BTXLvD0vHDTOtAa1ghrzgo+gIoIh0ZZlpcP8E0iYEl8RH8Mifz2s6c+fP2Hp/+fPn2H0v2maRkfQ9d87I+/2dwcIBUAABA4ngOPKscifmffn+xSm989jgaA3EAABEACB4QhYc+G0JPTjfoj9ECxow0VOx2HvjLzb3xkeZIMACHwDARxXjoX+zLwh9o+NBfQGAiAAAqMSsOZCiP1ONFjQOlWGy/bOyLv9wwUcHAYBBwRwXDl2kJ6ZN8T+sbGA3kAABEBgVALWXLgo9v/1P3+F+D/6nwVtdCbaf8+MKM7xmb/v4AAOiIF9Y0AfL7H9GAKe56HHEEGrIAACIAACoxGw5sLpx48fwfqnBV+shH8weNUYoDjH574CBzzBEzGQY+BVj53wC+sCxABiADGAGEAMPF8M6BMc0z///TtY/7RQ0xVG245BjL91Ap4ZIc7Xxxa5IAAC2wjg2LKN29ZanuehrT6jHgiAAAiAAAhwAtZcCLHPCRlpC5pRbOhdnhlhQT506MJ5EHgYARxbHobWbNjzPGQ6hJ0gAAIgAAIgcCMBay6E2O9AtKB1qgyX7ZkRFuTDhSscBoFDCPg9tvwOl7cpnL8OwbRbJ+08lP2I++lf+PTrEk7TKVx+7WYCGgIBEAABEACBbyXQzoUhQOx3hsSC1qkyXLZnRn4X5MOFGRwGAVcEfB5bZoEshLED8nIeKn6Id9t/hvPETmJA7DsYVZgIAiAAAiBwCwE5F+aaEPsdgha0TpXhsj0z8rkgHy7E4DAIuCPg7tiSxO8UpvezFMVOyMt5SAn74sPvj1OYxAkAJ87BTBAAARAAARC4goCcC3MFiP0OOAtap8pw2Z4ZuVuQDxddcBgEfBJwd2z59Rk+0y3ttlB+9lGQ85B1ZV95wK/sf53DNJ3DJZ4MKLf9xzsbPt8XHgFQTWETBEAABEAABJ6BgJwLs0UQ+52RsaB1qgyX7ZmRuwX5cNEFh0HAJwG/x5ZXEPshBLpToYj308dvGUiN2J8ClUl3ALBb/pPof7sE1YJsD1sgAAIgAAIg8M0ELE02/Ruv3lsdFgvaaoUBMz0z8rsgHzDQ4DIIOCLg99jyImKfxQqJ9zhX1d8iaMT+OXxSnXKln7ZTfYh9ooNPEAABEACBJyVgabLpf//v7/CPIfj9LlT2pW9B27cH/615ZoQ49x9/8AAEnpGA32PL64l9io8s+ouoh9gnLPgEARAAARB4EQKWJoPY7wyuBa1TZbhsz4z8LsiHCzM4DAKuCPg9tryA2I9X5q0r8fyKPcS+q+8TjAUBEAABEOgTsDQZbuPvcLOgdaoMl+2Z0aYFeVokzj/cFP3P/497Z7O4jZQvWD1Gmyv76VVkeWzjs7v1NuA92XMmPL1nHze1dcUPnMX2HmXro9rlDFIf8dfnP/Pz3ZY45OVvTG86ttzYx2OKv4DYD9kH+cv7KqYh9h8TPmgVBEAABEDg2whYmmz6j3ELf7yt3+9CZV++FrR9e/DfmmdGm+KcLxLZ8D3yR5y+W+yL/pnPm5JHCLlNhhmVoq3pVV1FPEzsuV6j+OZdnAlPb27wtorN+Fa/O+08ytZHtVvdicIvn8BJvk/zj7PVIncmNh1b7uxzn+qvIPYjCTpRRydj1Rjz47iON7XdfD/2AY1WQAAEQAAEQGBXApYmw6/xdxBb0DpVhsv2zGjTgpwvEvloL+3nZTamv3uxuWv/aiG9EclrVftmJruO7x4j88089nBh07Flj44HbcPzPDTokMFtEAABEACBnQlYcyHEfgeyBa1TZbhsz4w2LciXRL2xP4kous2f3yZcxMyZvceZXvuUA4hflTqF8/tpfgaVC6GSvvr90MlGutLFHzvI/Z3ez+FE9tJV7NRHqcN84O+glrfLtl8BXvb8nt9pTb90LV+RxW1S7RDfj1g/2yOZyfdiC5t6vLmPk7JB5Kmrg2GlT2V+e6WR3SVQ7EtMjPTR45viNt3RQE7QnQ2Ze32Ugdsai3ZYUWvW52qM0G3ZZdxr/6kh/l2J9jGuMb8T8xRL19ezrG/3bTq2tM1gz5UEPM9DV7qIYiAAAiAAAiCwSsCaCyH2V5GFJCo6RYbPtgLLC5RNC3ISnb+kl81t/EoIpXwSUEUUVbGatmeRKa+0FqFFQpu3q9qhkwskhqRN6vZc3k695ZWEUhFQxV5pTwhyO7dbfZFY1HPdJMyonzWbVEMk2ohD2SZfpU3l5AW9W1txyqKUeEcbKF0EK/WRRKbKY2JS9rnOIZWl8S+8KzM+Fk16PsGQ2mCvD3vo+C7ZyuOf29phpUZTbop2dIxYYzmPySrXcpKAYoT/xsAt9TJ3illp+tLWpmPLUmPY3yXgeR7qOocCIAACIAACIHAFAWsuhNjvgLOgdaoMl+2Z0aYFOYnOegW8XPVmIjAGQRRiVczFHaleEQxC3FAeCRglbuLTpx/rV/brVXLVblOvithoUO4nC6G2T35yQrSjhaq2T30DeDspi9sY04s2qYaUuI+5c9vcl1KPt837jNlcsNJV4ypuVb9sU4q+lpnkxCo2SXVigNu3lI5t8DzNPeYtsmxtndmp+KJ2iYdgpRxR9vBcyYrntGluS8rl7Tb9t77MLa5wnQsZqV69nF9PGhgt6F2bji26EWxfTcDzPHS1kygIAiAAAiAAAisErLlw+vHjR7D+sVDJJC1oK4yHzPLMaFOcN+JDCYUUBVmQRDbyvwh6LmZiedGmISy4kON1eTq2o7a5+MziS9tDJyRaAcUFGG8n6KulJA6F0KSvQtsuP+mxbhO1UT4Fo7wv1U+iNDOTrNkt3YqL5B3bUvVJ6NY7HjK309uJ3SbejpPkpOxPNhD/Uzi9EXs1btxWno7NqW3e3zrLdhyWx7eIf2Kg+hReiTwZ85KVqKU2Wtt4jGif6SRVPZGWbLC5cj6q08Ly2nrtWDftqR10bGljkvrEJ9ggBhADiAHEAGIAMbBvDKjlSMCVfU1EbccAxN86Ac+MaEG+7qHKNURnFifytWxRTFVBoppoBIxosxU/QrRwgcXTsQ+13dQzBXms2Pa5LAbbsqIf5StvJ2VxG2N60SbVUGLUMs7P5mebFq+88j5js4L3Sj+6nti+hYMuq7Z5u0vpaCbP0ydZYt4iS9WfuCtipyv7yjZtq6IsNldjpBkr7gtPxybVtrap9qrKdettF/u1SyQeSsDzPPRQMGgcBEAABEBgGALWXAix3xl+C1qnynDZnhntJvZJePFb+ZXQSIKY8lWeFp+iLF1dJiHH6/J0jDy1LUW4EixCPGvxw2+RXxCDZE+5Kr5+YoMeUaAftKPnn9dsUl+lYm/94T1hf2tjEpBko+IieDdiMtrE78Ag2zMj/kNuFl+bQ6krrpazk0HcvqX00eNLtmohzO/saGxdZqVGU26mdqiujhEVm6Jshyu3NfZYx/q2evL7KE1f2tp0bFlqDPu7BDzPQ13nUAAEQAAEQAAEriBgzYUQ+x1wFrROleGyPTPatCCvgkEPdRau/OpqFgl0e84sZrQon0XI3GYSq/Tr4/EX7C3hysVWrKq2pRglsUP2MLHZCDop9rN9sR6JdBJkpa0qDGf7eYpzyL/4P7czt53bssUy2V7eTFC46LKcGbdVc2l4J27LXGKMT/EEwNclnOhEQHFQ9LnGgffx/sl+b0CNGx9Dnj5wfNN4CV9KbGvuwr4ioE1WOW/xzot6sqzEQHorBIsR9ZiFaGeNa2RWTgrlMWR3htxUj313eWCvpDcdW1baQ9Y6Ac/z0LpnyAUBEAABEACB6whYcyHEfoedBa1TZbhsz4ywIHcUrosnWRz5MLKpX+cgRPqRLL7Oy4/UPMgOHFseBHahWc/z0IJL2A0CIAACIAACNxGw5kKI/Q5CC1qnynDZnhlhQe4oXCH2HQ1Wa+rnO79S3+Y/ek+8W0HfCfLIPnFseSTdtm3P81DrDfaAAAiAAAiAwO0ErLkQYr/D0YLWqTJctmdGWJA7CleIfUeD9USm1tv4b78V/x4vcGy5h97tdT3PQ7d7ixogAAIgAAIg0BKw5kKI/ZaT2GNBEwWwkV4t5xUDFuReRw52g8BzE8Cx5djxwVx9LG/0BgIgAAIg8HwErLkQYr8zTha0TpXhsj0zwoJ8uHCFwyBwCAEcWw7BXDvxPA9VJ5AAARAAARAAgTsIWHMhxH4HqAWtU2W4bM+MsCAfLlzhMAgcQgDHlkMw1048z0PVCSRAAARAAARA4A4C1lz4/GI/vh6JXjl2h/Nbq1rQNrVVnxudX+8V267vDGeNiteUffxmOTHJX4GlfvBK9yFencWa2ZnpHoy4z4lLecXX4q93J1+V/8zFa5NYkGtS+RVpR/6Qmbagv52/Ayk2Uhxc9yx2ekXe0nditdNHMmG+rNqAzN0J0PEyzS9xHO4/nnAbcWzhNB6f3mMeeryV6AEEQAAEQAAEHkfAmgufW+zTe5BfRuxrUVKEOxcgXLzwdIkLLlh4mk4CzOI4t92ItgcwtQLr1jBOYl+Pc7F19qm0Sov0HRbnWJDrkXqksNV9bd1mAtn4jiy1Kr8vS6Ws/Y9kwnyxusa+hxGI8ZCOLXRM5MfhHXrFsWUHiDc0scc8dEN3KAoCIAACIAACT0fAmgufVuynhfl0Cuf30wtd2ddiP4SgxIoWvZHDLNiVMEh1l69GaXHzKKZWYN0a/dpvqq/3p+1pCuf3c5gg9gnTjp+PFLZ7mam+B1c2q78PV1Z7cLFtvjzYKDS/AwGI/R0g3tDEHvPQDd2hKAiAAAiAAAg8HQFrLnxesf/1mQBqsXc0VQvaJhuUqJ/bkIt9LUjEtm5Db8+NppSoGx8AeBDTPRgtjnO66jaf0Pj99RnSgw1qv3L96s3NC/LEnh7J4CdxWrGsx2E2jspewrk8tpAeWeFtq7sd6GRHZC4fb8ltpf3G4yHJBupj4vbSCafiy9s5nN/4CSbVbucEy6J9ZbwuH6f09oZoZ7yqyu1q7uCYQYVAV1+Tb+fEK5Xn34GSTicIyVd2tTaPwyVc3qxxUxwEIxqnGHk5nU82scdw+JiJutyJkl7ypWRzJtZjPrkY2aRih3e3ZhO3Qdirxpvxi00vjm/MFP0xNtwmSvOy73lM6KRmHqd8/K998u8Brytsp8bLZypXThgb8RBLCda6rWv7Ud3S5uZjCzWAz5sI7DEP3dQhCoMACIAACIDAkxGw5sKnFfvEblEEUoEHf1rQNnVZFp6XX7o2Ldrzs/lx8UmL3lgy+U8L7tTGLHzzrftKuFHzZaFqCai9me7BaNGmJW5FPM6SgBy/7XPbglyeoEm2VxEsxzNao8XLbCEJKxrT3G4V8XoMlc+8XREnJEi/Sk+xHhNLvB6J1xpzRQTSttUu5c1+sH4qB+W31W4R/LF2sonZKNu2eJdbsHl8FF5VICt+qQ8m6GSfso98coHGhY9pGTNhq6wr40F6oh+3yWWLL/R9r23zfnU7FDv0/S/bdKwov+1Rv/8idqK9VC/kEymlT2u87TZ0f3m7luXjok0vttU4UrEh47McAysTyVqOk+qoEw+pbm1Xxavitz6mqt+yue3YYreFvX0Ce8xD/V5QAgRAAARAAASel4A1F0Lsd8bLgtapYmcvLn7zIpkWvnGhS+nYkFh8pzZIgMRctWivPecFcRU9dX9OpDbZIldl37y5B6NFm5a4CfFys8m1wqYFedM3FyByPGNHWrzUzoson8db1+Xt5nbmsnQlNcdDFiNMwM2dqFTuo8ZGw1fbwKtne4QNLFvHbr7SW+JVM1Pbi+Mf21dlhWDm9vN0sqvlV/2m7xZ9D2IflE51M4csXjkTni7Or9lXitSP1bK8T9a2sItaymW5P4LTqj+Zi6hbml2LoyaOG1/INhqzhXhs6kmmuh8RG6t+sf5jshMPsrTi2dgoY0nWtbc2HVvsprD3CgJ7zENXdIMiIAACIAACIPC0BKy5EGK/M1wWtE4VO7tZeFIxuYjUC12xrdvQ26nJ5YU89SgWz7Tzjs89GC3a1Cy6i6FL+2/0Y8uCvLWVj6EULtEcMYbCPl1Wb7ftRtbyfxZUya6aP++Xt1efwinexk5XgA2O0d4q6FM+9Znr1jzDF2lbrFfs0P2o7Zbp3HiblzklIc6/AzydqnN+7TjwdiU78pc48HHh6Wwjbyfvkf3Onuir1DGH+VKuJrcM+Qk+aq21g59cWfcntpFtrH1RPNBJkCaOjP7UGKY4p3pvp3CisSeT6VPVIwYUV/r7wvn2/aJOrhD7KV5orOX3gveZW1weU9ajSG45togGsHETgRjL+AMBEAABEACBkQlYcyHEficiLGidKnZ2I0RKsbTwnYVZWmSyhbcQXvpKfmqTC4G8IKVFs22IJTiWSl63fw9G7eI6950W/taVzUYwXGerLrVpQd70zYVAK4q0eJlt0GX1Nm/XuLI/N9SkODfdv9hu4pLbwNOxC70tu43tLsaeZqa2l8Y/9aDKklDdU+zrW7qlZ9xvni6l1uyTDa3fpSCEv66ot7Md9aRNzOZ2xLT1vdHNxO0ieust+KzMWhyJ/nQc6W3WpqiX9kumIj7p5AP5crNf87FVxI1xEk70y1kmG+V3kbuzlN50bFlqDPu7BPaYh7qdoAAIgAAIgAAIPDEBay6E2O8MmAWtU8XONhe/eQEpFuy8HE+XVvmClKdJiIm2bEvyowG0eF4oc8vuPRiZYi8tuOfnmYVNzWJc5F69sW1BLhf+yXb9rHrla4xxtU6KHBrDWTDLfrRI4v3KWJCPf6Q8sifFFLuyXwRmjZuSn21QgrKMx2xfdSQn1Jhw+7Ttetsc/9p85lD75XHBvyM8nepKfiYj4lKudFfBWzjkbT5OPE0Gyn6E31Skfq74ooUtCdJqY22knniZ30ihxmrNH5NTFsUmIzr5KMZX9Sd4lbsolq7s65NGKq4kv9JPZSBZr52oyHkdsU/tFvvr90DxkzbxcVhObzu2LLeHnHUCe8xD6z0gFwRAAARAAASem4A1F0Lsd8bMgtapYmfTYpJucy2fVcCwWnlhmW8vbfPzYjfaNS/056tzeT/dmqp/sT13ktqnRS7rd2tyD0bc59kHvlBX1gnhofJu2Ny8IBfjqewUeeeQfoGeBJOwTQtHva2EDYnBGkO83yKKah6744Pb83YJn/EX8cX4y5g68yv0RYilMXn/XHkkITsmx5HZp8dLbXdjUviQ3xiw65X9aD7vY+J3KfBx4Wk2mKIu85sVqUletrz9oJ5kIIFvjWNtICaKHe/ncKKyYkzX/KG7AObjxHycWYkjHX+qv3SioNhy/mpjV5hfxHSKq+YNEDweT+Hyoe5S4PzEOMkeemJfjLf1vRD9dMZUdR03Nx9bjLYO2SX85ScED+n97k7kPFRiqDnu5viev28U73l8YwzPeXebhAZAAARAAARA4FACci7MXT+92D+UkNGZBc0oNvQuz4zcLciHjjQ4PxMoYv8jv8Vj3u8x9Uq+zPx9HVv0yZm8PZ8Emv161pSch+iEkT5Jo8R+POmYTghQeXaS9FkdhV0gAAIgAAIgsEBAzoW5EMT+AizabUGjPHxmAp4Z+VqQI+JAgAi8kkB+JV9ofBxe2Z9NTyn9SIfKfrpNOQ+VkxVv+i4mJfafzgsYBAIgAAIgAALbCci5MLcDsd/haUHrVBku2zMjiP3hwvVFHH4lgfxKvszh5f3Y8gpinx4nme9QMMQ+f1SpeSyErvjnR15wi/8c30iBAAiAAAg8HwFLk0Hsd8bJgtapMly2Z0beF+TDBRscBgEnBFwfW8rz+57ErZyHskhP9ovfB9FiP5Zjt/obZeuJgpTHyjqJQ5gJAiAAAiAwDgE5F2a/IfY7429B61QZLtszI9cL8uEiDQ6DgB8Cfo8t5Wp28+N2z81ezkNM7NOPXiZ/tNiXPuUfGC3P7acTHlzcv+YdKJIAtkAABEAABDwTkHNh9gRivzOiFrROleGyPTPyuyAfLszgMAi4IuDz2OJT6MfAkPOQFPv05oXzlxb7eTvWjf+n+Iw/vUZVXOWPPUDsu/oCwlgQAAEQGJCAnAszAIj9TiBY0DpVhsv2zMjngny4EHPs8IMEQnPVcRlRevY6vSaP28LTy3WRs52Av2NLFsj1tvXtrn9LTTkPKbFPr43Ur7rUgp5vN98xfGe+ZWDRKQiAAAiAwNUE5FyYq0Hsd/BZ0DpVhsv2zMjfgny48HLu8IMEQiNEFjDFcknox3xuC08v1MXuuwj4OrbkeMivobvL7W+rLOehVuxT/Mdy9bcIxHP4hQFd2RfflxCCKPttbqJjEAABEAABEFgkIOfCXAxifxFXATRNnRLItgLLCxVfC3IvVGHnTOCZRPUz2TITetWUq2NLOnmUb2WPx/P6X08UPf8oyXnIEvsk2JnYL4I++3sKl69LOPEf7Au5HeJRTxI8Pw5YCAIgAAIgMCABORdmABD7nUCwoHWqDJftmZGrBfnTRhaJyEs4k1CIIoELCCUa8g9hFVHB81Kdczi/57y8uKYrbiRCyg9o6StvkQ+/DZd+mItsEot4CTO/Zuw829+UvWHRL/w+h/PbFPit0Yu+F9svH/G54dn/ZBvbTpanPviPhy3YF9usfGmcfqur/JkF78fzFV45st+3hWPLsew9z0PHkkJvIAACIAACr0rAmgun//z37/CP8Y+FSg4DC9qrBshWvzwzQpxvHXVej8Q4ifAiPElkFvFbr4oJQV7q0i9/l7KNOKZ8JfCTcKZ+SNxTWSF0Q8iC/pMbXtNZ6M7iOW3XdrlIphMKc9naSEpYZZnYX/M95c1l6aQAcRM2CbGv+uR5ggEvx9MhSI55/PgYSB+xdQ0BHFuuobRfGc/z0H4U0BIIgAAIgMDIBKy5EFf2OxFhQetUGS7bMyMsyPcIVykc6dnYWSxm8ShEKwny2D0XwFyomqYpISrKRzvWRfjSFWt9IkCIX9FHNEr7ywztlNX9CN85B82l/sDYJcTr8vnXxYuvTZ/MnqvEfuuP8J81h+T1BHBsuZ7VHiU9z0N7+I82QAAEQAAEQMCaCyH2O3FhQetUGS7bMyMsyPcIVy0W9TYX+zrvCrGfRDDdwn8KJ3VbfBTQ6cRCFL31ajwJYllvk9jXInxN7Ddl8x0F+cRHx3ddV20LAc4FvionRjTmVSa8f57m45Nri75Eg9i4lgCOLdeS2qec53loHwJoBQRAAARAYHQC1lwIsd+JCgtap8pw2Z4ZYUG+R7hy4Rjb09tSTK5e3eYiNpmm29Lb5WTB2yV8fpzEs/G6H73NPdd5Qux2bWItdcrqfnBln7F7sSSOLccOqOd56FhS6A0EQAAEQOBVCVhzIcR+Z7QtaJ0qw2V7ZoQF+R7hqgW43pZiXwjccmKgXnFfEMs1P13Fnp9rz9bn9qf6yqyyN/7IH13VTu1Oobaj3NYiXIh9ffIi2XDl4wKl3/pIg7gKnzlVm0SeuuNh7TZ+bV/5BfH02ERskxiIcnKMpL+ZZ7VZscLmdQRwbLmO016lPM9DezFAOyAAAiAAAmMTsOZCiP1OTFjQOlWGy/bMCAvyPcJVCsfelf3YYxKX9Cv5VYzSrfdKSCcRXG7Hf/80f2hPi/XkFQn82E+58j8LX+m3ri/FbyxLJxTmX8mXLfAtXja/WYAL50XfN4v91r7a35ViP7VQ3oAQv8/1BAR3C+mbCODYchOuuwt7nofudh4NgAAIgAAIgEAI6W1OGgTEviaitrGAUECMTc+MsCA3BhS7QAAE7iaAY8vdCG9qwPM8dJOjKAwCIAACIAACCwSsuRBifwEW7bagUR4+MwHPjLAgRxSDAAg8ggCOLY+gutym53lo2SvkgAAIgAAIgMD1BKy5EGK/w8+C1qkyXLZnRliQDxeucBgEDiGAY8shmGsnnueh6gQSIAACIAACIHAHAWsuhNjvALWgdaoMl+2ZERbkw4UrHAaBQwjg2HII5tqJ53moOoEECIAACIAACNxBwJoLIfY7QC1onSrDZXtmhAX5cOEKh0HgEAI4thyCuXbieR6qTiABAiAAAiAAAncQsOZCiP0OUAtap8pw2Z4ZYUE+XLjCYRA4hACOLYdgrp14noeqE0iAAAiAAAiAwB0ErLkQYr8D1ILWqTJctmdGWJAPF65wGAQOIYBjyyGYayee56HqBBIgAAIgAAIgcAcBay6E2O8AtaB1qgyX7ZkRFuTDhSscBoFDCODYcgjm2onneag6gQQIgAAIgAAI3EHAmgsh9jtALWidKsNle2aEBflw4QqHQeAQAji2HIK5duJ5HqpOIAECIAACIAACdxCw5kKI/Q5QC1qnynDZnhlhQT5cuMJhEDiEAI4th2CunXieh6oTSIAACIAACIDAHQSsuRBivwPUgtapMly2Z0ZYkA8XrnAYBA4hgGPLIZhrJ57noeoEEiAAAiAAAiBwBwFrLoTY7wC1oHWqDJftmREW5MOFKxwGgUMI4NhyCObaied5qDqBBAiAAAiAAAjcQcCaCyH2O0AtaJ0qw2V7ZoQF+XDhCodB4BACOLYcgrl24nkeqk4gAQIgAAIgAAJ3ELDmwunHjx/B+qeFSqyEfzB41RigOMfnXwEMwAAxsH8MvOqxE35hXYAYQAwgBhADiIHniwF9rmD68+dPsP5p0acrjLYdgxh/6wQ8M6I4x+f+IgdMwRQx8Nf6wRO5uxHwPA/tBgENgQAIgAAIDE3AmgsXxX48AfDz58+hgUXnLWjDQ1EAvDPybr8aDmyCAAg8AQEcV44dBPA+ljd6AwEQAAEQeD4C1lwIsd8ZJwtap8pw2d4Zebd/uICDwyDggMC+x5Xf4fI2hdPHbwee72Hi7f7uy3sPH9AGCIAACIAACBxLwJoL/x9HgHUHEX3wKwAAAABJRU5ErkJggg==)"
      ],
      "metadata": {
        "id": "NzgSCNErU7yW"
      }
    },
    {
      "cell_type": "code",
      "source": [
        "df_d0021 = selectByVarCode('D0021')\n",
        "summary(df_d0021)"
      ],
      "metadata": {
        "colab": {
          "base_uri": "https://localhost:8080/"
        },
        "id": "AIdNrZTCgPTS",
        "outputId": "46de64b2-c320-4174-ad70-746bf60dc318"
      },
      "execution_count": 58,
      "outputs": [
        {
          "output_type": "stream",
          "name": "stdout",
          "text": [
            "\n",
            "+-------------+------+\n",
            "   Answers: 381438\n",
            "+-------------+------+\n",
            "  \n",
            "+------+------+\n",
            "|answer| count|\n",
            "+------+------+\n",
            "|   Não|362391|\n",
            "|   Sim| 19047|\n",
            "+------+------+\n",
            "\n",
            "+---+-----+---------+-----+\n",
            "| UF|total|positives|  (%)|\n",
            "+---+-----+---------+-----+\n",
            "| 28| 8013|      845|10.55|\n",
            "| 16| 2472|      160| 6.47|\n",
            "| 53| 6795|      416| 6.12|\n",
            "| 50| 8657|      522| 6.03|\n",
            "| 52|14195|      841| 5.92|\n",
            "| 29|17063|     1001| 5.87|\n",
            "| 24| 7775|      454| 5.84|\n",
            "| 43|21931|     1243| 5.67|\n",
            "| 12| 6102|      330| 5.41|\n",
            "| 17| 5087|      275| 5.41|\n",
            "| 51|11359|      610| 5.37|\n",
            "| 35|32104|     1700|  5.3|\n",
            "| 31|34339|     1718|  5.0|\n",
            "| 11| 6001|      296| 4.93|\n",
            "| 41|19872|      966| 4.86|\n",
            "| 26|17138|      831| 4.85|\n",
            "| 14| 5614|      271| 4.83|\n",
            "| 25| 9873|      472| 4.78|\n",
            "| 22| 8480|      396| 4.67|\n",
            "| 23|16182|      745|  4.6|\n",
            "| 32|15863|      698|  4.4|\n",
            "| 33|29065|     1236| 4.25|\n",
            "| 27|11403|      473| 4.15|\n",
            "| 42|23432|      972| 4.15|\n",
            "| 21|20404|      770| 3.77|\n",
            "| 15|11878|      433| 3.65|\n",
            "| 13|10341|      373| 3.61|\n",
            "+---+-----+---------+-----+\n",
            "\n"
          ]
        }
      ]
    },
    {
      "cell_type": "markdown",
      "source": [
        "## D1.D0031 - Rendimentos de Programa Bolsa Família\n",
        "\n",
        "![image.png](data:image/png;base64,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)"
      ],
      "metadata": {
        "id": "ZkPPH7kUVF_-"
      }
    },
    {
      "cell_type": "code",
      "source": [
        "df_d0031 = selectByVarCode('D0031')\n",
        "summary(df_d0031)"
      ],
      "metadata": {
        "colab": {
          "base_uri": "https://localhost:8080/"
        },
        "id": "KapXWTc9gZYt",
        "outputId": "ac6ccdb3-b26b-47ef-83f0-a331ab021d5e"
      },
      "execution_count": 59,
      "outputs": [
        {
          "output_type": "stream",
          "name": "stdout",
          "text": [
            "\n",
            "+-------------+------+\n",
            "   Answers: 381438\n",
            "+-------------+------+\n",
            "  \n",
            "+------+------+\n",
            "|answer| count|\n",
            "+------+------+\n",
            "|   Não|344706|\n",
            "|   Sim| 36732|\n",
            "+------+------+\n",
            "\n",
            "+---+-----+---------+-----+\n",
            "| UF|total|positives|  (%)|\n",
            "+---+-----+---------+-----+\n",
            "| 21|20404|     4872|23.88|\n",
            "| 29|17063|     3928|23.02|\n",
            "| 28| 8013|     1831|22.85|\n",
            "| 25| 9873|     2172| 22.0|\n",
            "| 27|11403|     2258| 19.8|\n",
            "| 26|17138|     2998|17.49|\n",
            "| 12| 6102|      993|16.27|\n",
            "| 23|16182|     2235|13.81|\n",
            "| 15|11878|     1588|13.37|\n",
            "| 13|10341|     1318|12.75|\n",
            "| 22| 8480|      960|11.32|\n",
            "| 14| 5614|      618|11.01|\n",
            "| 24| 7775|      848|10.91|\n",
            "| 17| 5087|      387| 7.61|\n",
            "| 11| 6001|      395| 6.58|\n",
            "| 31|34339|     2090| 6.09|\n",
            "| 51|11359|      639| 5.63|\n",
            "| 33|29065|     1602| 5.51|\n",
            "| 52|14195|      626| 4.41|\n",
            "| 41|19872|      818| 4.12|\n",
            "| 50| 8657|      351| 4.05|\n",
            "| 32|15863|      629| 3.97|\n",
            "| 53| 6795|      265|  3.9|\n",
            "| 35|32104|     1222| 3.81|\n",
            "| 43|21931|      602| 2.74|\n",
            "| 16| 2472|       60| 2.43|\n",
            "| 42|23432|      427| 1.82|\n",
            "+---+-----+---------+-----+\n",
            "\n"
          ]
        }
      ]
    },
    {
      "cell_type": "markdown",
      "source": [
        "## D1.D0041 -  No mês de ... _(mês de referência)_, ... recebeu rendimentos de Benefício Assistencial de Prestação Continuada – BPC-LOAS?\n",
        "\n",
        "![image.png](data:image/png;base64,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)"
      ],
      "metadata": {
        "id": "GyyiXdJNU4jS"
      }
    },
    {
      "cell_type": "code",
      "source": [
        "df_d0041 = selectByVarCode('D0041')\n",
        "summary(df_d0041)"
      ],
      "metadata": {
        "colab": {
          "base_uri": "https://localhost:8080/"
        },
        "id": "Pa-b-70tgs1U",
        "outputId": "9d458858-1d9b-4276-d1a6-3ebc8d0d6093"
      },
      "execution_count": 60,
      "outputs": [
        {
          "output_type": "stream",
          "name": "stdout",
          "text": [
            "\n",
            "+-------------+------+\n",
            "   Answers: 381438\n",
            "+-------------+------+\n",
            "  \n",
            "+------+------+\n",
            "|answer| count|\n",
            "+------+------+\n",
            "|   Não|367645|\n",
            "|   Sim| 13793|\n",
            "+------+------+\n",
            "\n",
            "+---+-----+---------+----+\n",
            "| UF|total|positives| (%)|\n",
            "+---+-----+---------+----+\n",
            "| 27|11403|      775| 6.8|\n",
            "| 50| 8657|      541|6.25|\n",
            "| 16| 2472|      148|5.99|\n",
            "| 28| 8013|      465| 5.8|\n",
            "| 25| 9873|      572|5.79|\n",
            "| 13|10341|      580|5.61|\n",
            "| 23|16182|      907| 5.6|\n",
            "| 24| 7775|      428| 5.5|\n",
            "| 15|11878|      599|5.04|\n",
            "| 22| 8480|      422|4.98|\n",
            "| 17| 5087|      240|4.72|\n",
            "| 26|17138|      753|4.39|\n",
            "| 29|17063|      682| 4.0|\n",
            "| 12| 6102|      242|3.97|\n",
            "| 31|34339|     1346|3.92|\n",
            "| 21|20404|      797|3.91|\n",
            "| 11| 6001|      234| 3.9|\n",
            "| 51|11359|      411|3.62|\n",
            "| 52|14195|      487|3.43|\n",
            "| 53| 6795|      191|2.81|\n",
            "| 32|15863|      359|2.26|\n",
            "| 35|32104|      721|2.25|\n",
            "| 43|21931|      437|1.99|\n",
            "| 33|29065|      567|1.95|\n",
            "| 14| 5614|      102|1.82|\n",
            "| 41|19872|      361|1.82|\n",
            "| 42|23432|      426|1.82|\n",
            "+---+-----+---------+----+\n",
            "\n"
          ]
        }
      ]
    },
    {
      "cell_type": "markdown",
      "source": [
        "## D1.D0051 - Auxílios emergenciais relacionados ao coronavirus\n",
        "\n",
        "![image.png](data:image/png;base64,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)"
      ],
      "metadata": {
        "id": "BmZSqxZHU0sg"
      }
    },
    {
      "cell_type": "code",
      "source": [
        "df_d0051 = selectByVarCode('D0051')\n",
        "summary(df_d0051)"
      ],
      "metadata": {
        "colab": {
          "base_uri": "https://localhost:8080/"
        },
        "id": "VNgfCOZbg5U-",
        "outputId": "9c32e038-d4e4-4ddd-9e11-f4c20b51be8f"
      },
      "execution_count": 61,
      "outputs": [
        {
          "output_type": "stream",
          "name": "stdout",
          "text": [
            "\n",
            "+-------------+------+\n",
            "   Answers: 381438\n",
            "+-------------+------+\n",
            "  \n",
            "+------+------+\n",
            "|answer| count|\n",
            "+------+------+\n",
            "|   Não|196671|\n",
            "|   Sim|184767|\n",
            "+------+------+\n",
            "\n",
            "+---+-----+---------+-----+\n",
            "| UF|total|positives|  (%)|\n",
            "+---+-----+---------+-----+\n",
            "| 16| 2472|     1725|69.78|\n",
            "| 27|11403|     7509|65.85|\n",
            "| 21|20404|    13254|64.96|\n",
            "| 15|11878|     7676|64.62|\n",
            "| 29|17063|    10657|62.46|\n",
            "| 22| 8480|     5279|62.25|\n",
            "| 23|16182|    10051|62.11|\n",
            "| 13|10341|     6407|61.96|\n",
            "| 28| 8013|     4906|61.23|\n",
            "| 26|17138|    10416|60.78|\n",
            "| 12| 6102|     3635|59.57|\n",
            "| 24| 7775|     4598|59.14|\n",
            "| 25| 9873|     5835| 59.1|\n",
            "| 14| 5614|     3000|53.44|\n",
            "| 11| 6001|     3043|50.71|\n",
            "| 17| 5087|     2575|50.62|\n",
            "| 32|15863|     7535| 47.5|\n",
            "| 52|14195|     6688|47.12|\n",
            "| 31|34339|    15375|44.77|\n",
            "| 51|11359|     5066| 44.6|\n",
            "| 50| 8657|     3614|41.75|\n",
            "| 33|29065|    11771| 40.5|\n",
            "| 35|32104|    12000|37.38|\n",
            "| 41|19872|     7276|36.61|\n",
            "| 53| 6795|     2304|33.91|\n",
            "| 43|21931|     6614|30.16|\n",
            "| 42|23432|     5958|25.43|\n",
            "+---+-----+---------+-----+\n",
            "\n"
          ]
        }
      ]
    },
    {
      "cell_type": "markdown",
      "source": [
        "## D1.D0061 - Seguro desemprego\n",
        "\n",
        "![image.png](data:image/png;base64,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)"
      ],
      "metadata": {
        "id": "rCGNGLzaVFBv"
      }
    },
    {
      "cell_type": "code",
      "source": [
        "df_d0061 = selectByVarCode('D0061')\n",
        "summary(df_d0061)"
      ],
      "metadata": {
        "colab": {
          "base_uri": "https://localhost:8080/"
        },
        "id": "CWy5qmnEhAbH",
        "outputId": "800d8054-bd0a-446c-db55-c25800f25462"
      },
      "execution_count": 62,
      "outputs": [
        {
          "output_type": "stream",
          "name": "stdout",
          "text": [
            "\n",
            "+-------------+------+\n",
            "   Answers: 381438\n",
            "+-------------+------+\n",
            "  \n",
            "+------+------+\n",
            "|answer| count|\n",
            "+------+------+\n",
            "|   Não|376232|\n",
            "|   Sim|  5206|\n",
            "+------+------+\n",
            "\n",
            "+---+-----+---------+----+\n",
            "| UF|total|positives| (%)|\n",
            "+---+-----+---------+----+\n",
            "| 42|23432|      597|2.55|\n",
            "| 35|32104|      689|2.15|\n",
            "| 43|21931|      429|1.96|\n",
            "| 53| 6795|      125|1.84|\n",
            "| 51|11359|      191|1.68|\n",
            "| 31|34339|      555|1.62|\n",
            "| 32|15863|      251|1.58|\n",
            "| 50| 8657|      123|1.42|\n",
            "| 33|29065|      387|1.33|\n",
            "| 52|14195|      187|1.32|\n",
            "| 41|19872|      258| 1.3|\n",
            "| 16| 2472|       32|1.29|\n",
            "| 12| 6102|       77|1.26|\n",
            "| 26|17138|      186|1.09|\n",
            "| 28| 8013|       86|1.07|\n",
            "| 11| 6001|       64|1.07|\n",
            "| 25| 9873|      100|1.01|\n",
            "| 29|17063|      167|0.98|\n",
            "| 22| 8480|       80|0.94|\n",
            "| 24| 7775|       71|0.91|\n",
            "| 13|10341|       93| 0.9|\n",
            "| 21|20404|      167|0.82|\n",
            "| 23|16182|      128|0.79|\n",
            "| 14| 5614|       35|0.62|\n",
            "| 15|11878|       64|0.54|\n",
            "| 27|11403|       47|0.41|\n",
            "| 17| 5087|       17|0.33|\n",
            "+---+-----+---------+----+\n",
            "\n"
          ]
        }
      ]
    },
    {
      "cell_type": "markdown",
      "source": [
        "## D1.D0071 - Outros rendimentos, como aluguel, arrendamento, previdência privada, bolsa de estudos, rendimentos de aplicação financeira etc.\n",
        "\n",
        "![image.png](data:image/png;base64,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)"
      ],
      "metadata": {
        "id": "RSl5vKw1U_1f"
      }
    },
    {
      "cell_type": "code",
      "source": [
        "df_d0071 = selectByVarCode('D0071')\n",
        "summary(df_d0071)"
      ],
      "metadata": {
        "colab": {
          "base_uri": "https://localhost:8080/"
        },
        "id": "1anGcqe0VwRg",
        "outputId": "380b0a67-4c4f-4db3-dc9e-02d67274f757"
      },
      "execution_count": 63,
      "outputs": [
        {
          "output_type": "stream",
          "name": "stdout",
          "text": [
            "\n",
            "+-------------+------+\n",
            "   Answers: 381438\n",
            "+-------------+------+\n",
            "  \n",
            "+------+------+\n",
            "|answer| count|\n",
            "+------+------+\n",
            "|   Não|362466|\n",
            "|   Sim| 18972|\n",
            "+------+------+\n",
            "\n",
            "+---+-----+---------+----+\n",
            "| UF|total|positives| (%)|\n",
            "+---+-----+---------+----+\n",
            "| 43|21931|     1831|8.35|\n",
            "| 50| 8657|      668|7.72|\n",
            "| 41|19872|     1424|7.17|\n",
            "| 53| 6795|      470|6.92|\n",
            "| 42|23432|     1620|6.91|\n",
            "| 52|14195|      977|6.88|\n",
            "| 35|32104|     2136|6.65|\n",
            "| 51|11359|      701|6.17|\n",
            "| 31|34339|     1878|5.47|\n",
            "| 32|15863|      842|5.31|\n",
            "| 24| 7775|      380|4.89|\n",
            "| 33|29065|     1311|4.51|\n",
            "| 11| 6001|      255|4.25|\n",
            "| 17| 5087|      207|4.07|\n",
            "| 25| 9873|      384|3.89|\n",
            "| 15|11878|      458|3.86|\n",
            "| 16| 2472|       91|3.68|\n",
            "| 26|17138|      596|3.48|\n",
            "| 23|16182|      533|3.29|\n",
            "| 28| 8013|      259|3.23|\n",
            "| 22| 8480|      272|3.21|\n",
            "| 29|17063|      523|3.07|\n",
            "| 12| 6102|      170|2.79|\n",
            "| 14| 5614|      142|2.53|\n",
            "| 27|11403|      287|2.52|\n",
            "| 13|10341|      240|2.32|\n",
            "| 21|20404|      317|1.55|\n",
            "+---+-----+---------+----+\n",
            "\n"
          ]
        }
      ]
    }
  ]
}