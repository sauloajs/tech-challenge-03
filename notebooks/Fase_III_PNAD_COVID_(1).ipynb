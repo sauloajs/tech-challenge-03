{
  "nbformat": 4,
  "nbformat_minor": 0,
  "metadata": {
    "colab": {
      "provenance": []
    },
    "kernelspec": {
      "name": "python3",
      "display_name": "Python 3"
    },
    "language_info": {
      "name": "python"
    }
  },
  "cells": [
    {
      "cell_type": "markdown",
      "source": [
        "#Importação de dados e uso de RDD e DataFrame"
      ],
      "metadata": {
        "id": "XocPQajSaC18"
      }
    },
    {
      "cell_type": "code",
      "execution_count": null,
      "metadata": {
        "colab": {
          "base_uri": "https://localhost:8080/"
        },
        "id": "Ik8q8sIyZ6sU",
        "outputId": "fd676582-1840-4caf-9aeb-a57c6a193157"
      },
      "outputs": [
        {
          "output_type": "stream",
          "name": "stdout",
          "text": [
            "Collecting pyspark\n",
            "  Downloading pyspark-3.5.0.tar.gz (316.9 MB)\n",
            "\u001b[2K     \u001b[90m━━━━━━━━━━━━━━━━━━━━━━━━━━━━━━━━━━━━━━━\u001b[0m \u001b[32m316.9/316.9 MB\u001b[0m \u001b[31m1.9 MB/s\u001b[0m eta \u001b[36m0:00:00\u001b[0m\n",
            "\u001b[?25h  Preparing metadata (setup.py) ... \u001b[?25l\u001b[?25hdone\n",
            "Requirement already satisfied: py4j==0.10.9.7 in /usr/local/lib/python3.10/dist-packages (from pyspark) (0.10.9.7)\n",
            "Building wheels for collected packages: pyspark\n",
            "  Building wheel for pyspark (setup.py) ... \u001b[?25l\u001b[?25hdone\n",
            "  Created wheel for pyspark: filename=pyspark-3.5.0-py2.py3-none-any.whl size=317425344 sha256=7583a47a8b78b7e94928881a277bf63931bf63831eff06851092e40320bffbe0\n",
            "  Stored in directory: /root/.cache/pip/wheels/41/4e/10/c2cf2467f71c678cfc8a6b9ac9241e5e44a01940da8fbb17fc\n",
            "Successfully built pyspark\n",
            "Installing collected packages: pyspark\n",
            "Successfully installed pyspark-3.5.0\n"
          ]
        }
      ],
      "source": [
        "!pip install pyspark"
      ]
    },
    {
      "cell_type": "markdown",
      "source": [
        "#Criando a sessão do SParkCOntext e Session"
      ],
      "metadata": {
        "id": "PadMahMTaRUC"
      }
    },
    {
      "cell_type": "code",
      "source": [
        "from pyspark import SparkContext\n",
        "from pyspark.sql import SparkSession"
      ],
      "metadata": {
        "id": "jT2zipqbaBP-"
      },
      "execution_count": null,
      "outputs": []
    },
    {
      "cell_type": "code",
      "source": [
        "!pip install findspark"
      ],
      "metadata": {
        "colab": {
          "base_uri": "https://localhost:8080/"
        },
        "id": "KJNNKNWlmrL2",
        "outputId": "a8614f72-99aa-4d7f-ce57-5fba3e2374a0"
      },
      "execution_count": null,
      "outputs": [
        {
          "output_type": "stream",
          "name": "stdout",
          "text": [
            "Collecting findspark\n",
            "  Downloading findspark-2.0.1-py2.py3-none-any.whl (4.4 kB)\n",
            "Installing collected packages: findspark\n",
            "Successfully installed findspark-2.0.1\n"
          ]
        }
      ]
    },
    {
      "cell_type": "code",
      "source": [
        "sc = SparkContext.getOrCreate()"
      ],
      "metadata": {
        "id": "_kttUr3baY98"
      },
      "execution_count": null,
      "outputs": []
    },
    {
      "cell_type": "code",
      "source": [
        "#Inicializar a sessão do Spark\n",
        "\n",
        "spark = SparkSession.builder.appName(\"PySpark DataFrame From RDD\").getOrCreate()"
      ],
      "metadata": {
        "id": "O23HN3C-acuj"
      },
      "execution_count": null,
      "outputs": []
    },
    {
      "cell_type": "markdown",
      "source": [
        "# Create PySpark DataFrame from an Existing RDD"
      ],
      "metadata": {
        "id": "S5RVGK0Las_6"
      }
    },
    {
      "cell_type": "code",
      "source": [
        "rdd = sc.parallelize([('C',85,76,87,91), ('B',85,76,87,91), ('A',85,78,96,92),('A',92,76,89,96)],4)"
      ],
      "metadata": {
        "id": "t0sKIslJan7S"
      },
      "execution_count": null,
      "outputs": []
    },
    {
      "cell_type": "code",
      "source": [
        "print(type(rdd))"
      ],
      "metadata": {
        "colab": {
          "base_uri": "https://localhost:8080/"
        },
        "id": "zUdDnqxbbYak",
        "outputId": "0065ab2c-ea0c-461b-cc9f-f0daef4c34ad"
      },
      "execution_count": null,
      "outputs": [
        {
          "output_type": "stream",
          "name": "stdout",
          "text": [
            "<class 'pyspark.rdd.RDD'>\n"
          ]
        }
      ]
    },
    {
      "cell_type": "code",
      "source": [
        "sub = [\"id_person\",\"value_1\",\"value_2\",\"value_3\",\"value_4\"]"
      ],
      "metadata": {
        "id": "s0kk1cbhbvMa"
      },
      "execution_count": null,
      "outputs": []
    },
    {
      "cell_type": "code",
      "source": [
        "#Criar um dataframe baseado num RDD existente\n",
        "marks_df = spark.createDataFrame(rdd, schema=sub)"
      ],
      "metadata": {
        "id": "c8QezqmicDtS"
      },
      "execution_count": null,
      "outputs": []
    },
    {
      "cell_type": "code",
      "source": [
        "marks_df"
      ],
      "metadata": {
        "colab": {
          "base_uri": "https://localhost:8080/"
        },
        "id": "qeWa9h0YcLVK",
        "outputId": "9aa98aa3-7ea1-4f1c-e5a0-9c1759bf87eb"
      },
      "execution_count": null,
      "outputs": [
        {
          "output_type": "execute_result",
          "data": {
            "text/plain": [
              "DataFrame[id_person: string, value_1: bigint, value_2: bigint, value_3: bigint, value_4: bigint]"
            ]
          },
          "metadata": {},
          "execution_count": 9
        }
      ]
    },
    {
      "cell_type": "code",
      "source": [
        "print(type(marks_df))"
      ],
      "metadata": {
        "colab": {
          "base_uri": "https://localhost:8080/"
        },
        "id": "xfHpfukAcQva",
        "outputId": "05b2ab70-63e8-485e-d624-a6908a4057cf"
      },
      "execution_count": null,
      "outputs": [
        {
          "output_type": "stream",
          "name": "stdout",
          "text": [
            "<class 'pyspark.sql.dataframe.DataFrame'>\n"
          ]
        }
      ]
    },
    {
      "cell_type": "code",
      "source": [
        "marks_df.printSchema()"
      ],
      "metadata": {
        "colab": {
          "base_uri": "https://localhost:8080/"
        },
        "id": "RzoiCmL2cTpZ",
        "outputId": "4ff31cdc-7c57-4411-b90c-0197677ee321"
      },
      "execution_count": null,
      "outputs": [
        {
          "output_type": "stream",
          "name": "stdout",
          "text": [
            "root\n",
            " |-- id_person: string (nullable = true)\n",
            " |-- value_1: long (nullable = true)\n",
            " |-- value_2: long (nullable = true)\n",
            " |-- value_3: long (nullable = true)\n",
            " |-- value_4: long (nullable = true)\n",
            "\n"
          ]
        }
      ]
    },
    {
      "cell_type": "code",
      "source": [
        "marks_df.show()"
      ],
      "metadata": {
        "colab": {
          "base_uri": "https://localhost:8080/"
        },
        "id": "iZDdlmkCclgx",
        "outputId": "e9a2375b-7d14-4996-c7d8-4ad5c1121cfd"
      },
      "execution_count": null,
      "outputs": [
        {
          "output_type": "stream",
          "name": "stdout",
          "text": [
            "+---------+-------+-------+-------+-------+\n",
            "|id_person|value_1|value_2|value_3|value_4|\n",
            "+---------+-------+-------+-------+-------+\n",
            "|        C|     85|     76|     87|     91|\n",
            "|        B|     85|     76|     87|     91|\n",
            "|        A|     85|     78|     96|     92|\n",
            "|        A|     92|     76|     89|     96|\n",
            "+---------+-------+-------+-------+-------+\n",
            "\n"
          ]
        }
      ]
    },
    {
      "cell_type": "code",
      "source": [
        "spark2 = SparkSession.builder.appName(\"pysparkdf\").getOrCreate()"
      ],
      "metadata": {
        "id": "NJ65kMLXcufK"
      },
      "execution_count": null,
      "outputs": []
    },
    {
      "cell_type": "markdown",
      "source": [
        "#Importando data - Mes 11"
      ],
      "metadata": {
        "id": "WN0HK7ZbdN1Y"
      }
    },
    {
      "cell_type": "code",
      "source": [
        "df = spark.read.csv(\"PNAD_COVID_112020 - Recorte.csv\",sep =\";\", inferSchema= True, header = True)\n",
        "df.count()"
      ],
      "metadata": {
        "id": "L_HBLFPfdO99",
        "colab": {
          "base_uri": "https://localhost:8080/"
        },
        "outputId": "1191d55a-6a08-4234-e4de-0aa944d0ca61"
      },
      "execution_count": null,
      "outputs": [
        {
          "output_type": "execute_result",
          "data": {
            "text/plain": [
              "381438"
            ]
          },
          "metadata": {},
          "execution_count": 10
        }
      ]
    },
    {
      "cell_type": "code",
      "source": [
        "df.createOrReplaceTempView(\"pnad\")\n",
        "\n",
        "\n",
        "\n",
        "pnad = spark.sql(''' SELECT * FROM pnad WHERE  ''')\n",
        "pnad.show()"
      ],
      "metadata": {
        "colab": {
          "base_uri": "https://localhost:8080/"
        },
        "id": "H3MYX-W39929",
        "outputId": "76aa03e9-a6d8-49bb-8232-78c204ae52b7"
      },
      "execution_count": null,
      "outputs": [
        {
          "output_type": "stream",
          "name": "stdout",
          "text": [
            "+----+---+-------+-------+-----+-----+-----+----+-----+-----+-----+----+----+----+----+----+----+----+-----+-----+-----+-----+-----+-----+-----+\n",
            "| Ano| UF|CAPITAL|RM_RIDE|B0011|B0012|B0014|B002|B0031|B0033|B0042|B005|C001|C002|C013|C014|C015|C016|D0011|D0021|D0031|D0041|D0051|D0061|D0071|\n",
            "+----+---+-------+-------+-----+-----+-----+----+-----+-----+-----+----+----+----+----+----+----+----+-----+-----+-----+-----+-----+-----+-----+\n",
            "|2020| 11|     11|   NULL|    2|    2|    2|NULL| NULL| NULL| NULL|NULL|   1|NULL|NULL|NULL|NULL|NULL|    2|    2|    2|    2|    1|    2|    2|\n",
            "|2020| 11|     11|   NULL|    2|    2|    2|NULL| NULL| NULL| NULL|NULL|   1|NULL|NULL|   2|NULL|NULL|    2|    2|    2|    2|    1|    2|    2|\n",
            "|2020| 11|     11|   NULL|    2|    2|    2|NULL| NULL| NULL| NULL|NULL|NULL|NULL|NULL|NULL|NULL|NULL|    2|    2|    2|    2|    1|    2|    2|\n",
            "|2020| 11|     11|   NULL|    2|    2|    2|NULL| NULL| NULL| NULL|NULL|NULL|NULL|NULL|NULL|NULL|NULL|    2|    2|    2|    2|    1|    2|    2|\n",
            "|2020| 11|     11|   NULL|    2|    2|    2|NULL| NULL| NULL| NULL|NULL|   2|   2|NULL|   2|   2|   1|    2|    2|    2|    1|    2|    2|    2|\n",
            "|2020| 11|     11|   NULL|    2|    2|    2|NULL| NULL| NULL| NULL|NULL|   1|NULL|NULL|   2|NULL|NULL|    1|    2|    2|    2|    2|    2|    2|\n",
            "|2020| 11|     11|   NULL|    2|    2|    2|NULL| NULL| NULL| NULL|NULL|   1|NULL|NULL|   2|NULL|NULL|    2|    2|    2|    2|    1|    2|    2|\n",
            "|2020| 11|     11|   NULL|    2|    2|    2|NULL| NULL| NULL| NULL|NULL|   2|   2|NULL|   2|   2|   3|    2|    2|    2|    2|    1|    2|    2|\n",
            "|2020| 11|     11|   NULL|    2|    2|    2|NULL| NULL| NULL| NULL|NULL|NULL|NULL|NULL|NULL|NULL|NULL|    2|    2|    2|    2|    1|    2|    2|\n",
            "|2020| 11|     11|   NULL|    2|    2|    2|NULL| NULL| NULL| NULL|NULL|NULL|NULL|NULL|NULL|NULL|NULL|    2|    2|    2|    2|    1|    2|    2|\n",
            "|2020| 11|     11|   NULL|    2|    2|    2|NULL| NULL| NULL| NULL|NULL|NULL|NULL|NULL|NULL|NULL|NULL|    2|    2|    2|    2|    1|    2|    2|\n",
            "|2020| 11|     11|   NULL|    2|    2|    2|NULL| NULL| NULL| NULL|NULL|   1|NULL|NULL|   2|NULL|NULL|    2|    2|    2|    2|    1|    2|    2|\n",
            "|2020| 11|     11|   NULL|    2|    2|    2|NULL| NULL| NULL| NULL|NULL|   2|   2|NULL|   2|   1|NULL|    2|    2|    2|    2|    1|    2|    2|\n",
            "|2020| 11|     11|   NULL|    2|    2|    2|NULL| NULL| NULL| NULL|NULL|   2|   2|NULL|   2|   2|   4|    2|    2|    2|    2|    1|    2|    2|\n",
            "|2020| 11|     11|   NULL|    2|    2|    2|NULL| NULL| NULL| NULL|NULL|   2|   2|NULL|   2|   2|   1|    2|    2|    2|    2|    1|    2|    2|\n",
            "|2020| 11|     11|   NULL|    2|    2|    2|NULL| NULL| NULL| NULL|NULL|   1|NULL|NULL|   2|NULL|NULL|    2|    2|    2|    2|    1|    2|    2|\n",
            "|2020| 11|     11|   NULL|    2|    2|    2|NULL| NULL| NULL| NULL|NULL|   2|   2|NULL|   2|   1|NULL|    2|    2|    2|    2|    1|    2|    2|\n",
            "|2020| 11|     11|   NULL|    2|    2|    2|NULL| NULL| NULL| NULL|NULL|   2|   2|NULL|   2|   2|   8|    1|    2|    2|    2|    1|    2|    2|\n",
            "|2020| 11|     11|   NULL|    2|    2|    2|NULL| NULL| NULL| NULL|NULL|   1|NULL|NULL|   2|NULL|NULL|    1|    2|    2|    2|    1|    2|    2|\n",
            "|2020| 11|     11|   NULL|    2|    2|    2|NULL| NULL| NULL| NULL|NULL|   2|   2|NULL|   2|   2|   2|    1|    2|    2|    2|    1|    2|    2|\n",
            "+----+---+-------+-------+-----+-----+-----+----+-----+-----+-----+----+----+----+----+----+----+----+-----+-----+-----+-----+-----+-----+-----+\n",
            "only showing top 20 rows\n",
            "\n"
          ]
        }
      ]
    },
    {
      "cell_type": "markdown",
      "source": [
        "##Consultas avançadas"
      ],
      "metadata": {
        "id": "Vf_JphQO9lCA"
      }
    },
    {
      "cell_type": "code",
      "source": [
        "from pyspark.sql import functions as F\n"
      ],
      "metadata": {
        "id": "NDux78r2ajJX"
      },
      "execution_count": null,
      "outputs": []
    },
    {
      "cell_type": "markdown",
      "source": [
        "## Geografia"
      ],
      "metadata": {
        "id": "ihC27GtnZdUm"
      }
    },
    {
      "cell_type": "code",
      "source": [
        "total_count_by_state = df.groupBy(\"UF\").count().withColumnRenamed(\"count\", \"total_count\")\n",
        "\n",
        "# Contando o número de registros que receberam o auxílio por estado\n",
        "auxilio_count_by_state = df.filter(df.D0051 == 1).groupBy(\"UF\").count().withColumnRenamed(\"count\", \"auxilio_count\")\n",
        "\n",
        "# Juntando os dois DataFrames com base na coluna 'UF'\n",
        "merged_df = total_count_by_state.join(auxilio_count_by_state, \"UF\", \"inner\")\n",
        "\n",
        "# Calculando a porcentagem\n",
        "merged_df = merged_df.withColumn(\"Percentage\", (F.col(\"auxilio_count\") / F.col(\"total_count\")) * 100)\n",
        "\n",
        "# Mostrando o DataFrame com a porcentagem calculada\n",
        "merged_df.show()"
      ],
      "metadata": {
        "colab": {
          "base_uri": "https://localhost:8080/"
        },
        "id": "EHtH8QPWZfBv",
        "outputId": "6db145af-ae14-4f5a-93d1-bd4850113eda"
      },
      "execution_count": null,
      "outputs": [
        {
          "output_type": "stream",
          "name": "stdout",
          "text": [
            "+---+-----------+-------------+------------------+\n",
            "| UF|total_count|auxilio_count|        Percentage|\n",
            "+---+-----------+-------------+------------------+\n",
            "| 31|      34339|        15375| 44.77416348757972|\n",
            "| 28|       8013|         4906| 61.22550854860851|\n",
            "| 26|      17138|        10416|60.777220212393516|\n",
            "| 27|      11403|         7509| 65.85109181794265|\n",
            "| 12|       6102|         3635|59.570632579482144|\n",
            "| 22|       8480|         5279| 62.25235849056604|\n",
            "| 13|      10341|         6407|61.957257518615215|\n",
            "| 16|       2472|         1725| 69.78155339805825|\n",
            "| 15|      11878|         7676| 64.62367401919515|\n",
            "| 17|       5087|         2575| 50.61922547670533|\n",
            "| 23|      16182|        10051|  62.1122234581634|\n",
            "| 25|       9873|         5835|  59.1005773321179|\n",
            "| 24|       7775|         4598|59.138263665594856|\n",
            "| 29|      17063|        10657| 62.45677782336049|\n",
            "| 21|      20404|        13254| 64.95785140168594|\n",
            "| 32|      15863|         7535| 47.50047279833575|\n",
            "| 11|       6001|         3043| 50.70821529745042|\n",
            "| 33|      29065|        11771|40.498881816617924|\n",
            "| 14|       5614|         3000|53.437833986462415|\n",
            "| 53|       6795|         2304| 33.90728476821192|\n",
            "+---+-----------+-------------+------------------+\n",
            "only showing top 20 rows\n",
            "\n"
          ]
        }
      ]
    },
    {
      "cell_type": "code",
      "source": [
        "total_count_by_state = df.groupBy(\"UF\").count().withColumnRenamed(\"count\", \"total_count\")\n",
        "total_count_by_state.show()"
      ],
      "metadata": {
        "colab": {
          "base_uri": "https://localhost:8080/"
        },
        "id": "rsNLIBuobckW",
        "outputId": "daaed648-fc15-45ef-e2ea-e7182ddd1cd9"
      },
      "execution_count": null,
      "outputs": [
        {
          "output_type": "stream",
          "name": "stdout",
          "text": [
            "+---+-----------+\n",
            "| UF|total_count|\n",
            "+---+-----------+\n",
            "| 31|      34339|\n",
            "| 28|       8013|\n",
            "| 26|      17138|\n",
            "| 27|      11403|\n",
            "| 12|       6102|\n",
            "| 22|       8480|\n",
            "| 13|      10341|\n",
            "| 16|       2472|\n",
            "| 15|      11878|\n",
            "| 17|       5087|\n",
            "| 23|      16182|\n",
            "| 25|       9873|\n",
            "| 24|       7775|\n",
            "| 29|      17063|\n",
            "| 21|      20404|\n",
            "| 32|      15863|\n",
            "| 11|       6001|\n",
            "| 33|      29065|\n",
            "| 14|       5614|\n",
            "| 53|       6795|\n",
            "+---+-----------+\n",
            "only showing top 20 rows\n",
            "\n"
          ]
        }
      ]
    },
    {
      "cell_type": "code",
      "source": [
        "auxilio_count_by_state = df.filter(df.D0051 == 1).groupBy(\"UF\").count().withColumnRenamed(\"count\", \"auxilio_count\")\n",
        "auxilio_count_by_state.show()"
      ],
      "metadata": {
        "colab": {
          "base_uri": "https://localhost:8080/"
        },
        "id": "1vJJJsk_b4eY",
        "outputId": "a90d16c1-8b04-4fac-bed0-f3126780ed44"
      },
      "execution_count": null,
      "outputs": [
        {
          "output_type": "stream",
          "name": "stdout",
          "text": [
            "+---+-------------+\n",
            "| UF|auxilio_count|\n",
            "+---+-------------+\n",
            "| 31|        15375|\n",
            "| 28|         4906|\n",
            "| 26|        10416|\n",
            "| 27|         7509|\n",
            "| 12|         3635|\n",
            "| 22|         5279|\n",
            "| 13|         6407|\n",
            "| 16|         1725|\n",
            "| 15|         7676|\n",
            "| 17|         2575|\n",
            "| 23|        10051|\n",
            "| 25|         5835|\n",
            "| 24|         4598|\n",
            "| 29|        10657|\n",
            "| 21|        13254|\n",
            "| 32|         7535|\n",
            "| 11|         3043|\n",
            "| 33|        11771|\n",
            "| 14|         3000|\n",
            "| 53|         2304|\n",
            "+---+-------------+\n",
            "only showing top 20 rows\n",
            "\n"
          ]
        }
      ]
    },
    {
      "cell_type": "code",
      "source": [
        "merged_df = total_count_by_state.join(auxilio_count_by_state, \"UF\", \"inner\")\n",
        "merged_df.show()"
      ],
      "metadata": {
        "colab": {
          "base_uri": "https://localhost:8080/"
        },
        "id": "_xjkRyUNcIsw",
        "outputId": "5949f2af-c8a7-4cbf-f9b6-cfeae772be70"
      },
      "execution_count": null,
      "outputs": [
        {
          "output_type": "stream",
          "name": "stdout",
          "text": [
            "+---+-----------+-------------+\n",
            "| UF|total_count|auxilio_count|\n",
            "+---+-----------+-------------+\n",
            "| 31|      34339|        15375|\n",
            "| 28|       8013|         4906|\n",
            "| 26|      17138|        10416|\n",
            "| 27|      11403|         7509|\n",
            "| 12|       6102|         3635|\n",
            "| 22|       8480|         5279|\n",
            "| 13|      10341|         6407|\n",
            "| 16|       2472|         1725|\n",
            "| 15|      11878|         7676|\n",
            "| 17|       5087|         2575|\n",
            "| 23|      16182|        10051|\n",
            "| 25|       9873|         5835|\n",
            "| 24|       7775|         4598|\n",
            "| 29|      17063|        10657|\n",
            "| 21|      20404|        13254|\n",
            "| 32|      15863|         7535|\n",
            "| 11|       6001|         3043|\n",
            "| 33|      29065|        11771|\n",
            "| 14|       5614|         3000|\n",
            "| 53|       6795|         2304|\n",
            "+---+-----------+-------------+\n",
            "only showing top 20 rows\n",
            "\n"
          ]
        }
      ]
    },
    {
      "cell_type": "markdown",
      "source": [
        "## Analise dados"
      ],
      "metadata": {
        "id": "OobnrMqPb8GW"
      }
    },
    {
      "cell_type": "markdown",
      "source": [
        "![image.png](data:image/png;base64,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)"
      ],
      "metadata": {
        "id": "zBY9lkJnVYIA"
      }
    },
    {
      "cell_type": "code",
      "source": [
        "total_count = spark.sql('''\n",
        "                        SELECT count(*) as total\n",
        "                        FROM pnad\n",
        "                        WHERE D0051 IS NOT NULL\n",
        "                        ''').collect()[0]['total']\n",
        "\n",
        "\n",
        "percentage_query = spark.sql('''\n",
        "                              SELECT D0051,\n",
        "                                     count(*) as count,\n",
        "                                     (count(*) / {} * 100) as percentage\n",
        "                              FROM pnad\n",
        "                              WHERE D0051 IS NOT NULL\n",
        "                              GROUP BY D00UF51\n",
        "                              '''.format(total_count))\n",
        "\n",
        "percentage_query.show()"
      ],
      "metadata": {
        "colab": {
          "base_uri": "https://localhost:8080/"
        },
        "id": "l-EpYPvgVbLM",
        "outputId": "d70caf81-d8f2-4f97-a53b-3b59c32f61d2"
      },
      "execution_count": null,
      "outputs": [
        {
          "output_type": "stream",
          "name": "stdout",
          "text": [
            "+-----+------+------------------+\n",
            "|D0051| count|        percentage|\n",
            "+-----+------+------------------+\n",
            "|    1|184767|48.439589133751745|\n",
            "|    2|196671|51.560410866248255|\n",
            "+-----+------+------------------+\n",
            "\n"
          ]
        }
      ]
    },
    {
      "cell_type": "markdown",
      "source": [
        "![image.png](data:image/png;base64,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)"
      ],
      "metadata": {
        "id": "fkgQK0ipoqCt"
      }
    },
    {
      "cell_type": "code",
      "source": [
        "total_count = spark.sql('''\n",
        "                        SELECT count(*) as total\n",
        "                        FROM pnad\n",
        "                        WHERE D0041 IS NOT NULL\n",
        "                        ''').collect()[0]['total']\n",
        "\n",
        "\n",
        "percentage_query = spark.sql('''\n",
        "                              SELECT D0041,\n",
        "                                     count(*) as count,\n",
        "                                     (count(*) / {} * 100) as percentage\n",
        "                              FROM pnad\n",
        "                              WHERE D0041 IS NOT NULL\n",
        "                              GROUP BY D0041\n",
        "                              '''.format(total_count))\n",
        "\n",
        "percentage_query.show()"
      ],
      "metadata": {
        "colab": {
          "base_uri": "https://localhost:8080/"
        },
        "id": "DqwX41Opo_-g",
        "outputId": "f6972bbc-dda0-48d2-a45b-726e6068ee8f"
      },
      "execution_count": null,
      "outputs": [
        {
          "output_type": "stream",
          "name": "stdout",
          "text": [
            "+-----+------+------------------+\n",
            "|D0041| count|        percentage|\n",
            "+-----+------+------------------+\n",
            "|    1| 13793|3.6160529365191723|\n",
            "|    2|367645| 96.38394706348082|\n",
            "+-----+------+------------------+\n",
            "\n"
          ]
        }
      ]
    },
    {
      "cell_type": "code",
      "source": [
        "total_count_by_state = df.groupBy(\"UF\").count().withColumnRenamed(\"count\", \"total_count\")\n",
        "\n",
        "# Contando o número de registros que receberam o auxílio por estado\n",
        "bpc_count_by_state = df.filter(df.D0041 == 1).groupBy(\"UF\").count().withColumnRenamed(\"count\", \"auxilio_count\")\n",
        "\n",
        "# Juntando os dois DataFrames com base na coluna 'UF'\n",
        "merged_df = total_count_by_state.join(bpc_count_by_state, \"UF\", \"inner\")\n",
        "\n",
        "# Calculando a porcentagem\n",
        "merged_df = merged_df.withColumn(\"Percentage\", (F.col(\"auxilio_count\") / F.col(\"total_count\")) * 100)\n",
        "\n",
        "# Mostrando o DataFrame com a porcentagem calculada\n",
        "merged_df.show()"
      ],
      "metadata": {
        "colab": {
          "base_uri": "https://localhost:8080/"
        },
        "id": "pLWmedlFdU1W",
        "outputId": "1ec0773d-29ed-4c2e-a1f4-42de3a6dfa64"
      },
      "execution_count": null,
      "outputs": [
        {
          "output_type": "stream",
          "name": "stdout",
          "text": [
            "+---+-----------+-------------+------------------+\n",
            "| UF|total_count|auxilio_count|        Percentage|\n",
            "+---+-----------+-------------+------------------+\n",
            "| 31|      34339|         1346|3.9197414019045396|\n",
            "| 28|       8013|          465| 5.803070011231749|\n",
            "| 26|      17138|          753| 4.393744894386742|\n",
            "| 27|      11403|          775| 6.796457072700167|\n",
            "| 12|       6102|          242| 3.965912815470338|\n",
            "| 22|       8480|          422| 4.976415094339623|\n",
            "| 13|      10341|          580|   5.6087419011701|\n",
            "| 16|       2472|          148|5.9870550161812295|\n",
            "| 15|      11878|          599|5.0429365212998825|\n",
            "| 17|       5087|          240| 4.717908393945351|\n",
            "| 23|      16182|          907|  5.60499320232357|\n",
            "| 25|       9873|          572| 5.793578446267598|\n",
            "| 24|       7775|          428| 5.504823151125402|\n",
            "| 29|      17063|          682| 3.996952470257282|\n",
            "| 21|      20404|          797| 3.906096843756126|\n",
            "| 32|      15863|          359| 2.263128033789321|\n",
            "| 11|       6001|          234|3.8993501083152813|\n",
            "| 33|      29065|          567| 1.950799931188715|\n",
            "| 14|       5614|          102| 1.816886355539722|\n",
            "| 53|       6795|          191| 2.810890360559235|\n",
            "+---+-----------+-------------+------------------+\n",
            "only showing top 20 rows\n",
            "\n"
          ]
        }
      ]
    },
    {
      "cell_type": "markdown",
      "source": [
        "![image.png](data:image/png;base64,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)"
      ],
      "metadata": {
        "id": "NAPShcxYpT50"
      }
    },
    {
      "cell_type": "code",
      "source": [
        "total_count = spark.sql('''\n",
        "                        SELECT count(*) as total\n",
        "                        FROM pnad\n",
        "                        WHERE D0021 IS NOT NULL\n",
        "                        ''').collect()[0]['total']\n",
        "\n",
        "\n",
        "percentage_query = spark.sql('''\n",
        "                              SELECT D0021,\n",
        "                                     count(*) as count,\n",
        "                                     (count(*) / {} * 100) as percentage\n",
        "                              FROM pnad\n",
        "                              WHERE D0021 IS NOT NULL\n",
        "                              GROUP BY D0021\n",
        "                              '''.format(total_count))\n",
        "\n",
        "percentage_query.show()"
      ],
      "metadata": {
        "colab": {
          "base_uri": "https://localhost:8080/"
        },
        "id": "yhYQ15v_pVtP",
        "outputId": "32aeab02-d660-4f5b-b8d0-4b3291e791a5"
      },
      "execution_count": null,
      "outputs": [
        {
          "output_type": "stream",
          "name": "stdout",
          "text": [
            "+-----+------+-----------------+\n",
            "|D0021| count|       percentage|\n",
            "+-----+------+-----------------+\n",
            "|    1| 19047|4.993472071476885|\n",
            "|    2|362391|95.00652792852311|\n",
            "+-----+------+-----------------+\n",
            "\n"
          ]
        }
      ]
    },
    {
      "cell_type": "code",
      "source": [
        "total_count_by_state = df.groupBy(\"UF\").count().withColumnRenamed(\"count\", \"total_count\")\n",
        "\n",
        "# Contando o número de registros que receberam o auxílio por estado\n",
        "rend_ext_count_by_state = df.filter(df.D0021 == 1).groupBy(\"UF\").count().withColumnRenamed(\"count\", \"auxilio_count\")\n",
        "\n",
        "# Juntando os dois DataFrames com base na coluna 'UF'\n",
        "merged_df = total_count_by_state.join(rend_ext_count_by_state, \"UF\", \"inner\")\n",
        "\n",
        "# Calculando a porcentagem\n",
        "merged_df = merged_df.withColumn(\"Percentage\", (F.col(\"auxilio_count\") / F.col(\"total_count\")) * 100)\n",
        "\n",
        "# Mostrando o DataFrame com a porcentagem calculada\n",
        "merged_df.show()"
      ],
      "metadata": {
        "colab": {
          "base_uri": "https://localhost:8080/"
        },
        "id": "JwWhk7FFdlEO",
        "outputId": "64d0785a-9d7e-40b7-f0ed-1257cf886dbf"
      },
      "execution_count": null,
      "outputs": [
        {
          "output_type": "stream",
          "name": "stdout",
          "text": [
            "+---+-----------+-------------+------------------+\n",
            "| UF|total_count|auxilio_count|        Percentage|\n",
            "+---+-----------+-------------+------------------+\n",
            "| 31|      34339|         1718| 5.003057747750371|\n",
            "| 28|       8013|          845|10.545363783851242|\n",
            "| 26|      17138|          831|  4.84887384759015|\n",
            "| 27|      11403|          473| 4.148031219854424|\n",
            "| 12|       6102|          330| 5.408062930186824|\n",
            "| 22|       8480|          396| 4.669811320754716|\n",
            "| 13|      10341|          373|3.6070012571318055|\n",
            "| 16|       2472|          160| 6.472491909385113|\n",
            "| 15|      11878|          433| 3.645394847617444|\n",
            "| 17|       5087|          275|5.4059367013957145|\n",
            "| 23|      16182|          745| 4.603880855271289|\n",
            "| 25|       9873|          472| 4.780715081535501|\n",
            "| 24|       7775|          454| 5.839228295819936|\n",
            "| 29|      17063|         1001| 5.866494754732462|\n",
            "| 21|      20404|          770| 3.773769849049206|\n",
            "| 32|      15863|          698|  4.40017651137868|\n",
            "| 11|       6001|          296| 4.932511248125312|\n",
            "| 33|      29065|         1236| 4.252537416136247|\n",
            "| 14|       5614|          271| 4.827217670110438|\n",
            "| 53|       6795|          416|  6.12214863870493|\n",
            "+---+-----------+-------------+------------------+\n",
            "only showing top 20 rows\n",
            "\n"
          ]
        }
      ]
    },
    {
      "cell_type": "markdown",
      "source": [
        "![image.png](data:image/png;base64,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)"
      ],
      "metadata": {
        "id": "YIko5zSjpfN-"
      }
    },
    {
      "cell_type": "code",
      "source": [
        "total_count = spark.sql('''\n",
        "                        SELECT count(*) as total\n",
        "                        FROM pnad\n",
        "                        WHERE D0071 IS NOT NULL\n",
        "                        ''').collect()[0]['total']\n",
        "\n",
        "\n",
        "percentage_query = spark.sql('''\n",
        "                              SELECT D0071,\n",
        "                                     count(*) as count,\n",
        "                                     (count(*) / {} * 100) as percentage\n",
        "                              FROM pnad\n",
        "                              WHERE D0071 IS NOT NULL\n",
        "                              GROUP BY D0071\n",
        "                              '''.format(total_count))\n",
        "\n",
        "percentage_query.show()"
      ],
      "metadata": {
        "colab": {
          "base_uri": "https://localhost:8080/"
        },
        "id": "VHVOMrATphYS",
        "outputId": "54642822-0c20-4bd0-ce17-859117275dce"
      },
      "execution_count": null,
      "outputs": [
        {
          "output_type": "stream",
          "name": "stdout",
          "text": [
            "+-----+------+-----------------+\n",
            "|D0071| count|       percentage|\n",
            "+-----+------+-----------------+\n",
            "|    1| 18972|4.973809636166298|\n",
            "|    2|362466| 95.0261903638337|\n",
            "+-----+------+-----------------+\n",
            "\n"
          ]
        }
      ]
    },
    {
      "cell_type": "code",
      "source": [
        "total_count_by_state = df.groupBy(\"UF\").count().withColumnRenamed(\"count\", \"total_count\")\n",
        "\n",
        "# Contando o número de registros que receberam o auxílio por estado\n",
        "rend_ext_count_by_state = df.filter(df.D0071 == 1).groupBy(\"UF\").count().withColumnRenamed(\"count\", \"auxilio_count\")\n",
        "\n",
        "# Juntando os dois DataFrames com base na coluna 'UF'\n",
        "merged_df = total_count_by_state.join(rend_ext_count_by_state, \"UF\", \"inner\")\n",
        "\n",
        "# Calculando a porcentagem\n",
        "merged_df = merged_df.withColumn(\"Percentage\", (F.col(\"auxilio_count\") / F.col(\"total_count\")) * 100)\n",
        "\n",
        "# Mostrando o DataFrame com a porcentagem calculada\n",
        "merged_df.show()"
      ],
      "metadata": {
        "colab": {
          "base_uri": "https://localhost:8080/"
        },
        "id": "NRKSA9Jydu3M",
        "outputId": "896668cb-8df3-4345-fd00-0c04f3bacac0"
      },
      "execution_count": null,
      "outputs": [
        {
          "output_type": "stream",
          "name": "stdout",
          "text": [
            "+---+-----------+-------------+------------------+\n",
            "| UF|total_count|auxilio_count|        Percentage|\n",
            "+---+-----------+-------------+------------------+\n",
            "| 31|      34339|         1878| 5.469000262092664|\n",
            "| 28|       8013|          259|3.2322475976538123|\n",
            "| 26|      17138|          596| 3.477652001400397|\n",
            "| 27|      11403|          287|2.5168815224063845|\n",
            "| 12|       6102|          170| 2.785971812520485|\n",
            "| 22|       8480|          272| 3.207547169811321|\n",
            "| 13|      10341|          240|2.3208587177255584|\n",
            "| 16|       2472|           91|3.6812297734627832|\n",
            "| 15|      11878|          458|3.8558679912443177|\n",
            "| 17|       5087|          207| 4.069195989777865|\n",
            "| 23|      16182|          533|3.2937832159189226|\n",
            "| 25|       9873|          384| 3.889395320571255|\n",
            "| 24|       7775|          380| 4.887459807073955|\n",
            "| 29|      17063|          523| 3.065111645079998|\n",
            "| 21|      20404|          317|1.5536169378553224|\n",
            "| 32|      15863|          842| 5.307949316018408|\n",
            "| 11|       6001|          255|4.2492917847025495|\n",
            "| 33|      29065|         1311| 4.510579735076552|\n",
            "| 14|       5614|          142|2.5293908086925545|\n",
            "| 53|       6795|          470| 6.916850625459897|\n",
            "+---+-----------+-------------+------------------+\n",
            "only showing top 20 rows\n",
            "\n"
          ]
        }
      ]
    },
    {
      "cell_type": "markdown",
      "source": [
        "![image.png](data:image/png;base64,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)"
      ],
      "metadata": {
        "id": "rSPt2Hy2p94R"
      }
    },
    {
      "cell_type": "code",
      "source": [
        "total_count = spark.sql('''\n",
        "                        SELECT count(*) as total\n",
        "                        FROM pnad\n",
        "                        WHERE D0061 IS NOT NULL\n",
        "                        ''').collect()[0]['total']\n",
        "\n",
        "\n",
        "percentage_query = spark.sql('''\n",
        "                              SELECT D0061,\n",
        "                                     count(*) as count,\n",
        "                                     (count(*) / {} * 100) as percentage\n",
        "                              FROM pnad\n",
        "                              WHERE D0061 IS NOT NULL\n",
        "                              GROUP BY D0061\n",
        "                              '''.format(total_count))\n",
        "\n",
        "percentage_query.show()"
      ],
      "metadata": {
        "colab": {
          "base_uri": "https://localhost:8080/"
        },
        "id": "EAIkrK70p-FD",
        "outputId": "76b93a5e-0ac1-4dd6-f1d6-d98e0008f891"
      },
      "execution_count": null,
      "outputs": [
        {
          "output_type": "stream",
          "name": "stdout",
          "text": [
            "+-----+------+------------------+\n",
            "|D0061| count|        percentage|\n",
            "+-----+------+------------------+\n",
            "|    1|  5206|1.3648351763589366|\n",
            "|    2|376232| 98.63516482364106|\n",
            "+-----+------+------------------+\n",
            "\n"
          ]
        }
      ]
    },
    {
      "cell_type": "code",
      "source": [
        "total_count_by_state = df.groupBy(\"UF\").count().withColumnRenamed(\"count\", \"total_count\")\n",
        "\n",
        "# Contando o número de registros que receberam o auxílio por estado\n",
        "seguro_count_by_state = df.filter(df.D0061 == 1).groupBy(\"UF\").count().withColumnRenamed(\"count\", \"auxilio_count\")\n",
        "\n",
        "# Juntando os dois DataFrames com base na coluna 'UF'\n",
        "merged_df = total_count_by_state.join(seguro_count_by_state, \"UF\", \"inner\")\n",
        "\n",
        "# Calculando a porcentagem\n",
        "merged_df = merged_df.withColumn(\"Percentage\", (F.col(\"auxilio_count\") / F.col(\"total_count\")) * 100)\n",
        "\n",
        "# Mostrando o DataFrame com a porcentagem calculada\n",
        "merged_df.show()"
      ],
      "metadata": {
        "colab": {
          "base_uri": "https://localhost:8080/"
        },
        "id": "0gbiMMPbd291",
        "outputId": "10b22bbf-dca7-4132-d9a2-195d96240c58"
      },
      "execution_count": null,
      "outputs": [
        {
          "output_type": "stream",
          "name": "stdout",
          "text": [
            "+---+-----------+-------------+-------------------+\n",
            "| UF|total_count|auxilio_count|         Percentage|\n",
            "+---+-----------+-------------+-------------------+\n",
            "| 31|      34339|          555|  1.616238096624829|\n",
            "| 28|       8013|           86|  1.073255959066517|\n",
            "| 26|      17138|          186| 1.0853075037927413|\n",
            "| 27|      11403|           47| 0.4121722353766553|\n",
            "| 12|       6102|           77| 1.2618813503769257|\n",
            "| 22|       8480|           80| 0.9433962264150944|\n",
            "| 13|      10341|           93|  0.899332753118654|\n",
            "| 16|       2472|           32| 1.2944983818770228|\n",
            "| 15|      11878|           64| 0.5388112476847954|\n",
            "| 17|       5087|           17|0.33418517790446234|\n",
            "| 23|      16182|          128| 0.7910023482882216|\n",
            "| 25|       9873|          100| 1.0128633647320977|\n",
            "| 24|       7775|           71| 0.9131832797427653|\n",
            "| 29|      17063|          167| 0.9787258981421789|\n",
            "| 21|      20404|          167| 0.8184669672613214|\n",
            "| 32|      15863|          251|  1.582298430309525|\n",
            "| 11|       6001|           64|  1.066488918513581|\n",
            "| 33|      29065|          387|   1.33149836573198|\n",
            "| 14|       5614|           35| 0.6234413965087282|\n",
            "| 53|       6795|          125|  1.839587932303164|\n",
            "+---+-----------+-------------+-------------------+\n",
            "only showing top 20 rows\n",
            "\n"
          ]
        }
      ]
    },
    {
      "cell_type": "markdown",
      "source": [
        "![image.png](data:image/png;base64,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)"
      ],
      "metadata": {
        "id": "E61rIT6bp-Vg"
      }
    },
    {
      "cell_type": "code",
      "source": [
        "total_count = spark.sql('''\n",
        "                        SELECT count(*) as total\n",
        "                        FROM pnad\n",
        "                        WHERE D0031 IS NOT NULL\n",
        "                        ''').collect()[0]['total']\n",
        "\n",
        "\n",
        "percentage_query = spark.sql('''\n",
        "                              SELECT D0031,\n",
        "                                     count(*) as count,\n",
        "                                     (count(*) / {} * 100) as percentage\n",
        "                              FROM pnad\n",
        "                              WHERE D0031 IS NOT NULL\n",
        "                              GROUP BY D0031\n",
        "                              '''.format(total_count))\n",
        "\n",
        "percentage_query.show()"
      ],
      "metadata": {
        "colab": {
          "base_uri": "https://localhost:8080/"
        },
        "id": "5L5moDMqp-j9",
        "outputId": "fefc28d3-4ecd-4b96-9832-2adedf0da04b"
      },
      "execution_count": null,
      "outputs": [
        {
          "output_type": "stream",
          "name": "stdout",
          "text": [
            "+-----+------+-----------------+\n",
            "|D0031| count|       percentage|\n",
            "+-----+------+-----------------+\n",
            "|    1| 36732|9.629874317713496|\n",
            "|    2|344706| 90.3701256822865|\n",
            "+-----+------+-----------------+\n",
            "\n"
          ]
        }
      ]
    },
    {
      "cell_type": "code",
      "source": [
        "total_count_by_state = df.groupBy(\"UF\").count().withColumnRenamed(\"count\", \"total_count\")\n",
        "\n",
        "# Contando o número de registros que receberam o auxílio por estado\n",
        "bolsa_familia_count_by_state = df.filter(df.D0031 == 1).groupBy(\"UF\").count().withColumnRenamed(\"count\", \"auxilio_count\")\n",
        "\n",
        "# Juntando os dois DataFrames com base na coluna 'UF'\n",
        "merged_df = total_count_by_state.join(bolsa_familia_count_by_state, \"UF\", \"inner\")\n",
        "\n",
        "# Calculando a porcentagem\n",
        "merged_df = merged_df.withColumn(\"Percentage\", (F.col(\"auxilio_count\") / F.col(\"total_count\")) * 100)\n",
        "\n",
        "# Mostrando o DataFrame com a porcentagem calculada\n",
        "merged_df.show()"
      ],
      "metadata": {
        "colab": {
          "base_uri": "https://localhost:8080/"
        },
        "id": "ynRQFQYMeCn9",
        "outputId": "e517488e-9961-469b-ebc1-fa482623f9d3"
      },
      "execution_count": null,
      "outputs": [
        {
          "output_type": "stream",
          "name": "stdout",
          "text": [
            "+---+-----------+-------------+------------------+\n",
            "| UF|total_count|auxilio_count|        Percentage|\n",
            "+---+-----------+-------------+------------------+\n",
            "| 31|      34339|         2090| 6.086374093596202|\n",
            "| 28|       8013|         1831|  22.8503681517534|\n",
            "| 26|      17138|         2998|17.493289765433538|\n",
            "| 27|      11403|         2258|19.801806542138035|\n",
            "| 12|       6102|          993|16.273352999016716|\n",
            "| 22|       8480|          960|11.320754716981133|\n",
            "| 13|      10341|         1318|12.745382458176191|\n",
            "| 16|       2472|           60|2.4271844660194173|\n",
            "| 15|      11878|         1588|13.369254083178985|\n",
            "| 17|       5087|          387|7.6076272852368785|\n",
            "| 23|      16182|         2235|13.811642565813868|\n",
            "| 25|       9873|         2172|21.999392281981162|\n",
            "| 24|       7775|          848|10.906752411575562|\n",
            "| 29|      17063|         3928|23.020570825763347|\n",
            "| 21|      20404|         4872| 23.87767104489316|\n",
            "| 32|      15863|          629| 3.965202042488811|\n",
            "| 11|       6001|          395|6.5822362939510075|\n",
            "| 33|      29065|         1602|  5.51178393256494|\n",
            "| 14|       5614|          618|11.008193801211258|\n",
            "| 53|       6795|          265| 3.899926416482708|\n",
            "+---+-----------+-------------+------------------+\n",
            "only showing top 20 rows\n",
            "\n"
          ]
        }
      ]
    },
    {
      "cell_type": "markdown",
      "source": [
        "![image.png](data:image/png;base64,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)"
      ],
      "metadata": {
        "id": "bJtgjBIMp-yO"
      }
    },
    {
      "cell_type": "code",
      "source": [
        "total_count = spark.sql('''\n",
        "                        SELECT count(*) as total\n",
        "                        FROM pnad\n",
        "                        WHERE D0011 IS NOT NULL\n",
        "                        ''').collect()[0]['total']\n",
        "\n",
        "\n",
        "percentage_query = spark.sql('''\n",
        "                              SELECT D0011,\n",
        "                                     count(*) as count,\n",
        "                                     (count(*) / {} * 100) as percentage\n",
        "                              FROM pnad\n",
        "                              WHERE D0011 IS NOT NULL\n",
        "                              GROUP BY D0011\n",
        "                              '''.format(total_count))\n",
        "\n",
        "percentage_query.show()"
      ],
      "metadata": {
        "colab": {
          "base_uri": "https://localhost:8080/"
        },
        "id": "qGcFApPtp-9d",
        "outputId": "7881589d-4c7a-4757-b772-d8ebd8e14189"
      },
      "execution_count": null,
      "outputs": [
        {
          "output_type": "stream",
          "name": "stdout",
          "text": [
            "+-----+------+-----------------+\n",
            "|D0011| count|       percentage|\n",
            "+-----+------+-----------------+\n",
            "|    1|131315|34.42630257079787|\n",
            "|    2|250123|65.57369742920213|\n",
            "+-----+------+-----------------+\n",
            "\n"
          ]
        }
      ]
    },
    {
      "cell_type": "code",
      "source": [
        "total_count_by_state = df.groupBy(\"UF\").count().withColumnRenamed(\"count\", \"total_count\")\n",
        "\n",
        "# Contando o número de registros que receberam o auxílio por estado\n",
        "pensao_count_by_state = df.filter(df.D0011 == 1).groupBy(\"UF\").count().withColumnRenamed(\"count\", \"auxilio_count\")\n",
        "\n",
        "# Juntando os dois DataFrames com base na coluna 'UF'\n",
        "merged_df = total_count_by_state.join(pensao_count_by_state, \"UF\", \"inner\")\n",
        "\n",
        "# Calculando a porcentagem\n",
        "merged_df = merged_df.withColumn(\"Percentage\", (F.col(\"auxilio_count\") / F.col(\"total_count\")) * 100)\n",
        "\n",
        "# Mostrando o DataFrame com a porcentagem calculada\n",
        "merged_df.show()"
      ],
      "metadata": {
        "colab": {
          "base_uri": "https://localhost:8080/"
        },
        "id": "-nCED8JMeQlG",
        "outputId": "dc207aee-d826-4aad-eba9-a78279e508c1"
      },
      "execution_count": null,
      "outputs": [
        {
          "output_type": "stream",
          "name": "stdout",
          "text": [
            "+---+-----------+-------------+------------------+\n",
            "| UF|total_count|auxilio_count|        Percentage|\n",
            "+---+-----------+-------------+------------------+\n",
            "| 31|      34339|        12918| 37.61903375171089|\n",
            "| 28|       8013|         2486|31.024585049294895|\n",
            "| 26|      17138|         5263| 30.70953436807095|\n",
            "| 27|      11403|         3852| 33.78058405682715|\n",
            "| 12|       6102|         1833|30.039331366764994|\n",
            "| 22|       8480|         3081| 36.33254716981132|\n",
            "| 13|      10341|         2558|24.736485833091574|\n",
            "| 16|       2472|          441| 17.83980582524272|\n",
            "| 15|      11878|         3019|25.416736824381207|\n",
            "| 17|       5087|         1518|29.840770591704345|\n",
            "| 23|      16182|         5810| 35.90409096527005|\n",
            "| 25|       9873|         3414|34.579155271953816|\n",
            "| 24|       7775|         2952|37.967845659163984|\n",
            "| 29|      17063|         5576|32.678895856531675|\n",
            "| 21|      20404|         6632|32.503430699862776|\n",
            "| 32|      15863|         5066|31.935951585450418|\n",
            "| 11|       6001|         1904|31.728045325779036|\n",
            "| 33|      29065|        11335| 38.99879580251161|\n",
            "| 14|       5614|         1175|20.929818311364446|\n",
            "| 53|       6795|         2249|33.097866077998525|\n",
            "+---+-----------+-------------+------------------+\n",
            "only showing top 20 rows\n",
            "\n"
          ]
        }
      ]
    },
    {
      "cell_type": "markdown",
      "source": [
        "## Intersecção"
      ],
      "metadata": {
        "id": "k-_2DJzWp_Ln"
      }
    },
    {
      "cell_type": "code",
      "source": [
        "# Calcula o total de registros onde D0011 e D0051 não são nulos\n",
        "total_count = spark.sql('''\n",
        "                        SELECT count(*) as total\n",
        "                        FROM pnad\n",
        "                        WHERE D0011 IS NOT NULL AND D0051 IS NOT NULL\n",
        "                        ''').collect()[0]['total']\n",
        "\n",
        "# Consulta para obter a porcentagem, considerando que D0011 e D0051 sejam ambos 1 ou ambos 2\n",
        "percentage_query = spark.sql('''\n",
        "                              SELECT D0011, D0051,\n",
        "                                     count(*) as count,\n",
        "                                     (count(*) / {} * 100) as percentage\n",
        "                              FROM pnad\n",
        "                              WHERE D0011 IS NOT NULL AND D0051 IS NOT NULL\n",
        "                                AND ((D0011 = 1 AND D0051 = 1) OR (D0011 = 2 AND D0051 = 2))\n",
        "                              GROUP BY D0011, D0051\n",
        "                              ORDER BY D0011, D0051\n",
        "                              '''.format(total_count))\n",
        "\n",
        "percentage_query.show()"
      ],
      "metadata": {
        "colab": {
          "base_uri": "https://localhost:8080/"
        },
        "id": "WZfIsouNp_Vt",
        "outputId": "f0f5a7b7-4eee-4745-ca51-e3c1d76ae17f"
      },
      "execution_count": null,
      "outputs": [
        {
          "output_type": "stream",
          "name": "stdout",
          "text": [
            "+-----+-----+------+------------------+\n",
            "|D0011|D0051| count|        percentage|\n",
            "+-----+-----+------+------------------+\n",
            "|    1|    1| 44530|11.674243258406348|\n",
            "|    2|    2|109886| 28.80835155385672|\n",
            "+-----+-----+------+------------------+\n",
            "\n"
          ]
        }
      ]
    },
    {
      "cell_type": "markdown",
      "source": [
        "### Análise auxilios governamentais"
      ],
      "metadata": {
        "id": "-Jhuez-nzuIe"
      }
    },
    {
      "cell_type": "code",
      "source": [
        "total_count_1 = spark.sql('''\n",
        "                        SELECT count(*) as total\n",
        "                        FROM pnad\n",
        "                        ''').collect()[0]['total']\n",
        "\n",
        "query_1 = spark.sql('''\n",
        "                    SELECT count(*) as count,\n",
        "                           (count(*) / {} * 100) as percentage\n",
        "                    FROM pnad\n",
        "                    WHERE D0051 = 1 AND D0041 = 1 AND D0031 = 1\n",
        "                    '''.format(total_count))\n",
        "query_1.show()"
      ],
      "metadata": {
        "colab": {
          "base_uri": "https://localhost:8080/"
        },
        "id": "-kTrxnv2z8e2",
        "outputId": "b4ef0580-09e6-41d0-b4b1-24612efc50ff"
      },
      "execution_count": null,
      "outputs": [
        {
          "output_type": "stream",
          "name": "stdout",
          "text": [
            "+-----+------------------+\n",
            "|count|        percentage|\n",
            "+-----+------------------+\n",
            "|  963|0.2524656693879477|\n",
            "+-----+------------------+\n",
            "\n"
          ]
        }
      ]
    },
    {
      "cell_type": "code",
      "source": [
        "query_1 = spark.sql(f'''\n",
        "                    SELECT D0051, D0041, D0031, count(*) as count,\n",
        "                           (count(*) / {total_count} * 100) as percentage\n",
        "                    FROM pnad\n",
        "                    WHERE D0051 IS NOT NULL AND D0041 IS NOT NULL AND D0031 IS NOT NULL\n",
        "                    GROUP BY D0051, D0041, D0031\n",
        "                    HAVING D0051 = 1 AND D0041 = 1 AND D0031 = 1\n",
        "                    ''')\n",
        "query_1.show()"
      ],
      "metadata": {
        "colab": {
          "base_uri": "https://localhost:8080/"
        },
        "id": "Fybr3Pku1KcA",
        "outputId": "c8276c52-a2eb-42a2-8a69-cdebc4a1c02d"
      },
      "execution_count": null,
      "outputs": [
        {
          "output_type": "stream",
          "name": "stdout",
          "text": [
            "+-----+-----+-----+-----+------------------+\n",
            "|D0051|D0041|D0031|count|        percentage|\n",
            "+-----+-----+-----+-----+------------------+\n",
            "|    1|    1|    1|  963|0.2524656693879477|\n",
            "+-----+-----+-----+-----+------------------+\n",
            "\n"
          ]
        }
      ]
    },
    {
      "cell_type": "markdown",
      "source": [
        "### Rendimentos diversificados"
      ],
      "metadata": {
        "id": "sCV9amUzz9Dv"
      }
    },
    {
      "cell_type": "code",
      "source": [
        "total_count_2 = spark.sql('''\n",
        "                         SELECT count(*) as total\n",
        "                         FROM pnad\n",
        "                         WHERE D0071 IS NOT NULL AND D0021 IS NOT NULL\n",
        "                         ''').collect()[0]['total']\n",
        "\n",
        "query_2 = spark.sql('''\n",
        "                    SELECT count(*) as count,\n",
        "                           (count(*) / {} * 100) as percentage\n",
        "                    FROM pnad\n",
        "                    WHERE D0071 = 1 AND D0021 = 1\n",
        "                    '''.format(total_count_2))\n",
        "query_2.show()"
      ],
      "metadata": {
        "colab": {
          "base_uri": "https://localhost:8080/"
        },
        "id": "cTXO4Czcz_wa",
        "outputId": "30f08a8f-3aef-497e-e29c-7801ecd60eab"
      },
      "execution_count": null,
      "outputs": [
        {
          "output_type": "stream",
          "name": "stdout",
          "text": [
            "+-----+-------------------+\n",
            "|count|         percentage|\n",
            "+-----+-------------------+\n",
            "|  918|0.24066820820159504|\n",
            "+-----+-------------------+\n",
            "\n"
          ]
        }
      ]
    },
    {
      "cell_type": "code",
      "source": [
        "query_2 = spark.sql(f'''\n",
        "                    SELECT D0071, D0021, count(*) as count,\n",
        "                           (count(*) / {total_count} * 100) as percentage\n",
        "                    FROM pnad\n",
        "                    WHERE D0071 IS NOT NULL AND D0021 IS NOT NULL\n",
        "                    GROUP BY D0071, D0021\n",
        "                    HAVING D0071 = 1 AND D0021 = 1\n",
        "                    ''')\n",
        "query_2.show()"
      ],
      "metadata": {
        "colab": {
          "base_uri": "https://localhost:8080/"
        },
        "id": "hR7seIEc1Up1",
        "outputId": "6b196c67-14e8-44bc-87f9-8dc3589f17ab"
      },
      "execution_count": null,
      "outputs": [
        {
          "output_type": "stream",
          "name": "stdout",
          "text": [
            "+-----+-----+-----+-------------------+\n",
            "|D0071|D0021|count|         percentage|\n",
            "+-----+-----+-----+-------------------+\n",
            "|    1|    1|  918|0.24066820820159504|\n",
            "+-----+-----+-----+-------------------+\n",
            "\n"
          ]
        }
      ]
    },
    {
      "cell_type": "markdown",
      "source": [
        "###Rendimentos emergencia"
      ],
      "metadata": {
        "id": "FZmzYAnU0AAD"
      }
    },
    {
      "cell_type": "code",
      "source": [
        "total_count_3 = spark.sql('''\n",
        "                         SELECT count(*) as total\n",
        "                         FROM pnad\n",
        "                         WHERE D0051 IS NOT NULL AND D0061 IS NOT NULL\n",
        "                         ''').collect()[0]['total']\n",
        "\n",
        "query_3 = spark.sql('''\n",
        "                    SELECT count(*) as count,\n",
        "                           (count(*) / {} * 100) as percentage\n",
        "                    FROM pnad\n",
        "                    WHERE D0051 = 1 AND D0061 = 1\n",
        "                    '''.format(total_count_3))\n",
        "query_3.show()"
      ],
      "metadata": {
        "colab": {
          "base_uri": "https://localhost:8080/"
        },
        "id": "nxRiq4-N0DDv",
        "outputId": "7f3695f5-bb8d-4eb8-8fb7-34c92ee90c44"
      },
      "execution_count": null,
      "outputs": [
        {
          "output_type": "stream",
          "name": "stdout",
          "text": [
            "+-----+------------------+\n",
            "|count|        percentage|\n",
            "+-----+------------------+\n",
            "| 1955|0.5125341470959893|\n",
            "+-----+------------------+\n",
            "\n"
          ]
        }
      ]
    },
    {
      "cell_type": "code",
      "source": [
        "query_3 = spark.sql(f'''\n",
        "                    SELECT D0051, D0061, count(*) as count,\n",
        "                           (count(*) / {total_count} * 100) as percentage\n",
        "                    FROM pnad\n",
        "                    WHERE D0051 IS NOT NULL AND D0061 IS NOT NULL\n",
        "                    GROUP BY D0051, D0061\n",
        "                    HAVING D0051 = 1 AND D0061 = 1\n",
        "                    ''')\n",
        "query_3.show()"
      ],
      "metadata": {
        "colab": {
          "base_uri": "https://localhost:8080/"
        },
        "id": "k_U2hQ9h1aaq",
        "outputId": "b93d2df5-3c13-4faa-88f1-d9dd00a54fc1"
      },
      "execution_count": null,
      "outputs": [
        {
          "output_type": "stream",
          "name": "stdout",
          "text": [
            "+-----+-----+-----+------------------+\n",
            "|D0051|D0061|count|        percentage|\n",
            "+-----+-----+-----+------------------+\n",
            "|    1|    1| 1955|0.5125341470959893|\n",
            "+-----+-----+-----+------------------+\n",
            "\n"
          ]
        }
      ]
    },
    {
      "cell_type": "code",
      "source": [],
      "metadata": {
        "id": "tYnvhpws6Vop"
      },
      "execution_count": null,
      "outputs": []
    },
    {
      "cell_type": "markdown",
      "source": [
        "#Importando data - Mes 10"
      ],
      "metadata": {
        "id": "Czv57koA6V8l"
      }
    },
    {
      "cell_type": "code",
      "source": [
        "df10 = spark.read.csv(\"PNAD_COVID_102020 - Recorte.csv\",sep =\";\", inferSchema= True, header = True)\n",
        "df10.count()"
      ],
      "metadata": {
        "colab": {
          "base_uri": "https://localhost:8080/"
        },
        "outputId": "6bd56bfd-e031-4f3b-ca0a-ab7d83d4407a",
        "id": "kBc_iVSH6V8l"
      },
      "execution_count": null,
      "outputs": [
        {
          "output_type": "execute_result",
          "data": {
            "text/plain": [
              "380461"
            ]
          },
          "metadata": {},
          "execution_count": 40
        }
      ]
    },
    {
      "cell_type": "code",
      "source": [
        "df10.createOrReplaceTempView(\"pnad10\")\n",
        "\n",
        "\n",
        "\n",
        "pnad10 = spark.sql(''' SELECT * FROM pnad10 WHERE  ''')\n",
        "pnad10.show()"
      ],
      "metadata": {
        "colab": {
          "base_uri": "https://localhost:8080/"
        },
        "outputId": "19a3fd56-9d10-42db-ba1e-81292e23f91e",
        "id": "RnXK68y96V8l"
      },
      "execution_count": null,
      "outputs": [
        {
          "output_type": "stream",
          "name": "stdout",
          "text": [
            "+----+---+-------+-------+-------+-----+-----+-----+----+-----+-----+-----+----+----+----+----+----+----+----+-----+-----+-----+-----+-----+-----+-----+\n",
            "| Ano| UF|CAPITAL|RM_RIDE|M�s_ref|B0011|B0012|B0014|B002|B0031|B0033|B0042|B005|C001|C002|C013|C014|C015|C016|D0011|D0021|D0031|D0041|D0051|D0061|D0071|\n",
            "+----+---+-------+-------+-------+-----+-----+-----+----+-----+-----+-----+----+----+----+----+----+----+----+-----+-----+-----+-----+-----+-----+-----+\n",
            "|2020| 11|     11|   NULL|     10|    2|    2|    2|NULL| NULL| NULL| NULL|NULL|   1|NULL|NULL|NULL|NULL|NULL|    2|    2|    2|    2|    1|    2|    2|\n",
            "|2020| 11|     11|   NULL|     10|    2|    2|    2|NULL| NULL| NULL| NULL|NULL|   1|NULL|NULL|   2|NULL|NULL|    2|    2|    2|    2|    1|    2|    2|\n",
            "|2020| 11|     11|   NULL|     10|    2|    2|    2|NULL| NULL| NULL| NULL|NULL|NULL|NULL|NULL|NULL|NULL|NULL|    2|    2|    2|    2|    1|    2|    2|\n",
            "|2020| 11|     11|   NULL|     10|    2|    2|    2|NULL| NULL| NULL| NULL|NULL|NULL|NULL|NULL|NULL|NULL|NULL|    2|    2|    2|    2|    1|    2|    2|\n",
            "|2020| 11|     11|   NULL|     10|    2|    2|    2|NULL| NULL| NULL| NULL|NULL|   2|   2|NULL|   2|   2|   1|    2|    2|    2|    1|    2|    2|    2|\n",
            "|2020| 11|     11|   NULL|     10|    2|    2|    2|NULL| NULL| NULL| NULL|NULL|   1|NULL|NULL|   2|NULL|NULL|    1|    2|    2|    2|    2|    2|    2|\n",
            "|2020| 11|     11|   NULL|     10|    2|    2|    2|NULL| NULL| NULL| NULL|NULL|   1|NULL|NULL|   2|NULL|NULL|    2|    2|    2|    2|    1|    2|    2|\n",
            "|2020| 11|     11|   NULL|     10|    2|    2|    2|NULL| NULL| NULL| NULL|NULL|   2|   2|NULL|   2|   2|   3|    2|    2|    2|    2|    1|    2|    2|\n",
            "|2020| 11|     11|   NULL|     10|    2|    2|    2|NULL| NULL| NULL| NULL|NULL|NULL|NULL|NULL|NULL|NULL|NULL|    2|    2|    2|    2|    1|    2|    2|\n",
            "|2020| 11|     11|   NULL|     10|    2|    2|    2|NULL| NULL| NULL| NULL|NULL|NULL|NULL|NULL|NULL|NULL|NULL|    2|    2|    2|    2|    1|    2|    2|\n",
            "|2020| 11|     11|   NULL|     10|    2|    2|    2|NULL| NULL| NULL| NULL|NULL|NULL|NULL|NULL|NULL|NULL|NULL|    2|    2|    2|    2|    1|    2|    2|\n",
            "|2020| 11|     11|   NULL|     10|    2|    2|    2|NULL| NULL| NULL| NULL|NULL|   1|NULL|NULL|   2|NULL|NULL|    2|    2|    2|    2|    1|    2|    2|\n",
            "|2020| 11|     11|   NULL|     10|    2|    2|    2|NULL| NULL| NULL| NULL|NULL|   2|   2|NULL|   2|   1|NULL|    2|    2|    2|    2|    1|    2|    2|\n",
            "|2020| 11|     11|   NULL|     10|    2|    2|    2|NULL| NULL| NULL| NULL|NULL|   2|   2|NULL|   2|   2|   4|    2|    2|    2|    2|    1|    2|    2|\n",
            "|2020| 11|     11|   NULL|     10|    2|    2|    2|NULL| NULL| NULL| NULL|NULL|   2|   2|NULL|   2|   2|   1|    2|    2|    2|    2|    1|    2|    2|\n",
            "|2020| 11|     11|   NULL|     10|    2|    2|    2|NULL| NULL| NULL| NULL|NULL|   1|NULL|NULL|   2|NULL|NULL|    2|    2|    2|    2|    1|    2|    2|\n",
            "|2020| 11|     11|   NULL|     10|    2|    2|    2|NULL| NULL| NULL| NULL|NULL|   2|   2|NULL|   2|   1|NULL|    2|    2|    2|    2|    1|    2|    2|\n",
            "|2020| 11|     11|   NULL|     10|    2|    2|    2|NULL| NULL| NULL| NULL|NULL|   1|NULL|NULL|NULL|NULL|NULL|    2|    2|    2|    2|    2|    2|    2|\n",
            "|2020| 11|     11|   NULL|     10|    2|    2|    2|NULL| NULL| NULL| NULL|NULL|   1|NULL|NULL|NULL|NULL|NULL|    2|    2|    2|    2|    2|    2|    2|\n",
            "|2020| 11|     11|   NULL|     10|    2|    2|    2|NULL| NULL| NULL| NULL|NULL|   1|NULL|NULL|NULL|NULL|NULL|    2|    2|    2|    2|    2|    2|    2|\n",
            "+----+---+-------+-------+-------+-----+-----+-----+----+-----+-----+-----+----+----+----+----+----+----+----+-----+-----+-----+-----+-----+-----+-----+\n",
            "only showing top 20 rows\n",
            "\n"
          ]
        }
      ]
    },
    {
      "cell_type": "markdown",
      "source": [
        "##Consultas avançadas"
      ],
      "metadata": {
        "id": "-CRQYbb06V8m"
      }
    },
    {
      "cell_type": "markdown",
      "source": [
        "![image.png](data:image/png;base64,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)"
      ],
      "metadata": {
        "id": "5APxqfKs6V8m"
      }
    },
    {
      "cell_type": "code",
      "source": [
        "total_count = spark.sql('''\n",
        "                        SELECT count(*) as total\n",
        "                        FROM pnad10\n",
        "                        WHERE D0051 IS NOT NULL\n",
        "                        ''').collect()[0]['total']\n",
        "\n",
        "\n",
        "percentage_query = spark.sql('''\n",
        "                              SELECT D0051,\n",
        "                                     count(*) as count,\n",
        "                                     (count(*) / {} * 100) as percentage\n",
        "                              FROM pnad10\n",
        "                              WHERE D0051 IS NOT NULL\n",
        "                              GROUP BY D0051\n",
        "                              '''.format(total_count))\n",
        "\n",
        "percentage_query.show()"
      ],
      "metadata": {
        "colab": {
          "base_uri": "https://localhost:8080/"
        },
        "outputId": "0b4e8719-396a-475e-e57d-1406f41bbc86",
        "id": "YJHMzq_16V8n"
      },
      "execution_count": null,
      "outputs": [
        {
          "output_type": "stream",
          "name": "stdout",
          "text": [
            "+-----+------+------------------+\n",
            "|D0051| count|        percentage|\n",
            "+-----+------+------------------+\n",
            "|    1|189681|49.855569953293504|\n",
            "|    2|190780|  50.1444300467065|\n",
            "+-----+------+------------------+\n",
            "\n"
          ]
        }
      ]
    },
    {
      "cell_type": "markdown",
      "source": [
        "![image.png](data:image/png;base64,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)"
      ],
      "metadata": {
        "id": "bMVZ76c96V8n"
      }
    },
    {
      "cell_type": "code",
      "source": [
        "total_count = spark.sql('''\n",
        "                        SELECT count(*) as total\n",
        "                        FROM pnad10\n",
        "                        WHERE D0041 IS NOT NULL\n",
        "                        ''').collect()[0]['total']\n",
        "\n",
        "\n",
        "percentage_query = spark.sql('''\n",
        "                              SELECT D0041,\n",
        "                                     count(*) as count,\n",
        "                                     (count(*) / {} * 100) as percentage\n",
        "                              FROM pnad10\n",
        "                              WHERE D0041 IS NOT NULL\n",
        "                              GROUP BY D0041\n",
        "                              '''.format(total_count))\n",
        "\n",
        "percentage_query.show()"
      ],
      "metadata": {
        "colab": {
          "base_uri": "https://localhost:8080/"
        },
        "outputId": "99d8072a-a1ae-4c89-881a-c3a7174af0fd",
        "id": "xNlrgWjX6V8p"
      },
      "execution_count": null,
      "outputs": [
        {
          "output_type": "stream",
          "name": "stdout",
          "text": [
            "+-----+------+------------------+\n",
            "|D0041| count|        percentage|\n",
            "+-----+------+------------------+\n",
            "|    1| 13894|3.6518854757780694|\n",
            "|    2|366567| 96.34811452422193|\n",
            "+-----+------+------------------+\n",
            "\n"
          ]
        }
      ]
    },
    {
      "cell_type": "markdown",
      "source": [
        "![image.png](data:image/png;base64,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)"
      ],
      "metadata": {
        "id": "Z3aYkZiz6V8q"
      }
    },
    {
      "cell_type": "code",
      "source": [
        "total_count = spark.sql('''\n",
        "                        SELECT count(*) as total\n",
        "                        FROM pnad10\n",
        "                        WHERE D0021 IS NOT NULL\n",
        "                        ''').collect()[0]['total']\n",
        "\n",
        "\n",
        "percentage_query = spark.sql('''\n",
        "                              SELECT D0021,\n",
        "                                     count(*) as count,\n",
        "                                     (count(*) / {} * 100) as percentage\n",
        "                              FROM pnad10\n",
        "                              WHERE D0021 IS NOT NULL\n",
        "                              GROUP BY D0021\n",
        "                              '''.format(total_count))\n",
        "\n",
        "percentage_query.show()"
      ],
      "metadata": {
        "colab": {
          "base_uri": "https://localhost:8080/"
        },
        "outputId": "445d2cec-d89a-425d-ed98-0fdca7be60bb",
        "id": "yGeYJWy16V8r"
      },
      "execution_count": null,
      "outputs": [
        {
          "output_type": "stream",
          "name": "stdout",
          "text": [
            "+-----+------+-----------------+\n",
            "|D0021| count|       percentage|\n",
            "+-----+------+-----------------+\n",
            "|    1| 18760|4.930860193291823|\n",
            "|    2|361701|95.06913980670818|\n",
            "+-----+------+-----------------+\n",
            "\n"
          ]
        }
      ]
    },
    {
      "cell_type": "markdown",
      "source": [
        "![image.png](data:image/png;base64,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)"
      ],
      "metadata": {
        "id": "-CFTw2A56V8r"
      }
    },
    {
      "cell_type": "code",
      "source": [
        "total_count = spark.sql('''\n",
        "                        SELECT count(*) as total\n",
        "                        FROM pnad10\n",
        "                        WHERE D0071 IS NOT NULL\n",
        "                        ''').collect()[0]['total']\n",
        "\n",
        "\n",
        "percentage_query = spark.sql('''\n",
        "                              SELECT D0071,\n",
        "                                     count(*) as count,\n",
        "                                     (count(*) / {} * 100) as percentage\n",
        "                              FROM pnad10\n",
        "                              WHERE D0071 IS NOT NULL\n",
        "                              GROUP BY D0071\n",
        "                              '''.format(total_count))\n",
        "\n",
        "percentage_query.show()"
      ],
      "metadata": {
        "colab": {
          "base_uri": "https://localhost:8080/"
        },
        "outputId": "f56ea250-e7e2-471e-fc67-19d2825a5904",
        "id": "Dzl94I5V6V8s"
      },
      "execution_count": null,
      "outputs": [
        {
          "output_type": "stream",
          "name": "stdout",
          "text": [
            "+-----+------+-----------------+\n",
            "|D0071| count|       percentage|\n",
            "+-----+------+-----------------+\n",
            "|    1| 18785|4.937431169029152|\n",
            "|    2|361676|95.06256883097085|\n",
            "+-----+------+-----------------+\n",
            "\n"
          ]
        }
      ]
    },
    {
      "cell_type": "markdown",
      "source": [
        "![image.png](data:image/png;base64,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)"
      ],
      "metadata": {
        "id": "l8yKbO-06V8s"
      }
    },
    {
      "cell_type": "code",
      "source": [
        "total_count = spark.sql('''\n",
        "                        SELECT count(*) as total\n",
        "                        FROM pnad10\n",
        "                        WHERE D0061 IS NOT NULL\n",
        "                        ''').collect()[0]['total']\n",
        "\n",
        "\n",
        "percentage_query = spark.sql('''\n",
        "                              SELECT D0061,\n",
        "                                     count(*) as count,\n",
        "                                     (count(*) / {} * 100) as percentage\n",
        "                              FROM pnad10\n",
        "                              WHERE D0061 IS NOT NULL\n",
        "                              GROUP BY D0061\n",
        "                              '''.format(total_count))\n",
        "\n",
        "percentage_query.show()"
      ],
      "metadata": {
        "colab": {
          "base_uri": "https://localhost:8080/"
        },
        "outputId": "7eb87a31-e9bb-4b36-fd10-98710afab2c0",
        "id": "ubFqq2fL6V8t"
      },
      "execution_count": null,
      "outputs": [
        {
          "output_type": "stream",
          "name": "stdout",
          "text": [
            "+-----+------+-----------------+\n",
            "|D0061| count|       percentage|\n",
            "+-----+------+-----------------+\n",
            "|    1|  6262|1.645898002686215|\n",
            "|    2|374199|98.35410199731378|\n",
            "+-----+------+-----------------+\n",
            "\n"
          ]
        }
      ]
    },
    {
      "cell_type": "markdown",
      "source": [
        "![image.png](data:image/png;base64,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)"
      ],
      "metadata": {
        "id": "a1lk4O-j6V8t"
      }
    },
    {
      "cell_type": "code",
      "source": [
        "total_count = spark.sql('''\n",
        "                        SELECT count(*) as total\n",
        "                        FROM pnad10\n",
        "                        WHERE D0031 IS NOT NULL\n",
        "                        ''').collect()[0]['total']\n",
        "\n",
        "\n",
        "percentage_query = spark.sql('''\n",
        "                              SELECT D0031,\n",
        "                                     count(*) as count,\n",
        "                                     (count(*) / {} * 100) as percentage\n",
        "                              FROM pnad10\n",
        "                              WHERE D0031 IS NOT NULL\n",
        "                              GROUP BY D0031\n",
        "                              '''.format(total_count))\n",
        "\n",
        "percentage_query.show()"
      ],
      "metadata": {
        "colab": {
          "base_uri": "https://localhost:8080/"
        },
        "outputId": "b7e91178-d49c-45b8-a679-3cc1365413eb",
        "id": "8yXzYzu76V8u"
      },
      "execution_count": null,
      "outputs": [
        {
          "output_type": "stream",
          "name": "stdout",
          "text": [
            "+-----+------+-----------------+\n",
            "|D0031| count|       percentage|\n",
            "+-----+------+-----------------+\n",
            "|    1| 32504|8.543319814645917|\n",
            "|    2|347957|91.45668018535409|\n",
            "+-----+------+-----------------+\n",
            "\n"
          ]
        }
      ]
    },
    {
      "cell_type": "markdown",
      "source": [
        "![image.png](data:image/png;base64,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)"
      ],
      "metadata": {
        "id": "tnzz6CPQ6V8u"
      }
    },
    {
      "cell_type": "code",
      "source": [
        "total_count = spark.sql('''\n",
        "                        SELECT count(*) as total\n",
        "                        FROM pnad10\n",
        "                        WHERE D0011 IS NOT NULL\n",
        "                        ''').collect()[0]['total']\n",
        "\n",
        "\n",
        "percentage_query = spark.sql('''\n",
        "                              SELECT D0011,\n",
        "                                     count(*) as count,\n",
        "                                     (count(*) / {} * 100) as percentage\n",
        "                              FROM pnad10\n",
        "                              WHERE D0011 IS NOT NULL\n",
        "                              GROUP BY D0011\n",
        "                              '''.format(total_count))\n",
        "\n",
        "percentage_query.show()"
      ],
      "metadata": {
        "colab": {
          "base_uri": "https://localhost:8080/"
        },
        "outputId": "469f2710-2dcd-426b-a801-8a04f04f5690",
        "id": "Icad7AU26V8v"
      },
      "execution_count": null,
      "outputs": [
        {
          "output_type": "stream",
          "name": "stdout",
          "text": [
            "+-----+------+-----------------+\n",
            "|D0011| count|       percentage|\n",
            "+-----+------+-----------------+\n",
            "|    1|130855|34.39380120432843|\n",
            "|    2|249606|65.60619879567156|\n",
            "+-----+------+-----------------+\n",
            "\n"
          ]
        }
      ]
    },
    {
      "cell_type": "markdown",
      "source": [
        "## Intersecção"
      ],
      "metadata": {
        "id": "G4546C7Y6V8v"
      }
    },
    {
      "cell_type": "code",
      "source": [
        "# Calcula o total de registros onde D0011 e D0051 não são nulos\n",
        "total_count = spark.sql('''\n",
        "                        SELECT count(*) as total\n",
        "                        FROM pnad10\n",
        "                        WHERE D0011 IS NOT NULL AND D0051 IS NOT NULL\n",
        "                        ''').collect()[0]['total']\n",
        "\n",
        "# Consulta para obter a porcentagem, considerando que D0011 e D0051 sejam ambos 1 ou ambos 2\n",
        "percentage_query = spark.sql('''\n",
        "                              SELECT D0011, D0051,\n",
        "                                     count(*) as count,\n",
        "                                     (count(*) / {} * 100) as percentage\n",
        "                              FROM pnad10\n",
        "                              WHERE D0011 IS NOT NULL AND D0051 IS NOT NULL\n",
        "                                AND ((D0011 = 1 AND D0051 = 1) OR (D0011 = 2 AND D0051 = 2))\n",
        "                              GROUP BY D0011, D0051\n",
        "                              ORDER BY D0011, D0051\n",
        "                              '''.format(total_count))\n",
        "\n",
        "percentage_query.show()"
      ],
      "metadata": {
        "colab": {
          "base_uri": "https://localhost:8080/"
        },
        "outputId": "f393e4ce-3ef2-49de-ff54-6dcbea8e8e4d",
        "id": "rf017oPO6V8v"
      },
      "execution_count": null,
      "outputs": [
        {
          "output_type": "stream",
          "name": "stdout",
          "text": [
            "+-----+-----+------+------------------+\n",
            "|D0011|D0051| count|        percentage|\n",
            "+-----+-----+------+------------------+\n",
            "|    1|    1| 45811|12.040918780111497|\n",
            "|    2|    2|105736| 27.79154762248956|\n",
            "+-----+-----+------+------------------+\n",
            "\n"
          ]
        }
      ]
    },
    {
      "cell_type": "markdown",
      "source": [
        "### Análise auxilios governamentais"
      ],
      "metadata": {
        "id": "EczsjN1U6V8v"
      }
    },
    {
      "cell_type": "code",
      "source": [
        "total_count_1 = spark.sql('''\n",
        "                        SELECT count(*) as total\n",
        "                        FROM pnad10\n",
        "                        ''').collect()[0]['total']\n",
        "\n",
        "query_1 = spark.sql('''\n",
        "                    SELECT count(*) as count,\n",
        "                           (count(*) / {} * 100) as percentage\n",
        "                    FROM pnad10\n",
        "                    WHERE D0051 = 1 AND D0041 = 1 AND D0031 = 1\n",
        "                    '''.format(total_count))\n",
        "query_1.show()"
      ],
      "metadata": {
        "colab": {
          "base_uri": "https://localhost:8080/"
        },
        "outputId": "168cd9d8-3b11-4bea-85f2-bae17720851c",
        "id": "sm4oNsrA6V8v"
      },
      "execution_count": null,
      "outputs": [
        {
          "output_type": "stream",
          "name": "stdout",
          "text": [
            "+-----+------------------+\n",
            "|count|        percentage|\n",
            "+-----+------------------+\n",
            "|  822|0.2160536822433837|\n",
            "+-----+------------------+\n",
            "\n"
          ]
        }
      ]
    },
    {
      "cell_type": "code",
      "source": [
        "query_1 = spark.sql(f'''\n",
        "                    SELECT D0051, D0041, D0031, count(*) as count,\n",
        "                           (count(*) / {total_count} * 100) as percentage\n",
        "                    FROM pnad10\n",
        "                    WHERE D0051 IS NOT NULL AND D0041 IS NOT NULL AND D0031 IS NOT NULL\n",
        "                    GROUP BY D0051, D0041, D0031\n",
        "                    HAVING D0051 = 1 AND D0041 = 1 AND D0031 = 1\n",
        "                    ''')\n",
        "query_1.show()"
      ],
      "metadata": {
        "colab": {
          "base_uri": "https://localhost:8080/"
        },
        "outputId": "23cd0354-f4b0-4d62-8fb0-629cc8448c58",
        "id": "e-2xHTZR6V8v"
      },
      "execution_count": null,
      "outputs": [
        {
          "output_type": "stream",
          "name": "stdout",
          "text": [
            "+-----+-----+-----+-----+------------------+\n",
            "|D0051|D0041|D0031|count|        percentage|\n",
            "+-----+-----+-----+-----+------------------+\n",
            "|    1|    1|    1|  822|0.2160536822433837|\n",
            "+-----+-----+-----+-----+------------------+\n",
            "\n"
          ]
        }
      ]
    },
    {
      "cell_type": "markdown",
      "source": [
        "### Rendimentos diversificados"
      ],
      "metadata": {
        "id": "k21cZHqd6V8v"
      }
    },
    {
      "cell_type": "code",
      "source": [
        "total_count_2 = spark.sql('''\n",
        "                         SELECT count(*) as total\n",
        "                         FROM pnad10\n",
        "                         WHERE D0071 IS NOT NULL AND D0021 IS NOT NULL\n",
        "                         ''').collect()[0]['total']\n",
        "\n",
        "query_2 = spark.sql('''\n",
        "                    SELECT count(*) as count,\n",
        "                           (count(*) / {} * 100) as percentage\n",
        "                    FROM pnad10\n",
        "                    WHERE D0071 = 1 AND D0021 = 1\n",
        "                    '''.format(total_count_2))\n",
        "query_2.show()"
      ],
      "metadata": {
        "colab": {
          "base_uri": "https://localhost:8080/"
        },
        "outputId": "e15ec3c6-e2e6-4728-dafd-1b9141d3657b",
        "id": "6dXMDIQV6V8v"
      },
      "execution_count": null,
      "outputs": [
        {
          "output_type": "stream",
          "name": "stdout",
          "text": [
            "+-----+-------------------+\n",
            "|count|         percentage|\n",
            "+-----+-------------------+\n",
            "|  908|0.23865783877979607|\n",
            "+-----+-------------------+\n",
            "\n"
          ]
        }
      ]
    },
    {
      "cell_type": "code",
      "source": [
        "query_2 = spark.sql(f'''\n",
        "                    SELECT D0071, D0021, count(*) as count,\n",
        "                           (count(*) / {total_count} * 100) as percentage\n",
        "                    FROM pnad10\n",
        "                    WHERE D0071 IS NOT NULL AND D0021 IS NOT NULL\n",
        "                    GROUP BY D0071, D0021\n",
        "                    HAVING D0071 = 1 AND D0021 = 1\n",
        "                    ''')\n",
        "query_2.show()"
      ],
      "metadata": {
        "colab": {
          "base_uri": "https://localhost:8080/"
        },
        "outputId": "75d2b6cc-384a-4f9d-e6c7-911b131dad2a",
        "id": "m-v6yxmS6V8w"
      },
      "execution_count": null,
      "outputs": [
        {
          "output_type": "stream",
          "name": "stdout",
          "text": [
            "+-----+-----+-----+-------------------+\n",
            "|D0071|D0021|count|         percentage|\n",
            "+-----+-----+-----+-------------------+\n",
            "|    1|    1|  908|0.23865783877979607|\n",
            "+-----+-----+-----+-------------------+\n",
            "\n"
          ]
        }
      ]
    },
    {
      "cell_type": "markdown",
      "source": [
        "###Rendimentos emergencia"
      ],
      "metadata": {
        "id": "-zI9yqd26V8w"
      }
    },
    {
      "cell_type": "code",
      "source": [
        "total_count_3 = spark.sql('''\n",
        "                         SELECT count(*) as total\n",
        "                         FROM pnad10\n",
        "                         WHERE D0051 IS NOT NULL AND D0061 IS NOT NULL\n",
        "                         ''').collect()[0]['total']\n",
        "\n",
        "query_3 = spark.sql('''\n",
        "                    SELECT count(*) as count,\n",
        "                           (count(*) / {} * 100) as percentage\n",
        "                    FROM pnad10\n",
        "                    WHERE D0051 = 1 AND D0061 = 1\n",
        "                    '''.format(total_count_3))\n",
        "query_3.show()"
      ],
      "metadata": {
        "colab": {
          "base_uri": "https://localhost:8080/"
        },
        "outputId": "632ddf82-ccc6-4ea3-ae0f-fa550f6ed1cb",
        "id": "OkioeceC6V8w"
      },
      "execution_count": null,
      "outputs": [
        {
          "output_type": "stream",
          "name": "stdout",
          "text": [
            "+-----+------------------+\n",
            "|count|        percentage|\n",
            "+-----+------------------+\n",
            "| 2386|0.6271339243706976|\n",
            "+-----+------------------+\n",
            "\n"
          ]
        }
      ]
    },
    {
      "cell_type": "code",
      "source": [
        "query_3 = spark.sql(f'''\n",
        "                    SELECT D0051, D0061, count(*) as count,\n",
        "                           (count(*) / {total_count} * 100) as percentage\n",
        "                    FROM pnad\n",
        "                    WHERE D0051 IS NOT NULL AND D0061 IS NOT NULL\n",
        "                    GROUP BY D0051, D0061\n",
        "                    HAVING D0051 = 1 AND D0061 = 1\n",
        "                    ''')\n",
        "query_3.show()"
      ],
      "metadata": {
        "colab": {
          "base_uri": "https://localhost:8080/"
        },
        "outputId": "b93d2df5-3c13-4faa-88f1-d9dd00a54fc1",
        "id": "5lb5i5Ih6V8w"
      },
      "execution_count": null,
      "outputs": [
        {
          "output_type": "stream",
          "name": "stdout",
          "text": [
            "+-----+-----+-----+------------------+\n",
            "|D0051|D0061|count|        percentage|\n",
            "+-----+-----+-----+------------------+\n",
            "|    1|    1| 1955|0.5125341470959893|\n",
            "+-----+-----+-----+------------------+\n",
            "\n"
          ]
        }
      ]
    },
    {
      "cell_type": "code",
      "source": [
        "# Calcula o total de registros onde D0011 e D0051 não são nulos\n",
        "total_count = spark.sql('''\n",
        "                        SELECT count(*) as total\n",
        "                        FROM pnad10\n",
        "                        WHERE D0011 IS NOT NULL AND D0051 IS NOT NULL\n",
        "                        ''').collect()[0]['total']\n",
        "\n",
        "# Consulta para obter a porcentagem, considerando que D0011 e D0051 sejam ambos 1 ou ambos 2\n",
        "percentage_query = spark.sql('''\n",
        "                              SELECT D0011, D0051,\n",
        "                                     count(*) as count,\n",
        "                                     (count(*) / {} * 100) as percentage\n",
        "                              FROM pnad10\n",
        "                              WHERE D0011 IS NOT NULL AND D0051 IS NOT NULL\n",
        "                                AND ((D0011 = 1 AND D0051 = 1) OR (D0011 = 2 AND D0051 = 2))\n",
        "                              GROUP BY D0011, D0051\n",
        "                              ORDER BY D0011, D0051\n",
        "                              '''.format(total_count))\n",
        "\n",
        "percentage_query.show()"
      ],
      "metadata": {
        "colab": {
          "base_uri": "https://localhost:8080/"
        },
        "id": "UdqQfCyxzasb",
        "outputId": "8df3675d-d3f8-4a2e-a616-e926845b8541"
      },
      "execution_count": null,
      "outputs": [
        {
          "output_type": "stream",
          "name": "stdout",
          "text": [
            "+-----+-----+------+------------------+\n",
            "|D0011|D0051| count|        percentage|\n",
            "+-----+-----+------+------------------+\n",
            "|    1|    1| 45811|12.040918780111497|\n",
            "|    2|    2|105736| 27.79154762248956|\n",
            "+-----+-----+------+------------------+\n",
            "\n"
          ]
        }
      ]
    },
    {
      "cell_type": "code",
      "source": [],
      "metadata": {
        "id": "OmdzGPOHCg0k"
      },
      "execution_count": null,
      "outputs": []
    },
    {
      "cell_type": "markdown",
      "source": [
        "#Importando data - Mes 5"
      ],
      "metadata": {
        "id": "Zm8WCWnjChd4"
      }
    },
    {
      "cell_type": "code",
      "source": [
        "df5 = spark.read.csv(\"PNAD_COVID_052020 - Recorte.csv\",sep =\";\", inferSchema= True, header = True)\n",
        "df5.count()"
      ],
      "metadata": {
        "colab": {
          "base_uri": "https://localhost:8080/"
        },
        "outputId": "016d2814-8a3b-4599-c7dd-297f3f08ea0c",
        "id": "VfRn7ElaChd4"
      },
      "execution_count": null,
      "outputs": [
        {
          "output_type": "execute_result",
          "data": {
            "text/plain": [
              "349306"
            ]
          },
          "metadata": {},
          "execution_count": 57
        }
      ]
    },
    {
      "cell_type": "code",
      "source": [
        "df5.createOrReplaceTempView(\"pnad5\")\n",
        "\n",
        "\n",
        "\n",
        "pnad5 = spark.sql(''' SELECT * FROM pnad5 WHERE  ''')\n",
        "pnad5.show()"
      ],
      "metadata": {
        "colab": {
          "base_uri": "https://localhost:8080/"
        },
        "outputId": "360a1337-c410-46e6-fd68-54aeaa2edfd3",
        "id": "u_ehM1dkChd5"
      },
      "execution_count": null,
      "outputs": [
        {
          "output_type": "stream",
          "name": "stdout",
          "text": [
            "+----+---+-------+-------+-------+-----+-----+-----+----+-----+-----+-----+-----+----+----+----+----+----+----+----+-----+-----+-----+-----+-----+-----+-----+\n",
            "| Ano| UF|CAPITAL|RM_RIDE|Mes_ref|B0011|B0012|B0014|B002|B0031|B0032|B0033|B0042|B005|C001|C002|C013|C014|C015|C016|D0011|D0021|D0031|D0041|D0051|D0061|D0071|\n",
            "+----+---+-------+-------+-------+-----+-----+-----+----+-----+-----+-----+-----+----+----+----+----+----+----+----+-----+-----+-----+-----+-----+-----+-----+\n",
            "|2020| 11|     11|   NULL|      5|    1|    1|    2|   2|    2|    2|    1| NULL|NULL|   1|NULL|NULL|NULL|NULL|NULL|    2|    2|    2|    2|    1|    2|    2|\n",
            "|2020| 11|     11|   NULL|      5|    1|    1|    2|   2|    2|    2|    2| NULL|NULL|   1|NULL|   1|   2|NULL|NULL|    2|    2|    2|    2|    1|    2|    2|\n",
            "|2020| 11|     11|   NULL|      5|    2|    2|    2|NULL| NULL| NULL| NULL| NULL|NULL|NULL|NULL|NULL|NULL|NULL|NULL|    2|    2|    2|    2|    1|    2|    2|\n",
            "|2020| 11|     11|   NULL|      5|    2|    2|    2|NULL| NULL| NULL| NULL| NULL|NULL|NULL|NULL|NULL|NULL|NULL|NULL|    2|    2|    2|    2|    1|    2|    2|\n",
            "|2020| 11|     11|   NULL|      5|    2|    2|    2|NULL| NULL| NULL| NULL| NULL|NULL|   2|   2|NULL|   2|   2|   2|    2|    2|    1|    2|    1|    2|    2|\n",
            "|2020| 11|     11|   NULL|      5|    2|    2|    2|NULL| NULL| NULL| NULL| NULL|NULL|   1|NULL|NULL|   2|NULL|NULL|    2|    2|    1|    2|    1|    2|    2|\n",
            "|2020| 11|     11|   NULL|      5|    2|    2|    2|NULL| NULL| NULL| NULL| NULL|NULL|NULL|NULL|NULL|NULL|NULL|NULL|    2|    2|    1|    2|    1|    2|    2|\n",
            "|2020| 11|     11|   NULL|      5|    1|    1|    2|   2|    1|    2|    1| NULL|NULL|   1|NULL|NULL|   2|NULL|NULL|    2|    2|    2|    2|    2|    2|    2|\n",
            "|2020| 11|     11|   NULL|      5|    2|    2|    2|NULL| NULL| NULL| NULL| NULL|NULL|   2|   2|NULL|   2|   2|   7|    2|    2|    2|    2|    2|    2|    2|\n",
            "|2020| 11|     11|   NULL|      5|    2|    2|    2|NULL| NULL| NULL| NULL| NULL|NULL|NULL|NULL|NULL|NULL|NULL|NULL|    2|    2|    2|    2|    2|    2|    2|\n",
            "|2020| 11|     11|   NULL|      5|    2|    2|    2|NULL| NULL| NULL| NULL| NULL|NULL|NULL|NULL|NULL|NULL|NULL|NULL|    2|    2|    2|    2|    2|    2|    2|\n",
            "|2020| 11|     11|   NULL|      5|    2|    2|    2|NULL| NULL| NULL| NULL| NULL|NULL|NULL|NULL|NULL|NULL|NULL|NULL|    2|    2|    2|    2|    2|    2|    2|\n",
            "|2020| 11|     11|   NULL|      5|    2|    2|    2|NULL| NULL| NULL| NULL| NULL|NULL|   2|   2|NULL|   2|   1|NULL|    2|    2|    2|    2|    2|    2|    2|\n",
            "|2020| 11|     11|   NULL|      5|    2|    2|    2|NULL| NULL| NULL| NULL| NULL|NULL|   2|   2|NULL|   2|   1|NULL|    2|    2|    2|    2|    2|    2|    2|\n",
            "|2020| 11|     11|   NULL|      5|    2|    2|    2|NULL| NULL| NULL| NULL| NULL|NULL|   2|   2|NULL|   2|   2|   4|    2|    2|    2|    2|    2|    2|    2|\n",
            "|2020| 11|     11|   NULL|      5|    2|    2|    2|NULL| NULL| NULL| NULL| NULL|NULL|   2|   2|NULL|   2|   1|NULL|    2|    2|    2|    2|    1|    2|    2|\n",
            "|2020| 11|     11|   NULL|      5|    2|    2|    2|   2|    2|    2|    1| NULL|NULL|   1|NULL|NULL|   2|NULL|NULL|    2|    2|    2|    2|    1|    2|    2|\n",
            "|2020| 11|     11|   NULL|      5|    2|    2|    1|   2|    1|    2|    2| NULL|NULL|   2|   2|NULL|   2|   2|   8|    2|    2|    2|    2|    1|    2|    2|\n",
            "|2020| 11|     11|   NULL|      5|    2|    2|    2|NULL| NULL| NULL| NULL| NULL|NULL|   1|NULL|NULL|   2|NULL|NULL|    2|    2|    2|    2|    1|    2|    2|\n",
            "|2020| 11|     11|   NULL|      5|    2|    2|    2|NULL| NULL| NULL| NULL| NULL|NULL|   2|   2|NULL|   2|   2|   3|    2|    2|    2|    2|    1|    2|    2|\n",
            "+----+---+-------+-------+-------+-----+-----+-----+----+-----+-----+-----+-----+----+----+----+----+----+----+----+-----+-----+-----+-----+-----+-----+-----+\n",
            "only showing top 20 rows\n",
            "\n"
          ]
        }
      ]
    },
    {
      "cell_type": "markdown",
      "source": [
        "#Consultas avançadas"
      ],
      "metadata": {
        "id": "nNAVAwH7Chd5"
      }
    },
    {
      "cell_type": "markdown",
      "source": [
        "![image.png](data:image/png;base64,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)"
      ],
      "metadata": {
        "id": "UWSC6pr1Chd5"
      }
    },
    {
      "cell_type": "code",
      "source": [
        "total_count = spark.sql('''\n",
        "                        SELECT count(*) as total\n",
        "                        FROM pnad5\n",
        "                        WHERE D0051 IS NOT NULL\n",
        "                        ''').collect()[0]['total']\n",
        "\n",
        "\n",
        "percentage_query = spark.sql('''\n",
        "                              SELECT D0051,\n",
        "                                     count(*) as count,\n",
        "                                     (count(*) / {} * 100) as percentage\n",
        "                              FROM pnad5\n",
        "                              WHERE D0051 IS NOT NULL\n",
        "                              GROUP BY D0051\n",
        "                              '''.format(total_count))\n",
        "\n",
        "percentage_query.show()"
      ],
      "metadata": {
        "colab": {
          "base_uri": "https://localhost:8080/"
        },
        "outputId": "67995c5f-c5ac-46a6-aad8-93be51989407",
        "id": "zmv1I98ZChd6"
      },
      "execution_count": null,
      "outputs": [
        {
          "output_type": "stream",
          "name": "stdout",
          "text": [
            "+-----+------+-----------------+\n",
            "|D0051| count|       percentage|\n",
            "+-----+------+-----------------+\n",
            "|    1|160870|46.05417599468661|\n",
            "|    2|188436|53.94582400531339|\n",
            "+-----+------+-----------------+\n",
            "\n"
          ]
        }
      ]
    },
    {
      "cell_type": "markdown",
      "source": [
        "![image.png](data:image/png;base64,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)"
      ],
      "metadata": {
        "id": "Wj-8Di3EChd7"
      }
    },
    {
      "cell_type": "code",
      "source": [
        "total_count = spark.sql('''\n",
        "                        SELECT count(*) as total\n",
        "                        FROM pnad5\n",
        "                        WHERE D0041 IS NOT NULL\n",
        "                        ''').collect()[0]['total']\n",
        "\n",
        "\n",
        "percentage_query = spark.sql('''\n",
        "                              SELECT D0041,\n",
        "                                     count(*) as count,\n",
        "                                     (count(*) / {} * 100) as percentage\n",
        "                              FROM pnad5\n",
        "                              WHERE D0041 IS NOT NULL\n",
        "                              GROUP BY D0041\n",
        "                              '''.format(total_count))\n",
        "\n",
        "percentage_query.show()"
      ],
      "metadata": {
        "colab": {
          "base_uri": "https://localhost:8080/"
        },
        "outputId": "cf8c2012-ac46-404c-ab04-c24a8e02d38a",
        "id": "qnUdcPIYChd8"
      },
      "execution_count": null,
      "outputs": [
        {
          "output_type": "stream",
          "name": "stdout",
          "text": [
            "+-----+------+------------------+\n",
            "|D0041| count|        percentage|\n",
            "+-----+------+------------------+\n",
            "|    1| 10910|3.1233359862126617|\n",
            "|    2|338396| 96.87666401378733|\n",
            "+-----+------+------------------+\n",
            "\n"
          ]
        }
      ]
    },
    {
      "cell_type": "markdown",
      "source": [
        "![image.png](data:image/png;base64,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)"
      ],
      "metadata": {
        "id": "PJgdIIuTChd8"
      }
    },
    {
      "cell_type": "code",
      "source": [
        "total_count = spark.sql('''\n",
        "                        SELECT count(*) as total\n",
        "                        FROM pnad5\n",
        "                        WHERE D0021 IS NOT NULL\n",
        "                        ''').collect()[0]['total']\n",
        "\n",
        "\n",
        "percentage_query = spark.sql('''\n",
        "                              SELECT D0021,\n",
        "                                     count(*) as count,\n",
        "                                     (count(*) / {} * 100) as percentage\n",
        "                              FROM pnad5\n",
        "                              WHERE D0021 IS NOT NULL\n",
        "                              GROUP BY D0021\n",
        "                              '''.format(total_count))\n",
        "\n",
        "percentage_query.show()"
      ],
      "metadata": {
        "colab": {
          "base_uri": "https://localhost:8080/"
        },
        "outputId": "b15d8cc1-e9ae-40ad-c22f-da5700eda658",
        "id": "k0JV_P7mChd9"
      },
      "execution_count": null,
      "outputs": [
        {
          "output_type": "stream",
          "name": "stdout",
          "text": [
            "+-----+------+-----------------+\n",
            "|D0021| count|       percentage|\n",
            "+-----+------+-----------------+\n",
            "|    1| 17373|4.973576176761922|\n",
            "|    2|331933|95.02642382323808|\n",
            "+-----+------+-----------------+\n",
            "\n"
          ]
        }
      ]
    },
    {
      "cell_type": "markdown",
      "source": [
        "![image.png](data:image/png;base64,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)"
      ],
      "metadata": {
        "id": "TbNFCA6VChd9"
      }
    },
    {
      "cell_type": "code",
      "source": [
        "total_count = spark.sql('''\n",
        "                        SELECT count(*) as total\n",
        "                        FROM pnad5\n",
        "                        WHERE D0071 IS NOT NULL\n",
        "                        ''').collect()[0]['total']\n",
        "\n",
        "\n",
        "percentage_query = spark.sql('''\n",
        "                              SELECT D0071,\n",
        "                                     count(*) as count,\n",
        "                                     (count(*) / {} * 100) as percentage\n",
        "                              FROM pnad5\n",
        "                              WHERE D0071 IS NOT NULL\n",
        "                              GROUP BY D0071\n",
        "                              '''.format(total_count))\n",
        "\n",
        "percentage_query.show()"
      ],
      "metadata": {
        "colab": {
          "base_uri": "https://localhost:8080/"
        },
        "outputId": "e30f3e5f-4dfa-44f5-95e4-78582744a974",
        "id": "M91RdxFDChd_"
      },
      "execution_count": null,
      "outputs": [
        {
          "output_type": "stream",
          "name": "stdout",
          "text": [
            "+-----+------+-----------------+\n",
            "|D0071| count|       percentage|\n",
            "+-----+------+-----------------+\n",
            "|    1| 15981|4.575071713626448|\n",
            "|    2|333325|95.42492828637356|\n",
            "+-----+------+-----------------+\n",
            "\n"
          ]
        }
      ]
    },
    {
      "cell_type": "markdown",
      "source": [
        "![image.png](data:image/png;base64,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)"
      ],
      "metadata": {
        "id": "WLzOqt9FChd_"
      }
    },
    {
      "cell_type": "code",
      "source": [
        "total_count = spark.sql('''\n",
        "                        SELECT count(*) as total\n",
        "                        FROM pnad5\n",
        "                        WHERE D0061 IS NOT NULL\n",
        "                        ''').collect()[0]['total']\n",
        "\n",
        "\n",
        "percentage_query = spark.sql('''\n",
        "                              SELECT D0061,\n",
        "                                     count(*) as count,\n",
        "                                     (count(*) / {} * 100) as percentage\n",
        "                              FROM pnad5\n",
        "                              WHERE D0061 IS NOT NULL\n",
        "                              GROUP BY D0061\n",
        "                              '''.format(total_count))\n",
        "\n",
        "percentage_query.show()"
      ],
      "metadata": {
        "colab": {
          "base_uri": "https://localhost:8080/"
        },
        "outputId": "ef4efb73-6619-48f0-dd14-a9b80248d741",
        "id": "u3vnlmBgChd_"
      },
      "execution_count": null,
      "outputs": [
        {
          "output_type": "stream",
          "name": "stdout",
          "text": [
            "+-----+------+------------------+\n",
            "|D0061| count|        percentage|\n",
            "+-----+------+------------------+\n",
            "|    1|  7453|2.1336593130378523|\n",
            "|    2|341853| 97.86634068696215|\n",
            "+-----+------+------------------+\n",
            "\n"
          ]
        }
      ]
    },
    {
      "cell_type": "markdown",
      "source": [
        "![image.png](data:image/png;base64,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)"
      ],
      "metadata": {
        "id": "XebaLfQ9CheA"
      }
    },
    {
      "cell_type": "code",
      "source": [
        "total_count = spark.sql('''\n",
        "                        SELECT count(*) as total\n",
        "                        FROM pnad5\n",
        "                        WHERE D0031 IS NOT NULL\n",
        "                        ''').collect()[0]['total']\n",
        "\n",
        "\n",
        "percentage_query = spark.sql('''\n",
        "                              SELECT D0031,\n",
        "                                     count(*) as count,\n",
        "                                     (count(*) / {} * 100) as percentage\n",
        "                              FROM pnad5\n",
        "                              WHERE D0031 IS NOT NULL\n",
        "                              GROUP BY D0031\n",
        "                              '''.format(total_count))\n",
        "\n",
        "percentage_query.show()"
      ],
      "metadata": {
        "colab": {
          "base_uri": "https://localhost:8080/"
        },
        "outputId": "9c1e1fef-4c43-4b7e-e83b-299799a32b45",
        "id": "A_b0-IUxCheA"
      },
      "execution_count": null,
      "outputs": [
        {
          "output_type": "stream",
          "name": "stdout",
          "text": [
            "+-----+------+------------------+\n",
            "|D0031| count|        percentage|\n",
            "+-----+------+------------------+\n",
            "|    1| 45188|12.936508390923718|\n",
            "|    2|304118| 87.06349160907628|\n",
            "+-----+------+------------------+\n",
            "\n"
          ]
        }
      ]
    },
    {
      "cell_type": "markdown",
      "source": [
        "![image.png](data:image/png;base64,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)"
      ],
      "metadata": {
        "id": "5djtUletCheA"
      }
    },
    {
      "cell_type": "code",
      "source": [
        "total_count = spark.sql('''\n",
        "                        SELECT count(*) as total\n",
        "                        FROM pnad5\n",
        "                        WHERE D0011 IS NOT NULL\n",
        "                        ''').collect()[0]['total']\n",
        "\n",
        "\n",
        "percentage_query = spark.sql('''\n",
        "                              SELECT D0011,\n",
        "                                     count(*) as count,\n",
        "                                     (count(*) / {} * 100) as percentage\n",
        "                              FROM pnad5\n",
        "                              WHERE D0011 IS NOT NULL\n",
        "                              GROUP BY D0011\n",
        "                              '''.format(total_count))\n",
        "\n",
        "percentage_query.show()"
      ],
      "metadata": {
        "colab": {
          "base_uri": "https://localhost:8080/"
        },
        "outputId": "62596c80-12fc-4bf9-e34d-cffa97881f78",
        "id": "K35eKnENCheB"
      },
      "execution_count": null,
      "outputs": [
        {
          "output_type": "stream",
          "name": "stdout",
          "text": [
            "+-----+------+-----------------+\n",
            "|D0011| count|       percentage|\n",
            "+-----+------+-----------------+\n",
            "|    1|118821|34.01630661941106|\n",
            "|    2|230485|65.98369338058893|\n",
            "+-----+------+-----------------+\n",
            "\n"
          ]
        }
      ]
    },
    {
      "cell_type": "markdown",
      "source": [
        "# Intersecção"
      ],
      "metadata": {
        "id": "xQUG9ZIdCheB"
      }
    },
    {
      "cell_type": "code",
      "source": [
        "# Calcula o total de registros onde D0011 e D0051 não são nulos\n",
        "total_count = spark.sql('''\n",
        "                        SELECT count(*) as total\n",
        "                        FROM pnad5\n",
        "                        WHERE D0011 IS NOT NULL AND D0051 IS NOT NULL\n",
        "                        ''').collect()[0]['total']\n",
        "\n",
        "# Consulta para obter a porcentagem, considerando que D0011 e D0051 sejam ambos 1 ou ambos 2\n",
        "percentage_query = spark.sql('''\n",
        "                              SELECT D0011, D0051,\n",
        "                                     count(*) as count,\n",
        "                                     (count(*) / {} * 100) as percentage\n",
        "                              FROM pnad5\n",
        "                              WHERE D0011 IS NOT NULL AND D0051 IS NOT NULL\n",
        "                                AND ((D0011 = 1 AND D0051 = 1) OR (D0011 = 2 AND D0051 = 2))\n",
        "                              GROUP BY D0011, D0051\n",
        "                              ORDER BY D0011, D0051\n",
        "                              '''.format(total_count))\n",
        "\n",
        "percentage_query.show()"
      ],
      "metadata": {
        "colab": {
          "base_uri": "https://localhost:8080/"
        },
        "outputId": "d9b25328-c984-47f2-9acd-d7a9005bb9b0",
        "id": "kU_AYtI_CheB"
      },
      "execution_count": null,
      "outputs": [
        {
          "output_type": "stream",
          "name": "stdout",
          "text": [
            "+-----+-----+------+------------------+\n",
            "|D0011|D0051| count|        percentage|\n",
            "+-----+-----+------+------------------+\n",
            "|    1|    1| 39004|11.166140862166696|\n",
            "|    2|    2|108619| 31.09565824806903|\n",
            "+-----+-----+------+------------------+\n",
            "\n"
          ]
        }
      ]
    },
    {
      "cell_type": "markdown",
      "source": [
        "# Análise auxilios governamentais"
      ],
      "metadata": {
        "id": "E2UC1ZBLCheB"
      }
    },
    {
      "cell_type": "code",
      "source": [
        "total_count_1 = spark.sql('''\n",
        "                        SELECT count(*) as total\n",
        "                        FROM pnad5\n",
        "                        ''').collect()[0]['total']\n",
        "\n",
        "query_1 = spark.sql('''\n",
        "                    SELECT count(*) as count,\n",
        "                           (count(*) / {} * 100) as percentage\n",
        "                    FROM pnad5\n",
        "                    WHERE D0051 = 1 AND D0041 = 1 AND D0031 = 1\n",
        "                    '''.format(total_count))\n",
        "query_1.show()"
      ],
      "metadata": {
        "colab": {
          "base_uri": "https://localhost:8080/"
        },
        "outputId": "e3454481-3c11-49f4-e766-8456180bab14",
        "id": "OK_WdxFUCheC"
      },
      "execution_count": null,
      "outputs": [
        {
          "output_type": "stream",
          "name": "stdout",
          "text": [
            "+-----+-------------------+\n",
            "|count|         percentage|\n",
            "+-----+-------------------+\n",
            "|  921|0.26366566849696255|\n",
            "+-----+-------------------+\n",
            "\n"
          ]
        }
      ]
    },
    {
      "cell_type": "code",
      "source": [
        "query_1 = spark.sql(f'''\n",
        "                    SELECT D0051, D0041, D0031, count(*) as count,\n",
        "                           (count(*) / {total_count} * 100) as percentage\n",
        "                    FROM pnad5\n",
        "                    WHERE D0051 IS NOT NULL AND D0041 IS NOT NULL AND D0031 IS NOT NULL\n",
        "                    GROUP BY D0051, D0041, D0031\n",
        "                    HAVING D0051 = 1 AND D0041 = 1 AND D0031 = 1\n",
        "                    ''')\n",
        "query_1.show()"
      ],
      "metadata": {
        "colab": {
          "base_uri": "https://localhost:8080/"
        },
        "outputId": "d77e775f-4796-42e0-a270-62e3cb879f5b",
        "id": "izJ0zTBQCheC"
      },
      "execution_count": null,
      "outputs": [
        {
          "output_type": "stream",
          "name": "stdout",
          "text": [
            "+-----+-----+-----+-----+-------------------+\n",
            "|D0051|D0041|D0031|count|         percentage|\n",
            "+-----+-----+-----+-----+-------------------+\n",
            "|    1|    1|    1|  921|0.26366566849696255|\n",
            "+-----+-----+-----+-----+-------------------+\n",
            "\n"
          ]
        }
      ]
    },
    {
      "cell_type": "markdown",
      "source": [
        "# Rendimentos diversificados"
      ],
      "metadata": {
        "id": "Eoc2_46ECheC"
      }
    },
    {
      "cell_type": "code",
      "source": [
        "total_count_2 = spark.sql('''\n",
        "                         SELECT count(*) as total\n",
        "                         FROM pnad5\n",
        "                         WHERE D0071 IS NOT NULL AND D0021 IS NOT NULL\n",
        "                         ''').collect()[0]['total']\n",
        "\n",
        "query_2 = spark.sql('''\n",
        "                    SELECT count(*) as count,\n",
        "                           (count(*) / {} * 100) as percentage\n",
        "                    FROM pnad5\n",
        "                    WHERE D0071 = 1 AND D0021 = 1\n",
        "                    '''.format(total_count_2))\n",
        "query_2.show()"
      ],
      "metadata": {
        "colab": {
          "base_uri": "https://localhost:8080/"
        },
        "outputId": "83679c36-cedb-401d-c55e-850fb4cda571",
        "id": "TG-jhMtCCheC"
      },
      "execution_count": null,
      "outputs": [
        {
          "output_type": "stream",
          "name": "stdout",
          "text": [
            "+-----+-------------------+\n",
            "|count|         percentage|\n",
            "+-----+-------------------+\n",
            "|  790|0.22616273410705798|\n",
            "+-----+-------------------+\n",
            "\n"
          ]
        }
      ]
    },
    {
      "cell_type": "code",
      "source": [
        "query_2 = spark.sql(f'''\n",
        "                    SELECT D0071, D0021, count(*) as count,\n",
        "                           (count(*) / {total_count} * 100) as percentage\n",
        "                    FROM pnad5\n",
        "                    WHERE D0071 IS NOT NULL AND D0021 IS NOT NULL\n",
        "                    GROUP BY D0071, D0021\n",
        "                    HAVING D0071 = 1 AND D0021 = 1\n",
        "                    ''')\n",
        "query_2.show()"
      ],
      "metadata": {
        "colab": {
          "base_uri": "https://localhost:8080/"
        },
        "outputId": "331e84e8-7973-4239-b391-d6829dfdeb19",
        "id": "SnfYUdIRCheC"
      },
      "execution_count": null,
      "outputs": [
        {
          "output_type": "stream",
          "name": "stdout",
          "text": [
            "+-----+-----+-----+-------------------+\n",
            "|D0071|D0021|count|         percentage|\n",
            "+-----+-----+-----+-------------------+\n",
            "|    1|    1|  790|0.22616273410705798|\n",
            "+-----+-----+-----+-------------------+\n",
            "\n"
          ]
        }
      ]
    },
    {
      "cell_type": "markdown",
      "source": [
        "#Rendimentos emergencia"
      ],
      "metadata": {
        "id": "QtJ9FNEKCheC"
      }
    },
    {
      "cell_type": "code",
      "source": [
        "total_count_3 = spark.sql('''\n",
        "                         SELECT count(*) as total\n",
        "                         FROM pnad5\n",
        "                         WHERE D0051 IS NOT NULL AND D0061 IS NOT NULL\n",
        "                         ''').collect()[0]['total']\n",
        "\n",
        "query_3 = spark.sql('''\n",
        "                    SELECT count(*) as count,\n",
        "                           (count(*) / {} * 100) as percentage\n",
        "                    FROM pnad5\n",
        "                    WHERE D0051 = 1 AND D0061 = 1\n",
        "                    '''.format(total_count_3))\n",
        "query_3.show()"
      ],
      "metadata": {
        "colab": {
          "base_uri": "https://localhost:8080/"
        },
        "outputId": "335b2ca2-39d2-4600-83cf-ffe9dd86821d",
        "id": "oo-pvBkDCheC"
      },
      "execution_count": null,
      "outputs": [
        {
          "output_type": "stream",
          "name": "stdout",
          "text": [
            "+-----+------------------+\n",
            "|count|        percentage|\n",
            "+-----+------------------+\n",
            "| 2974|0.8514024952334057|\n",
            "+-----+------------------+\n",
            "\n"
          ]
        }
      ]
    },
    {
      "cell_type": "code",
      "source": [
        "query_3 = spark.sql(f'''\n",
        "                    SELECT D0051, D0061, count(*) as count,\n",
        "                           (count(*) / {total_count} * 100) as percentage\n",
        "                    FROM pnad5\n",
        "                    WHERE D0051 IS NOT NULL AND D0061 IS NOT NULL\n",
        "                    GROUP BY D0051, D0061\n",
        "                    HAVING D0051 = 1 AND D0061 = 1\n",
        "                    ''')\n",
        "query_3.show()"
      ],
      "metadata": {
        "colab": {
          "base_uri": "https://localhost:8080/"
        },
        "outputId": "05fcbbe9-12f2-468f-8ca4-e77af6bd007c",
        "id": "bLAJz2svCheC"
      },
      "execution_count": null,
      "outputs": [
        {
          "output_type": "stream",
          "name": "stdout",
          "text": [
            "+-----+-----+-----+------------------+\n",
            "|D0051|D0061|count|        percentage|\n",
            "+-----+-----+-----+------------------+\n",
            "|    1|    1| 2974|0.8514024952334057|\n",
            "+-----+-----+-----+------------------+\n",
            "\n"
          ]
        }
      ]
    },
    {
      "cell_type": "code",
      "source": [
        "# Calcula o total de registros onde D0011 e D0051 não são nulos\n",
        "total_count = spark.sql('''\n",
        "                        SELECT count(*) as total\n",
        "                        FROM pnad5\n",
        "                        WHERE D0011 IS NOT NULL AND D0051 IS NOT NULL\n",
        "                        ''').collect()[0]['total']\n",
        "\n",
        "# Consulta para obter a porcentagem, considerando que D0011 e D0051 sejam ambos 1 ou ambos 2\n",
        "percentage_query = spark.sql('''\n",
        "                              SELECT D0011, D0051,\n",
        "                                     count(*) as count,\n",
        "                                     (count(*) / {} * 100) as percentage\n",
        "                              FROM pnad5\n",
        "                              WHERE D0011 IS NOT NULL AND D0051 IS NOT NULL\n",
        "                                AND ((D0011 = 1 AND D0051 = 1) OR (D0011 = 2 AND D0051 = 2))\n",
        "                              GROUP BY D0011, D0051\n",
        "                              ORDER BY D0011, D0051\n",
        "                              '''.format(total_count))\n",
        "\n",
        "percentage_query.show()"
      ],
      "metadata": {
        "colab": {
          "base_uri": "https://localhost:8080/"
        },
        "outputId": "8df3675d-d3f8-4a2e-a616-e926845b8541",
        "id": "foXuYfotCheC"
      },
      "execution_count": null,
      "outputs": [
        {
          "output_type": "stream",
          "name": "stdout",
          "text": [
            "+-----+-----+------+------------------+\n",
            "|D0011|D0051| count|        percentage|\n",
            "+-----+-----+------+------------------+\n",
            "|    1|    1| 45811|12.040918780111497|\n",
            "|    2|    2|105736| 27.79154762248956|\n",
            "+-----+-----+------+------------------+\n",
            "\n"
          ]
        }
      ]
    },
    {
      "cell_type": "markdown",
      "source": [
        "#Intersecção tudo"
      ],
      "metadata": {
        "id": "ryZWtr63wtPT"
      }
    },
    {
      "cell_type": "code",
      "source": [
        "total_count = spark.sql('''\n",
        "                        SELECT count(*) as total\n",
        "                        FROM pnad\n",
        "                        WHERE D0011 IS NOT NULL AND D0031 IS NOT NULL AND D0061 IS NOT NULL AND D0071 IS NOT NULL AND D0021 IS NOT NULL AND D0041 IS NOT NULL AND D0051 IS NOT NULL\n",
        "                        ''').collect()[0]['total']\n",
        "\n",
        "\n",
        "percentage_query = spark.sql(f'''\n",
        "                              SELECT D0011, D0031, D0061, D0071, D0021, D0041, D0051,\n",
        "                                     count(*) as count,\n",
        "                                     (count(*) / {total_count} * 100) as percentage\n",
        "                              FROM pnad\n",
        "                              WHERE D0011 IS NOT NULL AND D0031 IS NOT NULL AND D0061 IS NOT NULL AND D0071 IS NOT NULL AND D0021 IS NOT NULL AND D0041 IS NOT NULL AND D0051 IS NOT NULL\n",
        "                              GROUP BY D0011, D0031, D0061, D0071, D0021, D0041, D0051\n",
        "                              ORDER BY D0011, D0031, D0061, D0071, D0021, D0041, D0051\n",
        "                              ''')\n",
        "\n",
        "percentage_query.show()"
      ],
      "metadata": {
        "colab": {
          "base_uri": "https://localhost:8080/"
        },
        "id": "ox1OPiEgwyOZ",
        "outputId": "d173d9b3-a23f-4c48-cdba-bd5d301e8f40"
      },
      "execution_count": null,
      "outputs": [
        {
          "output_type": "stream",
          "name": "stdout",
          "text": [
            "+-----+-----+-----+-----+-----+-----+-----+-----+--------------------+\n",
            "|D0011|D0031|D0061|D0071|D0021|D0041|D0051|count|          percentage|\n",
            "+-----+-----+-----+-----+-----+-----+-----+-----+--------------------+\n",
            "|    1|    1|    1|    2|    2|    2|    1|   28|0.007340642515952789|\n",
            "|    1|    1|    1|    2|    2|    2|    2|   28|0.007340642515952789|\n",
            "|    1|    1|    2|    1|    1|    2|    1|    4|0.001048663216564...|\n",
            "|    1|    1|    2|    1|    2|    2|    1|   58| 0.01520561664018792|\n",
            "|    1|    1|    2|    1|    2|    2|    2|   35|0.009175803144940986|\n",
            "|    1|    1|    2|    2|    1|    1|    2|    5|0.001310829020705...|\n",
            "|    1|    1|    2|    2|    1|    2|    1|  284| 0.07445508837609258|\n",
            "|    1|    1|    2|    2|    1|    2|    2|   85| 0.02228409335199954|\n",
            "|    1|    1|    2|    2|    2|    1|    1|  193|0.050598000199246006|\n",
            "|    1|    1|    2|    2|    2|    1|    2|   35|0.009175803144940986|\n",
            "|    1|    1|    2|    2|    2|    2|    1| 3917|   1.026903454820967|\n",
            "|    1|    1|    2|    2|    2|    2|    2|  917| 0.24040604239745386|\n",
            "|    1|    2|    1|    1|    1|    2|    2|    3|7.864974124235131E-4|\n",
            "|    1|    2|    1|    1|    2|    1|    1|    6|0.001572994824847...|\n",
            "|    1|    2|    1|    1|    2|    2|    1|   25|0.006554145103529276|\n",
            "|    1|    2|    1|    1|    2|    2|    2|   38|  0.0099623005573645|\n",
            "|    1|    2|    1|    2|    1|    2|    1|   13|0.003408155453835...|\n",
            "|    1|    2|    1|    2|    1|    2|    2|   18|0.004718984474541079|\n",
            "|    1|    2|    1|    2|    2|    1|    1|    6|0.001572994824847...|\n",
            "|    1|    2|    1|    2|    2|    1|    2|   11|0.002883823845552...|\n",
            "+-----+-----+-----+-----+-----+-----+-----+-----+--------------------+\n",
            "only showing top 20 rows\n",
            "\n"
          ]
        }
      ]
    },
    {
      "cell_type": "code",
      "source": [
        "# Primeira consulta para obter a contagem total de registros onde D0011 IS NOT NULL\n",
        "total_count = spark.sql('''\n",
        "                        SELECT count(*) as total\n",
        "                        FROM pnad\n",
        "                        WHERE D0011 IS NOT NULL\n",
        "                        ''').collect()[0]['total']\n",
        "\n",
        "# Segunda consulta para obter os percentuais\n",
        "percentage_query = spark.sql(f'''\n",
        "                              SELECT D0011, D0031, D0061, D0071, D0021, D0041, D0051,\n",
        "                                     count(*) as count,\n",
        "                                     (count(*) / {total_count} * 100) as percentage\n",
        "                              FROM pnad\n",
        "                              WHERE D0011 = 1 AND D0031 = 1 AND D0061 = 1 AND D0071 = 1 AND D0021 = 1 AND D0041 = 1 AND D0051 = 1\n",
        "                              GROUP BY D0011, D0031, D0061, D0071, D0021, D0041, D0051\n",
        "                              ''')\n",
        "\n",
        "# Mostrar os resultados\n",
        "percentage_query.show()"
      ],
      "metadata": {
        "colab": {
          "base_uri": "https://localhost:8080/"
        },
        "id": "iztqzXcKxhtF",
        "outputId": "c2318da3-98aa-4564-9fbb-453c291c00c6"
      },
      "execution_count": null,
      "outputs": [
        {
          "output_type": "stream",
          "name": "stdout",
          "text": [
            "+-----+-----+-----+-----+-----+-----+-----+-----+----------+\n",
            "|D0011|D0031|D0061|D0071|D0021|D0041|D0051|count|percentage|\n",
            "+-----+-----+-----+-----+-----+-----+-----+-----+----------+\n",
            "+-----+-----+-----+-----+-----+-----+-----+-----+----------+\n",
            "\n"
          ]
        }
      ]
    },
    {
      "cell_type": "code",
      "source": [
        "filtered_query = spark.sql('''\n",
        "                          SELECT D0011, D0031, D0061, D0071, D0021, D0041, D0051, count(*) as count,\n",
        "                                 (count(*) / {} * 100) as percentage\n",
        "                          FROM pnad\n",
        "                          WHERE D0011 = 1 AND D0031 = 1 AND D0061 = 1 AND D0071 = 1 AND D0021 = 1 AND D0041 = 1 AND D0051 = 1\n",
        "                          GROUP BY D0011, D0031, D0061, D0071, D0021, D0041, D0051\n",
        "                          '''.format(total_count))\n",
        "\n",
        "filtered_query.show()\n"
      ],
      "metadata": {
        "colab": {
          "base_uri": "https://localhost:8080/"
        },
        "id": "MlZ-KCb9yine",
        "outputId": "1c21d17b-74bc-4bd9-a326-60f33a331a18"
      },
      "execution_count": null,
      "outputs": [
        {
          "output_type": "stream",
          "name": "stdout",
          "text": [
            "+-----+-----+-----+-----+-----+-----+-----+-----+----------+\n",
            "|D0011|D0031|D0061|D0071|D0021|D0041|D0051|count|percentage|\n",
            "+-----+-----+-----+-----+-----+-----+-----+-----+----------+\n",
            "+-----+-----+-----+-----+-----+-----+-----+-----+----------+\n",
            "\n"
          ]
        }
      ]
    },
    {
      "cell_type": "code",
      "source": [
        "filtered_query = spark.sql('''\n",
        "                          SELECT D0011, D0031, D0061, D0071, D0021, D0041, D0051, count(*) as count,\n",
        "                                 (count(*) / {} * 100) as percentage\n",
        "                          FROM pnad\n",
        "                          WHERE\n",
        "                          (D0011 = 1 AND D0031 = 1 AND D0061 = 1 AND D0071 = 1 AND D0021 = 1 AND D0041 = 1 AND D0051 = 1)\n",
        "                          OR\n",
        "                          (D0011 = 2 AND D0031 = 2 AND D0061 = 2 AND D0071 = 2 AND D0021 = 2 AND D0041 = 2 AND D0051 = 2)\n",
        "                          GROUP BY D0011, D0031, D0061, D0071, D0021, D0041, D0051\n",
        "                          '''.format(total_count))\n",
        "\n",
        "filtered_query.show()"
      ],
      "metadata": {
        "colab": {
          "base_uri": "https://localhost:8080/"
        },
        "id": "YL718S2FypbR",
        "outputId": "d7b94d11-1f9c-4308-c36f-12a4c7ec47d8"
      },
      "execution_count": null,
      "outputs": [
        {
          "output_type": "stream",
          "name": "stdout",
          "text": [
            "+-----+-----+-----+-----+-----+-----+-----+-----+------------------+\n",
            "|D0011|D0031|D0061|D0071|D0021|D0041|D0051|count|        percentage|\n",
            "+-----+-----+-----+-----+-----+-----+-----+-----+------------------+\n",
            "|    2|    2|    2|    2|    2|    2|    2|87627|22.972802919478394|\n",
            "+-----+-----+-----+-----+-----+-----+-----+-----+------------------+\n",
            "\n"
          ]
        }
      ]
    },
    {
      "cell_type": "code",
      "source": [
        "filtered_query = spark.sql('''\n",
        "                          SELECT D0011, D0031, D0061, D0071, D0021, D0041, D0051, count(*) as count,\n",
        "                                 (count(*) / {} * 100) as percentage\n",
        "                          FROM pnad\n",
        "                          WHERE D0011 = 1 AND D0031 = 1 AND D0061 = 1 AND D0071 = 1 AND D0021 = 1 AND D0041 = 1 AND D0051 = 1\n",
        "                          GROUP BY D0011, D0031, D0061, D0071, D0021, D0041, D0051\n",
        "                          '''.format(total_count))\n",
        "\n",
        "filtered_query.show()"
      ],
      "metadata": {
        "colab": {
          "base_uri": "https://localhost:8080/"
        },
        "id": "Bc_ZcmDFy4RG",
        "outputId": "a343623b-e160-4f3b-cacf-a88a2b28388d"
      },
      "execution_count": null,
      "outputs": [
        {
          "output_type": "stream",
          "name": "stdout",
          "text": [
            "+-----+-----+-----+-----+-----+-----+-----+-----+----------+\n",
            "|D0011|D0031|D0061|D0071|D0021|D0041|D0051|count|percentage|\n",
            "+-----+-----+-----+-----+-----+-----+-----+-----+----------+\n",
            "+-----+-----+-----+-----+-----+-----+-----+-----+----------+\n",
            "\n"
          ]
        }
      ]
    },
    {
      "cell_type": "code",
      "source": [
        "filtered_query = spark.sql('''\n",
        "                          SELECT D0011, D0031, D0061, D0071, D0021, D0041, D0051, count(*) as count,\n",
        "                                 (count(*) / {} * 100) as percentage\n",
        "                          FROM pnad\n",
        "                          WHERE D0011 = 1 AND D0031 = 1 AND D0061 = 1 AND D0071 = 1 AND D0021 = 1 AND D0041 = 1 AND D0051 = 1\n",
        "                          GROUP BY D0011, D0031, D0061, D0071, D0021, D0041, D0051\n",
        "                          '''.format(total_count))\n",
        "\n",
        "filtered_query.show()"
      ],
      "metadata": {
        "colab": {
          "base_uri": "https://localhost:8080/"
        },
        "id": "lW6zMXlfzJYB",
        "outputId": "db78d279-03a7-44cc-aed6-279123405c08"
      },
      "execution_count": null,
      "outputs": [
        {
          "output_type": "stream",
          "name": "stdout",
          "text": [
            "+-----+-----+-----+-----+-----+-----+-----+-----+----------+\n",
            "|D0011|D0031|D0061|D0071|D0021|D0041|D0051|count|percentage|\n",
            "+-----+-----+-----+-----+-----+-----+-----+-----+----------+\n",
            "+-----+-----+-----+-----+-----+-----+-----+-----+----------+\n",
            "\n"
          ]
        }
      ]
    },
    {
      "cell_type": "code",
      "source": [
        "print(pnad.dtypes)\n"
      ],
      "metadata": {
        "colab": {
          "base_uri": "https://localhost:8080/"
        },
        "id": "ePJxPqvtyQEq",
        "outputId": "9d74d3f7-5196-4196-b451-ebe7e15b467a"
      },
      "execution_count": null,
      "outputs": [
        {
          "output_type": "stream",
          "name": "stdout",
          "text": [
            "[('Ano', 'int'), ('UF', 'int'), ('CAPITAL', 'int'), ('RM_RIDE', 'int'), ('B0011', 'int'), ('B0012', 'int'), ('B0014', 'int'), ('B002', 'int'), ('B0031', 'int'), ('B0033', 'int'), ('B0042', 'int'), ('B005', 'int'), ('C001', 'int'), ('C002', 'int'), ('C013', 'int'), ('C014', 'int'), ('C015', 'int'), ('C016', 'int'), ('D0011', 'int'), ('D0021', 'int'), ('D0031', 'int'), ('D0041', 'int'), ('D0051', 'int'), ('D0061', 'int'), ('D0071', 'int')]\n"
          ]
        }
      ]
    },
    {
      "cell_type": "code",
      "source": [
        "pnad =spark.sql('''\\\n",
        "                  SELECT *\n",
        "                  FROM cereal\n",
        "                  ''')\n",
        "cereal.show()"
      ],
      "metadata": {
        "colab": {
          "base_uri": "https://localhost:8080/"
        },
        "id": "V46rT0fk9m0o",
        "outputId": "65b4dfef-402a-4076-9df4-278923d13310"
      },
      "execution_count": null,
      "outputs": [
        {
          "output_type": "stream",
          "name": "stdout",
          "text": [
            "+--------------------+---+----+--------+-------+---+------+-----+-----+------+------+--------+-----+------+----+---------+\n",
            "|                name|mfr|type|calories|protein|fat|sodium|fiber|carbo|sugars|potass|vitamins|shelf|weight|cups|   rating|\n",
            "+--------------------+---+----+--------+-------+---+------+-----+-----+------+------+--------+-----+------+----+---------+\n",
            "|Apple Cinnamon Ch...|  G|   C|     110|      2|  2|   180|  1.5| 10.5|    10|    70|      25|    1|   1.0|0.75|29.509541|\n",
            "|             Basic 4|  G|   C|     130|      3|  2|   210|  2.0| 18.0|     8|   100|      25|    3|  1.33|0.75|37.038562|\n",
            "|            Cheerios|  G|   C|     110|      6|  2|   290|  2.0| 17.0|     1|   105|      25|    1|   1.0|1.25|50.764999|\n",
            "|Cinnamon Toast Cr...|  G|   C|     120|      1|  3|   210|  0.0| 13.0|     9|    45|      25|    2|   1.0|0.75|19.823573|\n",
            "|            Clusters|  G|   C|     110|      3|  2|   140|  2.0| 13.0|     7|   105|      25|    3|   1.0| 0.5|40.400208|\n",
            "|         Cocoa Puffs|  G|   C|     110|      1|  1|   180|  0.0| 12.0|    13|    55|      25|    2|   1.0| 1.0|22.736446|\n",
            "|       Count Chocula|  G|   C|     110|      1|  1|   180|  0.0| 12.0|    13|    65|      25|    2|   1.0| 1.0|22.396513|\n",
            "|Crispy Wheat & Ra...|  G|   C|     100|      2|  1|   140|  2.0| 11.0|    10|   120|      25|    3|   1.0|0.75|36.176196|\n",
            "|      Golden Grahams|  G|   C|     110|      1|  1|   280|  0.0| 15.0|     9|    45|      25|    2|   1.0|0.75|23.804043|\n",
            "|  Honey Nut Cheerios|  G|   C|     110|      3|  1|   250|  1.5| 11.5|    10|    90|      25|    1|   1.0|0.75|31.072217|\n",
            "|                 Kix|  G|   C|     110|      2|  1|   260|  0.0| 21.0|     3|    40|      25|    2|   1.0| 1.5|39.241114|\n",
            "|        Lucky Charms|  G|   C|     110|      2|  1|   180|  0.0| 12.0|    12|    55|      25|    2|   1.0| 1.0|26.734515|\n",
            "|Multi-Grain Cheerios|  G|   C|     100|      2|  1|   220|  2.0| 15.0|     6|    90|      25|    1|   1.0| 1.0|40.105965|\n",
            "|Oatmeal Raisin Crisp|  G|   C|     130|      3|  2|   170|  1.5| 13.5|    10|   120|      25|    3|  1.25| 0.5|30.450843|\n",
            "|     Raisin Nut Bran|  G|   C|     100|      3|  2|   140|  2.5| 10.5|     8|   140|      25|    3|   1.0| 0.5|  39.7034|\n",
            "|   Total Corn Flakes|  G|   C|     110|      2|  1|   200|  0.0| 21.0|     3|    35|     100|    3|   1.0| 1.0|38.839746|\n",
            "|   Total Raisin Bran|  G|   C|     140|      3|  1|   190|  4.0| 15.0|    14|   230|     100|    3|   1.5| 1.0|28.592785|\n",
            "|   Total Whole Grain|  G|   C|     100|      3|  1|   200|  3.0| 16.0|     3|   110|     100|    3|   1.0| 1.0|46.658844|\n",
            "|             Triples|  G|   C|     110|      2|  1|   250|  0.0| 21.0|     3|    60|      25|    3|   1.0|0.75|39.106174|\n",
            "|                Trix|  G|   C|     110|      1|  1|   140|  0.0| 13.0|    12|    25|      25|    2|   1.0| 1.0|27.753301|\n",
            "+--------------------+---+----+--------+-------+---+------+-----+-----+------+------+--------+-----+------+----+---------+\n",
            "only showing top 20 rows\n",
            "\n"
          ]
        }
      ]
    },
    {
      "cell_type": "code",
      "source": [
        "pnad =spark.sql('''\n",
        "                  SELECT mfr,\n",
        "                         type,\n",
        "                         sum(calories) as sum_calories,\n",
        "                         max(calories) as min_calories,\n",
        "                         min(calories) as max_calories,\n",
        "                         avg(calories) as avg_calories,\n",
        "                         count(distinct name) as distinct_name_count,\n",
        "                         count(name) as name_count\n",
        "                  FROM cereal\n",
        "                  GROUP BY  mfr, type\n",
        "                  ORDER BY mfr, type\n",
        "                  ''')\n",
        "pnad.show()"
      ],
      "metadata": {
        "colab": {
          "base_uri": "https://localhost:8080/"
        },
        "id": "hfBMnYWQ90aq",
        "outputId": "f9e9f0ee-5126-4d7c-861a-2bed09e3430b"
      },
      "execution_count": null,
      "outputs": [
        {
          "output_type": "stream",
          "name": "stdout",
          "text": [
            "+---+----+------------+------------+------------+------------------+-------------------+----------+\n",
            "|mfr|type|sum_calories|min_calories|max_calories|      avg_calories|distinct_name_count|name_count|\n",
            "+---+----+------------+------------+------------+------------------+-------------------+----------+\n",
            "|  A|   H|         100|         100|         100|             100.0|                  1|         1|\n",
            "|  G|   C|        2450|         140|         100|111.36363636363636|                 22|        22|\n",
            "|  K|   C|        2500|         160|          50|108.69565217391305|                 23|        23|\n",
            "|  N|   C|         420|          90|          70|              84.0|                  5|         5|\n",
            "|  N|   H|         100|         100|         100|             100.0|                  1|         1|\n",
            "|  P|   C|         980|         120|          90|108.88888888888889|                  9|         9|\n",
            "|  Q|   C|         660|         120|          50| 94.28571428571429|                  7|         7|\n",
            "|  Q|   H|         100|         100|         100|             100.0|                  1|         1|\n",
            "|  R|   C|         920|         150|          90|             115.0|                  8|         8|\n",
            "+---+----+------------+------------+------------+------------------+-------------------+----------+\n",
            "\n"
          ]
        }
      ]
    },
    {
      "cell_type": "code",
      "source": [
        "cereal.show()"
      ],
      "metadata": {
        "colab": {
          "base_uri": "https://localhost:8080/"
        },
        "id": "Jk815oAn_D-Y",
        "outputId": "381998d4-254a-44ac-d291-cc8907885de0"
      },
      "execution_count": null,
      "outputs": [
        {
          "output_type": "stream",
          "name": "stdout",
          "text": [
            "+---+----+------------+------------+------------+------------------+-------------------+----------+\n",
            "|mfr|type|sum_calories|min_calories|max_calories|      avg_calories|distinct_name_count|name_count|\n",
            "+---+----+------------+------------+------------+------------------+-------------------+----------+\n",
            "|  A|   H|         100|         100|         100|             100.0|                  1|         1|\n",
            "|  G|   C|        2450|         140|         100|111.36363636363636|                 22|        22|\n",
            "|  K|   C|        2500|         160|          50|108.69565217391305|                 23|        23|\n",
            "|  N|   C|         420|          90|          70|              84.0|                  5|         5|\n",
            "|  N|   H|         100|         100|         100|             100.0|                  1|         1|\n",
            "|  P|   C|         980|         120|          90|108.88888888888889|                  9|         9|\n",
            "|  Q|   C|         660|         120|          50| 94.28571428571429|                  7|         7|\n",
            "|  Q|   H|         100|         100|         100|             100.0|                  1|         1|\n",
            "|  R|   C|         920|         150|          90|             115.0|                  8|         8|\n",
            "+---+----+------------+------------+------------+------------------+-------------------+----------+\n",
            "\n"
          ]
        }
      ]
    },
    {
      "cell_type": "code",
      "source": [
        "cereal =spark.sql('''\n",
        "                  SELECT mfr,\n",
        "                         type,\n",
        "                         sum(calories) as sum_calories,\n",
        "                         max(calories) as min_calories,\n",
        "                         min(calories) as max_calories,\n",
        "                         avg(calories) as avg_calories,\n",
        "\n",
        "\n",
        "                         sum(carbo) as sum_carbo,\n",
        "                         max(carbo) as min_carbo,\n",
        "                         min(carbo) as max_carbo,\n",
        "                         avg(carbo) as avg_carbo,\n",
        "\n",
        "                         sum(vitamins) as sum_vitamins,\n",
        "                         max(vitamins) as min_vitamins,\n",
        "                         min(vitamins) as max_vitamins,\n",
        "                         avg(vitamins) as avg_vitamins,\n",
        "                         count(distinct name) as distinct_name_count,\n",
        "                         count(name) as name_count\n",
        "\n",
        "\n",
        "                  FROM cereal\n",
        "                  GROUP BY  mfr, type\n",
        "                  ORDER BY mfr, type\n",
        "                  ''')\n",
        "cereal.show()"
      ],
      "metadata": {
        "colab": {
          "base_uri": "https://localhost:8080/"
        },
        "id": "2raaszMBBDDW",
        "outputId": "588cc9c5-86f9-4d3c-fba6-046e70e17088"
      },
      "execution_count": null,
      "outputs": [
        {
          "output_type": "stream",
          "name": "stdout",
          "text": [
            "+---+----+------------+------------+------------+------------------+---------+---------+---------+------------------+------------+------------+------------+------------------+-------------------+----------+\n",
            "|mfr|type|sum_calories|min_calories|max_calories|      avg_calories|sum_carbo|min_carbo|max_carbo|         avg_carbo|sum_vitamins|min_vitamins|max_vitamins|      avg_vitamins|distinct_name_count|name_count|\n",
            "+---+----+------------+------------+------------+------------------+---------+---------+---------+------------------+------------+------------+------------+------------------+-------------------+----------+\n",
            "|  A|   H|         100|         100|         100|             100.0|     16.0|     16.0|     16.0|              16.0|          25|          25|          25|              25.0|                  1|         1|\n",
            "|  G|   C|        2450|         140|         100|111.36363636363636|    324.0|     21.0|     10.5|14.727272727272727|         775|         100|          25| 35.22727272727273|                 22|        22|\n",
            "|  K|   C|        2500|         160|          50|108.69565217391305|    348.0|     22.0|      7.0|15.130434782608695|         800|         100|          25| 34.78260869565217|                 23|        23|\n",
            "|  N|   C|         420|          90|          70|              84.0|     75.0|     20.0|      5.0|              15.0|          50|          25|           0|              10.0|                  5|         5|\n",
            "|  N|   H|         100|         100|         100|             100.0|     21.0|     21.0|     21.0|              21.0|           0|           0|           0|               0.0|                  1|         1|\n",
            "|  P|   C|         980|         120|          90|108.88888888888889|    119.0|     17.0|     11.0|13.222222222222221|         225|          25|          25|              25.0|                  9|         9|\n",
            "|  Q|   C|         660|         120|          50| 94.28571428571429|     81.0|     14.0|      8.0|11.571428571428571|         100|          25|           0|14.285714285714286|                  7|         7|\n",
            "|  Q|   H|         100|         100|         100|             100.0|     -1.0|     -1.0|     -1.0|              -1.0|           0|           0|           0|               0.0|                  1|         1|\n",
            "|  R|   C|         920|         150|          90|             115.0|    141.0|     23.0|     14.0|            17.625|         200|          25|          25|              25.0|                  8|         8|\n",
            "+---+----+------------+------------+------------+------------------+---------+---------+---------+------------------+------------+------------+------------+------------------+-------------------+----------+\n",
            "\n"
          ]
        }
      ]
    },
    {
      "cell_type": "code",
      "source": [
        "cereal =spark.sql('''\n",
        "                  SELECT mfr,\n",
        "                         type,\n",
        "\n",
        "                         sum(calories) as sum_calories,\n",
        "                         max(calories) as min_calories,\n",
        "                         min(calories) as max_calories,\n",
        "                         cast(avg(calories) as decimal(10,2)) as avg_calories,\n",
        "\n",
        "\n",
        "                         sum(carbo) as sum_carbo,\n",
        "                         max(carbo) as min_carbo,\n",
        "                         min(carbo) as max_carbo,\n",
        "                         cast(avg(carbo) as decimal(10,2)) as avg_carbo,\n",
        "\n",
        "                         sum(vitamins) as sum_vitamins,\n",
        "                         max(vitamins) as min_vitamins,\n",
        "                         min(vitamins) as max_vitamins,\n",
        "                         cast(avg(vitamins) as decimal(10,2)) as avg_vitamins,\n",
        "                         count(distinct name) as distinct_name_count,\n",
        "                         count(name) as name_count\n",
        "\n",
        "\n",
        "                  FROM cereal\n",
        "                  GROUP BY  mfr, type\n",
        "                  ORDER BY mfr, type\n",
        "                  ''')\n",
        "cereal.show()"
      ],
      "metadata": {
        "colab": {
          "base_uri": "https://localhost:8080/"
        },
        "id": "PVRRdU6ICMg5",
        "outputId": "17785ace-e0b0-44b2-a742-0ca2ed8ff2b3"
      },
      "execution_count": null,
      "outputs": [
        {
          "output_type": "stream",
          "name": "stdout",
          "text": [
            "+---+----+------------+------------+------------+------------+---------+---------+---------+---------+------------+------------+------------+------------+-------------------+----------+\n",
            "|mfr|type|sum_calories|min_calories|max_calories|avg_calories|sum_carbo|min_carbo|max_carbo|avg_carbo|sum_vitamins|min_vitamins|max_vitamins|avg_vitamins|distinct_name_count|name_count|\n",
            "+---+----+------------+------------+------------+------------+---------+---------+---------+---------+------------+------------+------------+------------+-------------------+----------+\n",
            "|  A|   H|         100|         100|         100|      100.00|     16.0|     16.0|     16.0|    16.00|          25|          25|          25|       25.00|                  1|         1|\n",
            "|  G|   C|        2450|         140|         100|      111.36|    324.0|     21.0|     10.5|    14.73|         775|         100|          25|       35.23|                 22|        22|\n",
            "|  K|   C|        2500|         160|          50|      108.70|    348.0|     22.0|      7.0|    15.13|         800|         100|          25|       34.78|                 23|        23|\n",
            "|  N|   C|         420|          90|          70|       84.00|     75.0|     20.0|      5.0|    15.00|          50|          25|           0|       10.00|                  5|         5|\n",
            "|  N|   H|         100|         100|         100|      100.00|     21.0|     21.0|     21.0|    21.00|           0|           0|           0|        0.00|                  1|         1|\n",
            "|  P|   C|         980|         120|          90|      108.89|    119.0|     17.0|     11.0|    13.22|         225|          25|          25|       25.00|                  9|         9|\n",
            "|  Q|   C|         660|         120|          50|       94.29|     81.0|     14.0|      8.0|    11.57|         100|          25|           0|       14.29|                  7|         7|\n",
            "|  Q|   H|         100|         100|         100|      100.00|     -1.0|     -1.0|     -1.0|    -1.00|           0|           0|           0|        0.00|                  1|         1|\n",
            "|  R|   C|         920|         150|          90|      115.00|    141.0|     23.0|     14.0|    17.63|         200|          25|          25|       25.00|                  8|         8|\n",
            "+---+----+------------+------------+------------+------------+---------+---------+---------+---------+------------+------------+------------+------------+-------------------+----------+\n",
            "\n"
          ]
        }
      ]
    },
    {
      "cell_type": "code",
      "source": [
        "cereal =spark.sql('''\n",
        "                  SELECT mfr,\n",
        "                         type,\n",
        "\n",
        "                         (CASE\n",
        "                              WHEN mfr ='A' THEN 'Abacaxi'\n",
        "                              WHEN mfr ='G' THEN 'Goiaba'\n",
        "                              WHEN mfr ='K' THEN 'Banana'\n",
        "                              WHEN mfr ='N' THEN 'Maca'\n",
        "                              WHEN mfr ='P' THEN 'Tomaate'\n",
        "                              WHEN mfr ='Q' THEN 'Pera'\n",
        "                              WHEN mfr ='R' THEN 'Uva'\n",
        "                              else 'NA'\n",
        "\n",
        "                         END) as type_fruit,\n",
        "\n",
        "                         sum(calories) as sum_calories,\n",
        "                         max(calories) as min_calories,\n",
        "                         min(calories) as max_calories,\n",
        "                         cast(avg(calories) as decimal(10,2)) as avg_calories,\n",
        "\n",
        "\n",
        "                         sum(carbo) as sum_carbo,\n",
        "                         max(carbo) as min_carbo,\n",
        "                         min(carbo) as max_carbo,\n",
        "                         cast(avg(carbo) as decimal(10,2)) as avg_carbo,\n",
        "\n",
        "                         sum(vitamins) as sum_vitamins,\n",
        "                         max(vitamins) as min_vitamins,\n",
        "                         min(vitamins) as max_vitamins,\n",
        "                         cast(avg(vitamins) as decimal(10,2)) as avg_vitamins,\n",
        "                         count(distinct name) as distinct_name_count,\n",
        "                         count(name) as name_count\n",
        "\n",
        "\n",
        "                  FROM cereal\n",
        "                  GROUP BY  mfr, type\n",
        "                  ORDER BY mfr, type\n",
        "                  ''')\n",
        "cereal.show()"
      ],
      "metadata": {
        "colab": {
          "base_uri": "https://localhost:8080/"
        },
        "id": "iElh1d2SB7VE",
        "outputId": "064cde65-1faf-402b-e357-dc43f8306874"
      },
      "execution_count": null,
      "outputs": [
        {
          "output_type": "stream",
          "name": "stdout",
          "text": [
            "+---+----+----------+------------+------------+------------+------------+---------+---------+---------+---------+------------+------------+------------+------------+-------------------+----------+\n",
            "|mfr|type|type_fruit|sum_calories|min_calories|max_calories|avg_calories|sum_carbo|min_carbo|max_carbo|avg_carbo|sum_vitamins|min_vitamins|max_vitamins|avg_vitamins|distinct_name_count|name_count|\n",
            "+---+----+----------+------------+------------+------------+------------+---------+---------+---------+---------+------------+------------+------------+------------+-------------------+----------+\n",
            "|  A|   H|   Abacaxi|         100|         100|         100|      100.00|     16.0|     16.0|     16.0|    16.00|          25|          25|          25|       25.00|                  1|         1|\n",
            "|  G|   C|    Goiaba|        2450|         140|         100|      111.36|    324.0|     21.0|     10.5|    14.73|         775|         100|          25|       35.23|                 22|        22|\n",
            "|  K|   C|    Banana|        2500|         160|          50|      108.70|    348.0|     22.0|      7.0|    15.13|         800|         100|          25|       34.78|                 23|        23|\n",
            "|  N|   C|      Maca|         420|          90|          70|       84.00|     75.0|     20.0|      5.0|    15.00|          50|          25|           0|       10.00|                  5|         5|\n",
            "|  N|   H|      Maca|         100|         100|         100|      100.00|     21.0|     21.0|     21.0|    21.00|           0|           0|           0|        0.00|                  1|         1|\n",
            "|  P|   C|   Tomaate|         980|         120|          90|      108.89|    119.0|     17.0|     11.0|    13.22|         225|          25|          25|       25.00|                  9|         9|\n",
            "|  Q|   C|      Pera|         660|         120|          50|       94.29|     81.0|     14.0|      8.0|    11.57|         100|          25|           0|       14.29|                  7|         7|\n",
            "|  Q|   H|      Pera|         100|         100|         100|      100.00|     -1.0|     -1.0|     -1.0|    -1.00|           0|           0|           0|        0.00|                  1|         1|\n",
            "|  R|   C|       Uva|         920|         150|          90|      115.00|    141.0|     23.0|     14.0|    17.63|         200|          25|          25|       25.00|                  8|         8|\n",
            "+---+----+----------+------------+------------+------------+------------+---------+---------+---------+---------+------------+------------+------------+------------+-------------------+----------+\n",
            "\n"
          ]
        }
      ]
    },
    {
      "cell_type": "markdown",
      "source": [
        "# Joins"
      ],
      "metadata": {
        "id": "qJe_KSnzFXnQ"
      }
    },
    {
      "cell_type": "markdown",
      "source": [
        "##INNER JOIN"
      ],
      "metadata": {
        "id": "ZJ3PJ8nVFaui"
      }
    },
    {
      "cell_type": "code",
      "source": [
        "sales = spark.read.csv(\"sales_data_sample.csv\",sep =\",\", inferSchema= True, header = True)"
      ],
      "metadata": {
        "id": "7ZnWe3vjFZ7E"
      },
      "execution_count": null,
      "outputs": []
    },
    {
      "cell_type": "code",
      "source": [
        "sales.show()"
      ],
      "metadata": {
        "id": "lzNxm9GLGAcV"
      },
      "execution_count": null,
      "outputs": []
    },
    {
      "cell_type": "code",
      "source": [
        "sales.printSchema()"
      ],
      "metadata": {
        "id": "aBHxc2NrGFlP"
      },
      "execution_count": null,
      "outputs": []
    },
    {
      "cell_type": "code",
      "source": [
        "sales.createOrReplaceTempView(\"sales\")"
      ],
      "metadata": {
        "id": "yRNgnpf6JKy-"
      },
      "execution_count": null,
      "outputs": []
    },
    {
      "cell_type": "code",
      "source": [
        "data = spark.sql('''\n",
        "                 SELECT *\n",
        "                 FROM sales\n",
        "                  ''')\n",
        "data.show()"
      ],
      "metadata": {
        "id": "1N1fb9DUGLfq"
      },
      "execution_count": null,
      "outputs": []
    },
    {
      "cell_type": "code",
      "source": [
        "calendar = spark.sql('''\n",
        "                 SELECT DISTINCT orderdate, qtr_id, month_id, year_id\n",
        "                 FROM sales\n",
        "                 ORDER BY orderdate\n",
        "                  ''')\n",
        "calendar.show()\n",
        "calendar.createOrReplaceTempView(\"calendar\")"
      ],
      "metadata": {
        "id": "6J2v4qSLJVkT"
      },
      "execution_count": null,
      "outputs": []
    },
    {
      "cell_type": "code",
      "source": [
        "sales_data = spark.sql('''\n",
        "                 SELECT DISTINCT ordernumber,\n",
        "                                 customername,\n",
        "                                 quantityordered,\n",
        "                                 product_code,\n",
        "                                 orderlinenumber,\n",
        "                                 priceeach\n",
        "                 FROM sales\n",
        "                 ORDER BY ordernumber\n",
        "                  ''')\n",
        "sales_data.show()\n",
        "sales_data.createOrReplaceTempView(\"sales_data\")"
      ],
      "metadata": {
        "id": "aEGRtW88JvKV"
      },
      "execution_count": null,
      "outputs": []
    },
    {
      "cell_type": "code",
      "source": [
        "customers = spark.sql('''\n",
        "                 SELECT DISTINCT customername,\n",
        "                                 phone,\n",
        "                                 addressline1,\n",
        "                                 addressline2,\n",
        "                                 city,\n",
        "                                 state,\n",
        "                                 postalcode,\n",
        "                                 country,\n",
        "                                 territory,\n",
        "                 FROM sales\n",
        "                 ORDER BY customername\n",
        "                  ''')\n",
        "customers.show()\n",
        "customers.createOrReplaceTempView(\"customers\")"
      ],
      "metadata": {
        "id": "pZ48UWmKKXvC"
      },
      "execution_count": null,
      "outputs": []
    },
    {
      "cell_type": "code",
      "source": [
        "#Master é a tabela final\n",
        "master = spark.sql('''\n",
        "                 SELECT DISTINCT s.ordernumber, c.city\n",
        "                 FROM sales_data s\n",
        "                 --INNER JOIN customers c ON s.customername = c.customername\n",
        "                  ''')\n",
        "master.show()"
      ],
      "metadata": {
        "id": "4N_JSZ-ILlAJ"
      },
      "execution_count": null,
      "outputs": []
    },
    {
      "cell_type": "markdown",
      "source": [
        "#Tranformations and actions"
      ],
      "metadata": {
        "id": "58WYy31bmif3"
      }
    },
    {
      "cell_type": "code",
      "source": [
        "sc = SparkContext.getOrCreate()"
      ],
      "metadata": {
        "id": "PACogpWXNS7a"
      },
      "execution_count": null,
      "outputs": []
    },
    {
      "cell_type": "code",
      "source": [
        "spark = SparkSession.builder.appName(\"PySpark Dataframe\").getOrCreate()"
      ],
      "metadata": {
        "id": "9Xo_AE2hm3AV"
      },
      "execution_count": null,
      "outputs": []
    },
    {
      "cell_type": "markdown",
      "source": [
        "##Transformações"
      ],
      "metadata": {
        "id": "T_yZ7EixoDUY"
      }
    },
    {
      "cell_type": "markdown",
      "source": [
        "### Mapping"
      ],
      "metadata": {
        "id": "P6GgmkgcoHcg"
      }
    },
    {
      "cell_type": "code",
      "source": [
        "data = [1,2,3,4,5]\n",
        "myRDD = sc.parallelize(data)\n",
        "newRDD = myRDD.map(lambda x: x*2)\n",
        "print(newRDD.collect())"
      ],
      "metadata": {
        "colab": {
          "base_uri": "https://localhost:8080/"
        },
        "id": "LCMtaeQnnE6n",
        "outputId": "a6b5b941-102d-4f2b-dd73-f7aa2ff91b00"
      },
      "execution_count": null,
      "outputs": [
        {
          "output_type": "stream",
          "name": "stdout",
          "text": [
            "[2, 4, 6, 8, 10]\n"
          ]
        }
      ]
    },
    {
      "cell_type": "markdown",
      "source": [
        "### Filter"
      ],
      "metadata": {
        "id": "x3RjaCjyo0iP"
      }
    },
    {
      "cell_type": "code",
      "source": [
        "data = [1,2,3,4,5]\n",
        "myRDD = sc.parallelize(data)\n",
        "newRDD = myRDD.filter(lambda x: x%2 == 0)\n",
        "print(newRDD.collect())"
      ],
      "metadata": {
        "colab": {
          "base_uri": "https://localhost:8080/"
        },
        "id": "12zjXLpXoZhG",
        "outputId": "9488600f-862e-4d0e-ba8d-1db435c61902"
      },
      "execution_count": null,
      "outputs": [
        {
          "output_type": "stream",
          "name": "stdout",
          "text": [
            "[2, 4]\n"
          ]
        }
      ]
    },
    {
      "cell_type": "markdown",
      "source": [
        "### Distinct"
      ],
      "metadata": {
        "id": "aQicCIc9pm_F"
      }
    },
    {
      "cell_type": "code",
      "source": [
        "data = [1,1,1,2,2,3,4,1,5,3,4,5]\n",
        "myRDD = sc.parallelize(data)\n",
        "newRDD = myRDD.distinct()\n",
        "print(newRDD.collect())"
      ],
      "metadata": {
        "colab": {
          "base_uri": "https://localhost:8080/"
        },
        "id": "OhdnZQJRpOqe",
        "outputId": "3e98c432-e281-4498-aa9d-7ad6eb304752"
      },
      "execution_count": null,
      "outputs": [
        {
          "output_type": "stream",
          "name": "stdout",
          "text": [
            "[2, 4, 1, 3, 5]\n"
          ]
        }
      ]
    },
    {
      "cell_type": "markdown",
      "source": [
        "### groupByKey"
      ],
      "metadata": {
        "id": "T_xJzGoWq4q-"
      }
    },
    {
      "cell_type": "code",
      "source": [
        "myRDD = sc.parallelize([('a',1),('a',2),('a',3),('b',1)])\n",
        "\n",
        "resultlist = myRDD.groupByKey().mapValues(list)\n",
        "resultlist.collect()"
      ],
      "metadata": {
        "colab": {
          "base_uri": "https://localhost:8080/"
        },
        "id": "KiQozH6Ip2JH",
        "outputId": "4ddd9ffd-8d65-4456-e580-49ad66286cbc"
      },
      "execution_count": null,
      "outputs": [
        {
          "output_type": "execute_result",
          "data": {
            "text/plain": [
              "[('b', [1]), ('a', [1, 2, 3])]"
            ]
          },
          "metadata": {},
          "execution_count": 15
        }
      ]
    },
    {
      "cell_type": "markdown",
      "source": [
        "### reduceByKey"
      ],
      "metadata": {
        "id": "2hytilo5rR7J"
      }
    },
    {
      "cell_type": "code",
      "source": [
        "#Reduzir os dados\n",
        "from operator import add\n",
        "myRDD = sc.parallelize([('a',1),('a',2),('a',3),('b',1)])\n",
        "newRDD = myRDD.reduceByKey(add)\n",
        "newRDD.collect()"
      ],
      "metadata": {
        "colab": {
          "base_uri": "https://localhost:8080/"
        },
        "id": "5qlwi5qnrQS8",
        "outputId": "c2ce6905-1e9c-4c25-f37b-39dc7dd29116"
      },
      "execution_count": null,
      "outputs": [
        {
          "output_type": "execute_result",
          "data": {
            "text/plain": [
              "[('b', 1), ('a', 6)]"
            ]
          },
          "metadata": {},
          "execution_count": 16
        }
      ]
    },
    {
      "cell_type": "markdown",
      "source": [
        "### SortByKey - ORDERBY no SQL"
      ],
      "metadata": {
        "id": "Nvf4Odbxrq0n"
      }
    },
    {
      "cell_type": "code",
      "source": [
        "myRDD = sc.parallelize([('a',1),('d',2),('a',3),('b',1)])\n",
        "newRDD = myRDD.sortByKey()\n",
        "newRDD.collect()"
      ],
      "metadata": {
        "colab": {
          "base_uri": "https://localhost:8080/"
        },
        "id": "jpp60qyTri4N",
        "outputId": "c7554653-678f-4a83-876d-c64581469932"
      },
      "execution_count": null,
      "outputs": [
        {
          "output_type": "execute_result",
          "data": {
            "text/plain": [
              "[('a', 1), ('a', 3), ('b', 1), ('d', 2)]"
            ]
          },
          "metadata": {},
          "execution_count": 19
        }
      ]
    },
    {
      "cell_type": "markdown",
      "source": [
        "### Union"
      ],
      "metadata": {
        "id": "VKQaQzkVr_Mt"
      }
    },
    {
      "cell_type": "code",
      "source": [
        "myRDD1 =sc.parallelize([1,2,3,4])\n",
        "myRDD2 =sc.parallelize([3,4,5,6,7])\n",
        "\n",
        "newRDD = myRDD1.union(myRDD2)\n",
        "newRDD.collect()"
      ],
      "metadata": {
        "colab": {
          "base_uri": "https://localhost:8080/"
        },
        "id": "tb9I8U3Vr2FN",
        "outputId": "57e37e53-a0e8-47a9-9392-05862cedfc6e"
      },
      "execution_count": null,
      "outputs": [
        {
          "output_type": "execute_result",
          "data": {
            "text/plain": [
              "[1, 2, 3, 4, 3, 4, 5, 6, 7]"
            ]
          },
          "metadata": {},
          "execution_count": 24
        }
      ]
    },
    {
      "cell_type": "markdown",
      "source": [
        "## Actions"
      ],
      "metadata": {
        "id": "OuVRZklHsc8M"
      }
    },
    {
      "cell_type": "markdown",
      "source": [
        "### count"
      ],
      "metadata": {
        "id": "VAjL4DnBs7Ef"
      }
    },
    {
      "cell_type": "code",
      "source": [
        "data = [\"Scala\", \"Python\", \"Java\", \"R\"]\n",
        "myRDD = sc.parallelize(data)\n",
        "myRDD.count()"
      ],
      "metadata": {
        "colab": {
          "base_uri": "https://localhost:8080/"
        },
        "id": "qmB67171sRqW",
        "outputId": "f07fc4e5-575e-4b93-d63a-4112612fb2c6"
      },
      "execution_count": null,
      "outputs": [
        {
          "output_type": "execute_result",
          "data": {
            "text/plain": [
              "4"
            ]
          },
          "metadata": {},
          "execution_count": 25
        }
      ]
    },
    {
      "cell_type": "markdown",
      "source": [
        "### reduce"
      ],
      "metadata": {
        "id": "PRWrombbtbz6"
      }
    },
    {
      "cell_type": "code",
      "source": [
        "data = [1,2,3,4,5,10]\n",
        "myRDD = sc.parallelize(data)\n",
        "myRDD.reduce(lambda x, y: x*y)"
      ],
      "metadata": {
        "colab": {
          "base_uri": "https://localhost:8080/"
        },
        "id": "L05XB8V_tOtM",
        "outputId": "ed523a21-59e5-4460-f98b-7726d0f4d18a"
      },
      "execution_count": null,
      "outputs": [
        {
          "output_type": "execute_result",
          "data": {
            "text/plain": [
              "1200"
            ]
          },
          "metadata": {},
          "execution_count": 27
        }
      ]
    },
    {
      "cell_type": "markdown",
      "source": [
        "### foreach"
      ],
      "metadata": {
        "id": "WeTcM6-ptvLM"
      }
    },
    {
      "cell_type": "code",
      "source": [
        "def fun(x):\n",
        "  print(x)\n",
        "\n",
        "data = [\"Scala\", \"Python\", \"Java\", \"R\"]\n",
        "myRDD = sc.parallelize(data)\n",
        "myRDD.foreach(fun)"
      ],
      "metadata": {
        "id": "_o_bgkV9ttfs"
      },
      "execution_count": null,
      "outputs": []
    },
    {
      "cell_type": "markdown",
      "source": [
        "### countByValue"
      ],
      "metadata": {
        "id": "H6mN5Ibdt_oO"
      }
    },
    {
      "cell_type": "code",
      "source": [
        "data = [\"Scala\", \"Python\",\"Java\", \"R\", \"Java\", \"R\"]\n",
        "myRDD = sc.parallelize(data)\n",
        "myRDD.countByValue().items()"
      ],
      "metadata": {
        "colab": {
          "base_uri": "https://localhost:8080/"
        },
        "id": "mDNkzGnSt6jc",
        "outputId": "43b0c6e6-3549-4d9d-8aa1-864243ab460a"
      },
      "execution_count": null,
      "outputs": [
        {
          "output_type": "execute_result",
          "data": {
            "text/plain": [
              "dict_items([('Scala', 1), ('Python', 1), ('Java', 2), ('R', 2)])"
            ]
          },
          "metadata": {},
          "execution_count": 29
        }
      ]
    },
    {
      "cell_type": "markdown",
      "source": [
        "### countByKey"
      ],
      "metadata": {
        "id": "-6v-Fkuculj8"
      }
    },
    {
      "cell_type": "code",
      "source": [
        "data = [('a',1),('d',2),('d',3),('b',1)]\n",
        "myRDD = sc.parallelize(data)\n",
        "myRDD.countByKey().items()"
      ],
      "metadata": {
        "colab": {
          "base_uri": "https://localhost:8080/"
        },
        "id": "4mzhZcc2uJ1a",
        "outputId": "aa02f888-e48a-4b9f-dc8f-a9567f039800"
      },
      "execution_count": null,
      "outputs": [
        {
          "output_type": "execute_result",
          "data": {
            "text/plain": [
              "dict_items([('a', 1), ('d', 2), ('b', 1)])"
            ]
          },
          "metadata": {},
          "execution_count": 33
        }
      ]
    },
    {
      "cell_type": "markdown",
      "source": [
        "### take(n)"
      ],
      "metadata": {
        "id": "E5K1mwVPu5vU"
      }
    },
    {
      "cell_type": "code",
      "source": [
        "#pega os primeiros n elementos\n",
        "data = [2,3,0,5,6,9]\n",
        "myRDD =sc.parallelize(data)\n",
        "myRDD.take(3)"
      ],
      "metadata": {
        "colab": {
          "base_uri": "https://localhost:8080/"
        },
        "id": "a8xrBSIjvbnK",
        "outputId": "ebb349fe-b81b-4234-b73a-0908da160fcb"
      },
      "execution_count": null,
      "outputs": [
        {
          "output_type": "execute_result",
          "data": {
            "text/plain": [
              "[2, 3, 0]"
            ]
          },
          "metadata": {},
          "execution_count": 35
        }
      ]
    },
    {
      "cell_type": "code",
      "source": [
        "#pega os maiores n elementos\n",
        "data = [2,3,0,5,6,9]\n",
        "myRDD =sc.parallelize(data)\n",
        "myRDD.top(3)"
      ],
      "metadata": {
        "colab": {
          "base_uri": "https://localhost:8080/"
        },
        "id": "--4N1wppuxGE",
        "outputId": "64839d41-8939-43a5-e039-827eae26f184"
      },
      "execution_count": null,
      "outputs": [
        {
          "output_type": "execute_result",
          "data": {
            "text/plain": [
              "[9, 6, 5]"
            ]
          },
          "metadata": {},
          "execution_count": 36
        }
      ]
    },
    {
      "cell_type": "markdown",
      "source": [
        "# Sistema de recomendação\n",
        "\n",
        "###Baseado no histórico de interações da empresa e usuário final. O objetivo é entender o que aquele perfil de cliente consome"
      ],
      "metadata": {
        "id": "Pedsq4036wmt"
      }
    },
    {
      "cell_type": "code",
      "source": [
        "import scipy\n",
        "from scipy import stats\n",
        "import numpy as np"
      ],
      "metadata": {
        "id": "qUlmuyQavs37"
      },
      "execution_count": null,
      "outputs": []
    },
    {
      "cell_type": "code",
      "source": [
        "matrix = np.array([[8,0,3,4,6],[5,6,1,8,9],[8,0,0,5,10]])\n",
        "novoUser = [8,0,2,3,0]\n",
        "nao_assistidos = [0,1,0,0,1]\n",
        "print(matrix)\n",
        "nomeFilmes = ['Round 6', 'A Invocação do mal', '9 desconhecidos','You', 'La casa del papel']"
      ],
      "metadata": {
        "colab": {
          "base_uri": "https://localhost:8080/"
        },
        "id": "V4iQ3iOw7QCY",
        "outputId": "092e1079-e37c-4d95-cf34-7ca914bc8b6f"
      },
      "execution_count": null,
      "outputs": [
        {
          "output_type": "stream",
          "name": "stdout",
          "text": [
            "[[ 8  0  3  4  6]\n",
            " [ 5  6  1  8  9]\n",
            " [ 8  0  0  5 10]]\n"
          ]
        }
      ]
    },
    {
      "cell_type": "code",
      "source": [
        "similarity = [0]*3\n",
        "print(matrix[0][0])\n",
        "print(matrix[1][0])\n",
        "print(matrix[1,:])\n",
        "\n",
        "for i in range(0,3):\n",
        "\n",
        "  temp = matrix[i,:]\n",
        "\n",
        "  print(i, temp)\n",
        "\n",
        "  tempUser = [t for n,t in zip(novoUser,temp) if n!=0]\n",
        "  tempNovoUser = [n for n in novoUser if n!=0]\n",
        "\n",
        "  print('user',i)\n",
        "  print(tempUser, tempNovoUser)\n",
        "\n",
        "  similarity[i] = scipy.stats.pearsonr(tempUser, tempNovoUser)[0]\n",
        "\n",
        "\n",
        "print()"
      ],
      "metadata": {
        "colab": {
          "base_uri": "https://localhost:8080/"
        },
        "id": "e4u0vKZS8Qs_",
        "outputId": "ab7b8380-013d-409f-950c-8a4dc25be902"
      },
      "execution_count": null,
      "outputs": [
        {
          "output_type": "stream",
          "name": "stdout",
          "text": [
            "8\n",
            "5\n",
            "[5 6 1 8 9]\n",
            "0 [8 0 3 4 6]\n",
            "user 0\n",
            "[8, 3, 4] [8, 2, 3]\n",
            "1 [5 6 1 8 9]\n",
            "user 1\n",
            "[5, 1, 8] [8, 2, 3]\n",
            "2 [ 8  0  0  5 10]\n",
            "user 2\n",
            "[8, 0, 5] [8, 2, 3]\n",
            "\n"
          ]
        }
      ]
    },
    {
      "cell_type": "code",
      "source": [
        "notas_peso = np.zeros((3,5))\n",
        "\n",
        "for nUser in range(3):\n",
        "  for nFilme in range(5):\n",
        "    print('nota_peso[',nUser'][',nFilme'] = nao_assistidos[',nFilmes']*matrix[',nUser'][',nFilme'])\n"
      ],
      "metadata": {
        "id": "SsulF_IK9zon"
      },
      "execution_count": null,
      "outputs": []
    },
    {
      "cell_type": "code",
      "source": [
        "notas_acumuladas = np.sum(nota_peso.T, axis =1)\n",
        "print(notas_acumuladas)"
      ],
      "metadata": {
        "colab": {
          "base_uri": "https://localhost:8080/",
          "height": 193
        },
        "id": "EhsBzzUDBSVL",
        "outputId": "c9900953-bcb6-4060-ee9e-46174d60c642"
      },
      "execution_count": null,
      "outputs": [
        {
          "output_type": "error",
          "ename": "NameError",
          "evalue": "ignored",
          "traceback": [
            "\u001b[0;31m---------------------------------------------------------------------------\u001b[0m",
            "\u001b[0;31mNameError\u001b[0m                                 Traceback (most recent call last)",
            "\u001b[0;32m<ipython-input-7-6280e836c900>\u001b[0m in \u001b[0;36m<cell line: 1>\u001b[0;34m()\u001b[0m\n\u001b[0;32m----> 1\u001b[0;31m \u001b[0mnotas_acumuladas\u001b[0m \u001b[0;34m=\u001b[0m \u001b[0mnp\u001b[0m\u001b[0;34m.\u001b[0m\u001b[0msum\u001b[0m\u001b[0;34m(\u001b[0m\u001b[0mnota_peso\u001b[0m\u001b[0;34m.\u001b[0m\u001b[0mT\u001b[0m\u001b[0;34m,\u001b[0m \u001b[0maxis\u001b[0m \u001b[0;34m=\u001b[0m\u001b[0;36m1\u001b[0m\u001b[0;34m)\u001b[0m\u001b[0;34m\u001b[0m\u001b[0;34m\u001b[0m\u001b[0m\n\u001b[0m\u001b[1;32m      2\u001b[0m \u001b[0mprint\u001b[0m\u001b[0;34m(\u001b[0m\u001b[0mnotas_acumuladas\u001b[0m\u001b[0;34m)\u001b[0m\u001b[0;34m\u001b[0m\u001b[0;34m\u001b[0m\u001b[0m\n",
            "\u001b[0;31mNameError\u001b[0m: name 'nota_peso' is not defined"
          ]
        }
      ]
    },
    {
      "cell_type": "code",
      "source": [
        "temp_peso = nota_peso\n",
        "temp_peso[nota_peso>0] = 1\n",
        "print(temp_peso)\n",
        "\n",
        "temp_similaridade = np.zeros((3,5)):\n",
        "for nUser in range(3):\n",
        "  for nFilme in range(5):\n",
        "    temp_similaridade[nUser][nFilme] = temp_peso[nUser][nFilme]*similarity[nUser]\n",
        "\n",
        "\n",
        "print(temp_similaridade)\n",
        "\n",
        "similaridade_acumulada = np.sum(temp_similaridade.T, axis =1)\n",
        "print(similaridade_acumulada)\n"
      ],
      "metadata": {
        "id": "OdND7jKqBj11"
      },
      "execution_count": null,
      "outputs": []
    },
    {
      "cell_type": "code",
      "source": [
        "nota_final = [0]*5\n",
        "\n",
        "for nFilme in range(5):\n",
        "\n",
        "  if(similaridade_acumulada[nFilme]>0):\n",
        "    nota_final[nFilme] = notas_acumuladas[nFilme]/similaridade_acumulada[nFilme]\n",
        "\n",
        "  else:\n",
        "    nota_final[nFilme]=0\n",
        "\n",
        "print(nota_final)"
      ],
      "metadata": {
        "id": "Yxyt3BFYCZbn"
      },
      "execution_count": null,
      "outputs": []
    },
    {
      "cell_type": "code",
      "source": [
        "nAssistidos = sum(nao_assistidos)\n",
        "\n",
        "notasOrdenadasIndex = sorted(range(len(nota_final)),key=nota_final.__getitem__)[::-1][0:nAssistidos]\n",
        "print(notasOrdenadas)\n",
        "\n",
        "\n",
        "\n",
        "for i in notasOrdenadasIndex:\n",
        "  print(nomesFilmes[i], 'nota: ',nota_final[i])"
      ],
      "metadata": {
        "id": "66L-hFv1DK5E"
      },
      "execution_count": null,
      "outputs": []
    }
  ]
}